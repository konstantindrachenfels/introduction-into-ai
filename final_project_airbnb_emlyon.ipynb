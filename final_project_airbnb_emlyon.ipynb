{
 "cells": [
  {
   "cell_type": "code",
   "execution_count": 1,
   "metadata": {},
   "outputs": [],
   "source": [
    "name = \"Konstantin Baron von Drachenfels\""
   ]
  },
  {
   "cell_type": "markdown",
   "metadata": {},
   "source": [
    "I've found this data set about airbnb accomodations on Kaggle (https://www.kaggle.com/stevezhenghp/airbnb-price-prediction). The data set is 2 years old. From the given information on Kaggle the data can be used to predict the prices of the accomodations looking at the provided information. This sounds interesting to me and thus I want to take a deeper look at the data and see if it qualifies for our homework. "
   ]
  },
  {
   "cell_type": "code",
   "execution_count": 2,
   "metadata": {},
   "outputs": [],
   "source": [
    "%load_ext autoreload\n",
    "%autoreload 2\n",
    "\n",
    "%matplotlib inline"
   ]
  },
  {
   "cell_type": "code",
   "execution_count": 3,
   "metadata": {
    "scrolled": true
   },
   "outputs": [
    {
     "name": "stderr",
     "output_type": "stream",
     "text": [
      "C:\\Users\\bolli\\Anaconda3\\envs\\fastai-cpu-v0.7\\lib\\site-packages\\dask\\config.py:168: YAMLLoadWarning: calling yaml.load() without Loader=... is deprecated, as the default Loader is unsafe. Please read https://msg.pyyaml.org/load for full details.\n",
      "  data = yaml.load(f.read()) or {}\n",
      "C:\\Users\\bolli\\Anaconda3\\envs\\fastai-cpu-v0.7\\lib\\site-packages\\sklearn\\utils\\deprecation.py:144: FutureWarning: The sklearn.ensemble.forest module is  deprecated in version 0.22 and will be removed in version 0.24. The corresponding classes / functions should instead be imported from sklearn.ensemble. Anything that cannot be imported from sklearn.ensemble is now part of the private API.\n",
      "  warnings.warn(message, FutureWarning)\n"
     ]
    }
   ],
   "source": [
    "import sys\n",
    "sys.path.append(\"/Users/bolli/fastai/old/\")\n",
    "\n",
    "from fastai.imports import *\n",
    "from fastai.structured import *\n",
    "\n",
    "from pandas_summary import DataFrameSummary\n",
    "from sklearn.ensemble import RandomForestRegressor, RandomForestClassifier\n",
    "from IPython.display import display\n",
    "\n",
    "from sklearn import metrics"
   ]
  },
  {
   "cell_type": "code",
   "execution_count": 4,
   "metadata": {},
   "outputs": [],
   "source": [
    "PATH = \"data/airbnb/\""
   ]
  },
  {
   "cell_type": "code",
   "execution_count": 5,
   "metadata": {
    "scrolled": true
   },
   "outputs": [
    {
     "name": "stdout",
     "output_type": "stream",
     "text": [
      "train.csv\n"
     ]
    }
   ],
   "source": [
    "!ls {PATH}"
   ]
  },
  {
   "cell_type": "code",
   "execution_count": 6,
   "metadata": {},
   "outputs": [],
   "source": [
    "df_raw = pd.read_csv(f'{PATH}train.csv', low_memory=False,\n",
    "                    parse_dates=[\"first_review\",\"last_review\",\"host_since\"])"
   ]
  },
  {
   "cell_type": "code",
   "execution_count": 7,
   "metadata": {},
   "outputs": [
    {
     "data": {
      "text/plain": [
       "(74111, 29)"
      ]
     },
     "execution_count": 7,
     "metadata": {},
     "output_type": "execute_result"
    }
   ],
   "source": [
    "df_raw.shape\n",
    "#The data set consists out of 29 columns of information and 74.111 rows of data. That size qualifies perfectly for our hw."
   ]
  },
  {
   "cell_type": "code",
   "execution_count": 8,
   "metadata": {},
   "outputs": [
    {
     "name": "stdout",
     "output_type": "stream",
     "text": [
      "<class 'pandas.core.frame.DataFrame'>\n",
      "RangeIndex: 74111 entries, 0 to 74110\n",
      "Data columns (total 29 columns):\n",
      " #   Column                  Non-Null Count  Dtype         \n",
      "---  ------                  --------------  -----         \n",
      " 0   id                      74111 non-null  int64         \n",
      " 1   log_price               74111 non-null  float64       \n",
      " 2   property_type           74111 non-null  object        \n",
      " 3   room_type               74111 non-null  object        \n",
      " 4   amenities               74111 non-null  object        \n",
      " 5   accommodates            74111 non-null  int64         \n",
      " 6   bathrooms               73911 non-null  float64       \n",
      " 7   bed_type                74111 non-null  object        \n",
      " 8   cancellation_policy     74111 non-null  object        \n",
      " 9   cleaning_fee            74111 non-null  bool          \n",
      " 10  city                    74111 non-null  object        \n",
      " 11  description             74111 non-null  object        \n",
      " 12  first_review            58247 non-null  datetime64[ns]\n",
      " 13  host_has_profile_pic    73923 non-null  object        \n",
      " 14  host_identity_verified  73923 non-null  object        \n",
      " 15  host_response_rate      55812 non-null  object        \n",
      " 16  host_since              73923 non-null  datetime64[ns]\n",
      " 17  instant_bookable        74111 non-null  object        \n",
      " 18  last_review             58284 non-null  datetime64[ns]\n",
      " 19  latitude                74111 non-null  float64       \n",
      " 20  longitude               74111 non-null  float64       \n",
      " 21  name                    74111 non-null  object        \n",
      " 22  neighbourhood           67239 non-null  object        \n",
      " 23  number_of_reviews       74111 non-null  int64         \n",
      " 24  review_scores_rating    57389 non-null  float64       \n",
      " 25  thumbnail_url           65895 non-null  object        \n",
      " 26  zipcode                 73145 non-null  object        \n",
      " 27  bedrooms                74020 non-null  float64       \n",
      " 28  beds                    73980 non-null  float64       \n",
      "dtypes: bool(1), datetime64[ns](3), float64(7), int64(3), object(15)\n",
      "memory usage: 15.9+ MB\n"
     ]
    }
   ],
   "source": [
    "df_raw.info()"
   ]
  },
  {
   "cell_type": "markdown",
   "metadata": {},
   "source": [
    "The provided columns as the room type, the city of the accomodation, information about reviews etc. seem to make sense and be purposeful to evaluate the price of the accomodation. The price is already displayed as the log of the price to ensure a comparability between the prices as percentage differences will be more interesting than absolute differences. We can assume that the price information is from the same time but we have no further information regarding this and no client to ask. Thus, this is an underlying assumption for the meaningfulness of our model. A lot of the columns seem to be booleans checking for certain attributes of the accomodation, host, etc. We have 3 time variables 'host_since','first_review' and 'last_review' "
   ]
  },
  {
   "cell_type": "code",
   "execution_count": 9,
   "metadata": {
    "scrolled": false
   },
   "outputs": [
    {
     "data": {
      "text/html": [
       "<div>\n",
       "<style scoped>\n",
       "    .dataframe tbody tr th:only-of-type {\n",
       "        vertical-align: middle;\n",
       "    }\n",
       "\n",
       "    .dataframe tbody tr th {\n",
       "        vertical-align: top;\n",
       "    }\n",
       "\n",
       "    .dataframe thead th {\n",
       "        text-align: right;\n",
       "    }\n",
       "</style>\n",
       "<table border=\"1\" class=\"dataframe\">\n",
       "  <thead>\n",
       "    <tr style=\"text-align: right;\">\n",
       "      <th></th>\n",
       "      <th>id</th>\n",
       "      <th>log_price</th>\n",
       "      <th>property_type</th>\n",
       "      <th>room_type</th>\n",
       "      <th>amenities</th>\n",
       "      <th>accommodates</th>\n",
       "      <th>bathrooms</th>\n",
       "      <th>bed_type</th>\n",
       "      <th>cancellation_policy</th>\n",
       "      <th>cleaning_fee</th>\n",
       "      <th>city</th>\n",
       "      <th>description</th>\n",
       "      <th>first_review</th>\n",
       "      <th>host_has_profile_pic</th>\n",
       "      <th>host_identity_verified</th>\n",
       "      <th>host_response_rate</th>\n",
       "      <th>host_since</th>\n",
       "      <th>instant_bookable</th>\n",
       "      <th>last_review</th>\n",
       "      <th>latitude</th>\n",
       "      <th>longitude</th>\n",
       "      <th>name</th>\n",
       "      <th>neighbourhood</th>\n",
       "      <th>number_of_reviews</th>\n",
       "      <th>review_scores_rating</th>\n",
       "      <th>thumbnail_url</th>\n",
       "      <th>zipcode</th>\n",
       "      <th>bedrooms</th>\n",
       "      <th>beds</th>\n",
       "    </tr>\n",
       "  </thead>\n",
       "  <tbody>\n",
       "    <tr>\n",
       "      <th>0</th>\n",
       "      <td>6901257</td>\n",
       "      <td>5.010635</td>\n",
       "      <td>Apartment</td>\n",
       "      <td>Entire home/apt</td>\n",
       "      <td>{\"Wireless Internet\",\"Air conditioning\",Kitche...</td>\n",
       "      <td>3</td>\n",
       "      <td>1.0</td>\n",
       "      <td>Real Bed</td>\n",
       "      <td>strict</td>\n",
       "      <td>True</td>\n",
       "      <td>NYC</td>\n",
       "      <td>Beautiful, sunlit brownstone 1-bedroom in the ...</td>\n",
       "      <td>2016-06-18</td>\n",
       "      <td>t</td>\n",
       "      <td>t</td>\n",
       "      <td>NaN</td>\n",
       "      <td>2012-03-26</td>\n",
       "      <td>f</td>\n",
       "      <td>2016-07-18</td>\n",
       "      <td>40.696524</td>\n",
       "      <td>-73.991617</td>\n",
       "      <td>Beautiful brownstone 1-bedroom</td>\n",
       "      <td>Brooklyn Heights</td>\n",
       "      <td>2</td>\n",
       "      <td>100.0</td>\n",
       "      <td>https://a0.muscache.com/im/pictures/6d7cbbf7-c...</td>\n",
       "      <td>11201</td>\n",
       "      <td>1.0</td>\n",
       "      <td>1.0</td>\n",
       "    </tr>\n",
       "    <tr>\n",
       "      <th>1</th>\n",
       "      <td>6304928</td>\n",
       "      <td>5.129899</td>\n",
       "      <td>Apartment</td>\n",
       "      <td>Entire home/apt</td>\n",
       "      <td>{\"Wireless Internet\",\"Air conditioning\",Kitche...</td>\n",
       "      <td>7</td>\n",
       "      <td>1.0</td>\n",
       "      <td>Real Bed</td>\n",
       "      <td>strict</td>\n",
       "      <td>True</td>\n",
       "      <td>NYC</td>\n",
       "      <td>Enjoy travelling during your stay in Manhattan...</td>\n",
       "      <td>2017-08-05</td>\n",
       "      <td>t</td>\n",
       "      <td>f</td>\n",
       "      <td>100%</td>\n",
       "      <td>2017-06-19</td>\n",
       "      <td>t</td>\n",
       "      <td>2017-09-23</td>\n",
       "      <td>40.766115</td>\n",
       "      <td>-73.989040</td>\n",
       "      <td>Superb 3BR Apt Located Near Times Square</td>\n",
       "      <td>Hell's Kitchen</td>\n",
       "      <td>6</td>\n",
       "      <td>93.0</td>\n",
       "      <td>https://a0.muscache.com/im/pictures/348a55fe-4...</td>\n",
       "      <td>10019</td>\n",
       "      <td>3.0</td>\n",
       "      <td>3.0</td>\n",
       "    </tr>\n",
       "    <tr>\n",
       "      <th>2</th>\n",
       "      <td>7919400</td>\n",
       "      <td>4.976734</td>\n",
       "      <td>Apartment</td>\n",
       "      <td>Entire home/apt</td>\n",
       "      <td>{TV,\"Cable TV\",\"Wireless Internet\",\"Air condit...</td>\n",
       "      <td>5</td>\n",
       "      <td>1.0</td>\n",
       "      <td>Real Bed</td>\n",
       "      <td>moderate</td>\n",
       "      <td>True</td>\n",
       "      <td>NYC</td>\n",
       "      <td>The Oasis comes complete with a full backyard ...</td>\n",
       "      <td>2017-04-30</td>\n",
       "      <td>t</td>\n",
       "      <td>t</td>\n",
       "      <td>100%</td>\n",
       "      <td>2016-10-25</td>\n",
       "      <td>t</td>\n",
       "      <td>2017-09-14</td>\n",
       "      <td>40.808110</td>\n",
       "      <td>-73.943756</td>\n",
       "      <td>The Garden Oasis</td>\n",
       "      <td>Harlem</td>\n",
       "      <td>10</td>\n",
       "      <td>92.0</td>\n",
       "      <td>https://a0.muscache.com/im/pictures/6fae5362-9...</td>\n",
       "      <td>10027</td>\n",
       "      <td>1.0</td>\n",
       "      <td>3.0</td>\n",
       "    </tr>\n",
       "    <tr>\n",
       "      <th>3</th>\n",
       "      <td>13418779</td>\n",
       "      <td>6.620073</td>\n",
       "      <td>House</td>\n",
       "      <td>Entire home/apt</td>\n",
       "      <td>{TV,\"Cable TV\",Internet,\"Wireless Internet\",Ki...</td>\n",
       "      <td>4</td>\n",
       "      <td>1.0</td>\n",
       "      <td>Real Bed</td>\n",
       "      <td>flexible</td>\n",
       "      <td>True</td>\n",
       "      <td>SF</td>\n",
       "      <td>This light-filled home-away-from-home is super...</td>\n",
       "      <td>NaT</td>\n",
       "      <td>t</td>\n",
       "      <td>t</td>\n",
       "      <td>NaN</td>\n",
       "      <td>2015-04-19</td>\n",
       "      <td>f</td>\n",
       "      <td>NaT</td>\n",
       "      <td>37.772004</td>\n",
       "      <td>-122.431619</td>\n",
       "      <td>Beautiful Flat in the Heart of SF!</td>\n",
       "      <td>Lower Haight</td>\n",
       "      <td>0</td>\n",
       "      <td>NaN</td>\n",
       "      <td>https://a0.muscache.com/im/pictures/72208dad-9...</td>\n",
       "      <td>94117.0</td>\n",
       "      <td>2.0</td>\n",
       "      <td>2.0</td>\n",
       "    </tr>\n",
       "    <tr>\n",
       "      <th>4</th>\n",
       "      <td>3808709</td>\n",
       "      <td>4.744932</td>\n",
       "      <td>Apartment</td>\n",
       "      <td>Entire home/apt</td>\n",
       "      <td>{TV,Internet,\"Wireless Internet\",\"Air conditio...</td>\n",
       "      <td>2</td>\n",
       "      <td>1.0</td>\n",
       "      <td>Real Bed</td>\n",
       "      <td>moderate</td>\n",
       "      <td>True</td>\n",
       "      <td>DC</td>\n",
       "      <td>Cool, cozy, and comfortable studio located in ...</td>\n",
       "      <td>2015-05-12</td>\n",
       "      <td>t</td>\n",
       "      <td>t</td>\n",
       "      <td>100%</td>\n",
       "      <td>2015-03-01</td>\n",
       "      <td>t</td>\n",
       "      <td>2017-01-22</td>\n",
       "      <td>38.925627</td>\n",
       "      <td>-77.034596</td>\n",
       "      <td>Great studio in midtown DC</td>\n",
       "      <td>Columbia Heights</td>\n",
       "      <td>4</td>\n",
       "      <td>40.0</td>\n",
       "      <td>NaN</td>\n",
       "      <td>20009</td>\n",
       "      <td>0.0</td>\n",
       "      <td>1.0</td>\n",
       "    </tr>\n",
       "    <tr>\n",
       "      <th>5</th>\n",
       "      <td>12422935</td>\n",
       "      <td>4.442651</td>\n",
       "      <td>Apartment</td>\n",
       "      <td>Private room</td>\n",
       "      <td>{TV,\"Wireless Internet\",Heating,\"Smoke detecto...</td>\n",
       "      <td>2</td>\n",
       "      <td>1.0</td>\n",
       "      <td>Real Bed</td>\n",
       "      <td>strict</td>\n",
       "      <td>True</td>\n",
       "      <td>SF</td>\n",
       "      <td>Beautiful private room overlooking scenic view...</td>\n",
       "      <td>2017-08-27</td>\n",
       "      <td>t</td>\n",
       "      <td>t</td>\n",
       "      <td>100%</td>\n",
       "      <td>2017-06-07</td>\n",
       "      <td>t</td>\n",
       "      <td>2017-09-05</td>\n",
       "      <td>37.753164</td>\n",
       "      <td>-122.429526</td>\n",
       "      <td>Comfort Suite San Francisco</td>\n",
       "      <td>Noe Valley</td>\n",
       "      <td>3</td>\n",
       "      <td>100.0</td>\n",
       "      <td>https://a0.muscache.com/im/pictures/82509143-4...</td>\n",
       "      <td>94131</td>\n",
       "      <td>1.0</td>\n",
       "      <td>1.0</td>\n",
       "    </tr>\n",
       "    <tr>\n",
       "      <th>6</th>\n",
       "      <td>11825529</td>\n",
       "      <td>4.418841</td>\n",
       "      <td>Apartment</td>\n",
       "      <td>Entire home/apt</td>\n",
       "      <td>{TV,Internet,\"Wireless Internet\",\"Air conditio...</td>\n",
       "      <td>3</td>\n",
       "      <td>1.0</td>\n",
       "      <td>Real Bed</td>\n",
       "      <td>moderate</td>\n",
       "      <td>True</td>\n",
       "      <td>LA</td>\n",
       "      <td>Warm and cozy studio with full kitchen and bat...</td>\n",
       "      <td>2017-03-10</td>\n",
       "      <td>t</td>\n",
       "      <td>f</td>\n",
       "      <td>100%</td>\n",
       "      <td>2017-03-03</td>\n",
       "      <td>t</td>\n",
       "      <td>2017-04-21</td>\n",
       "      <td>33.980454</td>\n",
       "      <td>-118.462821</td>\n",
       "      <td>Beach Town Studio and Parking!!!11h</td>\n",
       "      <td>NaN</td>\n",
       "      <td>15</td>\n",
       "      <td>97.0</td>\n",
       "      <td>https://a0.muscache.com/im/pictures/4c920c60-4...</td>\n",
       "      <td>90292</td>\n",
       "      <td>1.0</td>\n",
       "      <td>1.0</td>\n",
       "    </tr>\n",
       "    <tr>\n",
       "      <th>7</th>\n",
       "      <td>13971273</td>\n",
       "      <td>4.787492</td>\n",
       "      <td>Condominium</td>\n",
       "      <td>Entire home/apt</td>\n",
       "      <td>{TV,\"Cable TV\",\"Wireless Internet\",\"Wheelchair...</td>\n",
       "      <td>2</td>\n",
       "      <td>1.0</td>\n",
       "      <td>Real Bed</td>\n",
       "      <td>moderate</td>\n",
       "      <td>True</td>\n",
       "      <td>LA</td>\n",
       "      <td>Arguably the best location (and safest) in dow...</td>\n",
       "      <td>2016-12-16</td>\n",
       "      <td>t</td>\n",
       "      <td>t</td>\n",
       "      <td>100%</td>\n",
       "      <td>2013-05-18</td>\n",
       "      <td>f</td>\n",
       "      <td>2017-04-12</td>\n",
       "      <td>34.046737</td>\n",
       "      <td>-118.260439</td>\n",
       "      <td>Near LA Live, Staple's. Starbucks inside. OWN ...</td>\n",
       "      <td>Downtown</td>\n",
       "      <td>9</td>\n",
       "      <td>93.0</td>\n",
       "      <td>https://a0.muscache.com/im/pictures/61bd05d5-c...</td>\n",
       "      <td>90015</td>\n",
       "      <td>1.0</td>\n",
       "      <td>1.0</td>\n",
       "    </tr>\n",
       "    <tr>\n",
       "      <th>8</th>\n",
       "      <td>180792</td>\n",
       "      <td>4.787492</td>\n",
       "      <td>House</td>\n",
       "      <td>Private room</td>\n",
       "      <td>{TV,\"Cable TV\",\"Wireless Internet\",\"Pets live ...</td>\n",
       "      <td>2</td>\n",
       "      <td>1.0</td>\n",
       "      <td>Real Bed</td>\n",
       "      <td>moderate</td>\n",
       "      <td>True</td>\n",
       "      <td>SF</td>\n",
       "      <td>Garden Studio with private entrance from the s...</td>\n",
       "      <td>2016-02-13</td>\n",
       "      <td>t</td>\n",
       "      <td>f</td>\n",
       "      <td>100%</td>\n",
       "      <td>2015-06-04</td>\n",
       "      <td>f</td>\n",
       "      <td>2017-09-24</td>\n",
       "      <td>37.781128</td>\n",
       "      <td>-122.501095</td>\n",
       "      <td>Cozy Garden Studio - Private Entry</td>\n",
       "      <td>Richmond District</td>\n",
       "      <td>159</td>\n",
       "      <td>99.0</td>\n",
       "      <td>https://a0.muscache.com/im/pictures/0ed6c128-7...</td>\n",
       "      <td>94121</td>\n",
       "      <td>1.0</td>\n",
       "      <td>1.0</td>\n",
       "    </tr>\n",
       "    <tr>\n",
       "      <th>9</th>\n",
       "      <td>5385260</td>\n",
       "      <td>3.583519</td>\n",
       "      <td>House</td>\n",
       "      <td>Private room</td>\n",
       "      <td>{\"Wireless Internet\",\"Air conditioning\",Kitche...</td>\n",
       "      <td>2</td>\n",
       "      <td>1.0</td>\n",
       "      <td>Real Bed</td>\n",
       "      <td>moderate</td>\n",
       "      <td>True</td>\n",
       "      <td>LA</td>\n",
       "      <td>Quiet community. Close to supermarkets,restaur...</td>\n",
       "      <td>2017-04-03</td>\n",
       "      <td>t</td>\n",
       "      <td>f</td>\n",
       "      <td>100%</td>\n",
       "      <td>2017-03-12</td>\n",
       "      <td>t</td>\n",
       "      <td>2017-04-16</td>\n",
       "      <td>33.992563</td>\n",
       "      <td>-117.895997</td>\n",
       "      <td>No.7 Queen Size Cozy Room 舒适大床房</td>\n",
       "      <td>NaN</td>\n",
       "      <td>2</td>\n",
       "      <td>90.0</td>\n",
       "      <td>https://a0.muscache.com/im/pictures/8d2f08ce-b...</td>\n",
       "      <td>91748</td>\n",
       "      <td>1.0</td>\n",
       "      <td>1.0</td>\n",
       "    </tr>\n",
       "  </tbody>\n",
       "</table>\n",
       "</div>"
      ],
      "text/plain": [
       "         id  log_price property_type  ...  zipcode bedrooms  beds\n",
       "0   6901257   5.010635     Apartment  ...    11201      1.0   1.0\n",
       "1   6304928   5.129899     Apartment  ...    10019      3.0   3.0\n",
       "2   7919400   4.976734     Apartment  ...    10027      1.0   3.0\n",
       "3  13418779   6.620073         House  ...  94117.0      2.0   2.0\n",
       "4   3808709   4.744932     Apartment  ...    20009      0.0   1.0\n",
       "5  12422935   4.442651     Apartment  ...    94131      1.0   1.0\n",
       "6  11825529   4.418841     Apartment  ...    90292      1.0   1.0\n",
       "7  13971273   4.787492   Condominium  ...    90015      1.0   1.0\n",
       "8    180792   4.787492         House  ...    94121      1.0   1.0\n",
       "9   5385260   3.583519         House  ...    91748      1.0   1.0\n",
       "\n",
       "[10 rows x 29 columns]"
      ]
     },
     "execution_count": 9,
     "metadata": {},
     "output_type": "execute_result"
    }
   ],
   "source": [
    "df_raw.head(10)"
   ]
  },
  {
   "cell_type": "markdown",
   "metadata": {},
   "source": [
    "Each accomodation has an id so that it can be identified. We can also observe that the data is not structured in a temporal order looking at the columns of 'host_since', 'first_review' and 'last_review'.\n",
    "\n",
    "One big issue with the data is, that we have the very meaningful features 'amneties','description' and 'name with strings of information in them which are useless for the random forest in the format in which they are presented. Especially for amneties we need to extract the indivdual features mentioned in text like \"Wireless internet\" or \"air conditioning and turn them into individual boolean features. An analysis of the features 'description' and 'name' will be difficult as the impact of the description and the name on the willingness to buy of the potential costumer is important but qualitative and subjective and thus very hard to quantify and generalize."
   ]
  },
  {
   "cell_type": "code",
   "execution_count": 10,
   "metadata": {
    "scrolled": false
   },
   "outputs": [
    {
     "data": {
      "text/html": [
       "<div>\n",
       "<style scoped>\n",
       "    .dataframe tbody tr th:only-of-type {\n",
       "        vertical-align: middle;\n",
       "    }\n",
       "\n",
       "    .dataframe tbody tr th {\n",
       "        vertical-align: top;\n",
       "    }\n",
       "\n",
       "    .dataframe thead th {\n",
       "        text-align: right;\n",
       "    }\n",
       "</style>\n",
       "<table border=\"1\" class=\"dataframe\">\n",
       "  <thead>\n",
       "    <tr style=\"text-align: right;\">\n",
       "      <th></th>\n",
       "      <th>id</th>\n",
       "      <th>log_price</th>\n",
       "      <th>property_type</th>\n",
       "      <th>room_type</th>\n",
       "      <th>amenities</th>\n",
       "      <th>accommodates</th>\n",
       "      <th>bathrooms</th>\n",
       "      <th>bed_type</th>\n",
       "      <th>cancellation_policy</th>\n",
       "      <th>cleaning_fee</th>\n",
       "      <th>city</th>\n",
       "      <th>description</th>\n",
       "      <th>first_review</th>\n",
       "      <th>host_has_profile_pic</th>\n",
       "      <th>host_identity_verified</th>\n",
       "      <th>host_response_rate</th>\n",
       "      <th>host_since</th>\n",
       "      <th>instant_bookable</th>\n",
       "      <th>last_review</th>\n",
       "      <th>latitude</th>\n",
       "      <th>longitude</th>\n",
       "      <th>name</th>\n",
       "      <th>neighbourhood</th>\n",
       "      <th>number_of_reviews</th>\n",
       "      <th>review_scores_rating</th>\n",
       "      <th>thumbnail_url</th>\n",
       "      <th>zipcode</th>\n",
       "      <th>bedrooms</th>\n",
       "      <th>beds</th>\n",
       "    </tr>\n",
       "  </thead>\n",
       "  <tbody>\n",
       "    <tr>\n",
       "      <th>count</th>\n",
       "      <td>7.411100e+04</td>\n",
       "      <td>74111.000000</td>\n",
       "      <td>74111</td>\n",
       "      <td>74111</td>\n",
       "      <td>74111</td>\n",
       "      <td>74111.000000</td>\n",
       "      <td>73911.000000</td>\n",
       "      <td>74111</td>\n",
       "      <td>74111</td>\n",
       "      <td>74111</td>\n",
       "      <td>74111</td>\n",
       "      <td>74111</td>\n",
       "      <td>58247</td>\n",
       "      <td>73923</td>\n",
       "      <td>73923</td>\n",
       "      <td>55812</td>\n",
       "      <td>73923</td>\n",
       "      <td>74111</td>\n",
       "      <td>58284</td>\n",
       "      <td>74111.000000</td>\n",
       "      <td>74111.000000</td>\n",
       "      <td>74111</td>\n",
       "      <td>67239</td>\n",
       "      <td>74111.000000</td>\n",
       "      <td>57389.000000</td>\n",
       "      <td>65895</td>\n",
       "      <td>73145</td>\n",
       "      <td>74020.000000</td>\n",
       "      <td>73980.000000</td>\n",
       "    </tr>\n",
       "    <tr>\n",
       "      <th>unique</th>\n",
       "      <td>NaN</td>\n",
       "      <td>NaN</td>\n",
       "      <td>35</td>\n",
       "      <td>3</td>\n",
       "      <td>67122</td>\n",
       "      <td>NaN</td>\n",
       "      <td>NaN</td>\n",
       "      <td>5</td>\n",
       "      <td>5</td>\n",
       "      <td>2</td>\n",
       "      <td>6</td>\n",
       "      <td>73479</td>\n",
       "      <td>2554</td>\n",
       "      <td>2</td>\n",
       "      <td>2</td>\n",
       "      <td>80</td>\n",
       "      <td>3087</td>\n",
       "      <td>2</td>\n",
       "      <td>1371</td>\n",
       "      <td>NaN</td>\n",
       "      <td>NaN</td>\n",
       "      <td>73359</td>\n",
       "      <td>619</td>\n",
       "      <td>NaN</td>\n",
       "      <td>NaN</td>\n",
       "      <td>65883</td>\n",
       "      <td>769</td>\n",
       "      <td>NaN</td>\n",
       "      <td>NaN</td>\n",
       "    </tr>\n",
       "    <tr>\n",
       "      <th>top</th>\n",
       "      <td>NaN</td>\n",
       "      <td>NaN</td>\n",
       "      <td>Apartment</td>\n",
       "      <td>Entire home/apt</td>\n",
       "      <td>{}</td>\n",
       "      <td>NaN</td>\n",
       "      <td>NaN</td>\n",
       "      <td>Real Bed</td>\n",
       "      <td>strict</td>\n",
       "      <td>True</td>\n",
       "      <td>NYC</td>\n",
       "      <td>Hello, I've been running guest house for Korea...</td>\n",
       "      <td>2017-01-01 00:00:00</td>\n",
       "      <td>t</td>\n",
       "      <td>t</td>\n",
       "      <td>100%</td>\n",
       "      <td>2015-03-30 00:00:00</td>\n",
       "      <td>f</td>\n",
       "      <td>2017-04-30 00:00:00</td>\n",
       "      <td>NaN</td>\n",
       "      <td>NaN</td>\n",
       "      <td>Bunk bed in the Treat Street Clubhouse</td>\n",
       "      <td>Williamsburg</td>\n",
       "      <td>NaN</td>\n",
       "      <td>NaN</td>\n",
       "      <td>https://a0.muscache.com/im/pictures/70087089/b...</td>\n",
       "      <td>11211.0</td>\n",
       "      <td>NaN</td>\n",
       "      <td>NaN</td>\n",
       "    </tr>\n",
       "    <tr>\n",
       "      <th>freq</th>\n",
       "      <td>NaN</td>\n",
       "      <td>NaN</td>\n",
       "      <td>49003</td>\n",
       "      <td>41310</td>\n",
       "      <td>586</td>\n",
       "      <td>NaN</td>\n",
       "      <td>NaN</td>\n",
       "      <td>72028</td>\n",
       "      <td>32374</td>\n",
       "      <td>54403</td>\n",
       "      <td>32349</td>\n",
       "      <td>8</td>\n",
       "      <td>293</td>\n",
       "      <td>73697</td>\n",
       "      <td>49748</td>\n",
       "      <td>43254</td>\n",
       "      <td>246</td>\n",
       "      <td>54660</td>\n",
       "      <td>1344</td>\n",
       "      <td>NaN</td>\n",
       "      <td>NaN</td>\n",
       "      <td>8</td>\n",
       "      <td>2862</td>\n",
       "      <td>NaN</td>\n",
       "      <td>NaN</td>\n",
       "      <td>3</td>\n",
       "      <td>1368</td>\n",
       "      <td>NaN</td>\n",
       "      <td>NaN</td>\n",
       "    </tr>\n",
       "    <tr>\n",
       "      <th>first</th>\n",
       "      <td>NaN</td>\n",
       "      <td>NaN</td>\n",
       "      <td>NaN</td>\n",
       "      <td>NaN</td>\n",
       "      <td>NaN</td>\n",
       "      <td>NaN</td>\n",
       "      <td>NaN</td>\n",
       "      <td>NaN</td>\n",
       "      <td>NaN</td>\n",
       "      <td>NaN</td>\n",
       "      <td>NaN</td>\n",
       "      <td>NaN</td>\n",
       "      <td>2008-11-17 00:00:00</td>\n",
       "      <td>NaN</td>\n",
       "      <td>NaN</td>\n",
       "      <td>NaN</td>\n",
       "      <td>2008-03-03 00:00:00</td>\n",
       "      <td>NaN</td>\n",
       "      <td>2009-01-21 00:00:00</td>\n",
       "      <td>NaN</td>\n",
       "      <td>NaN</td>\n",
       "      <td>NaN</td>\n",
       "      <td>NaN</td>\n",
       "      <td>NaN</td>\n",
       "      <td>NaN</td>\n",
       "      <td>NaN</td>\n",
       "      <td>NaN</td>\n",
       "      <td>NaN</td>\n",
       "      <td>NaN</td>\n",
       "    </tr>\n",
       "    <tr>\n",
       "      <th>last</th>\n",
       "      <td>NaN</td>\n",
       "      <td>NaN</td>\n",
       "      <td>NaN</td>\n",
       "      <td>NaN</td>\n",
       "      <td>NaN</td>\n",
       "      <td>NaN</td>\n",
       "      <td>NaN</td>\n",
       "      <td>NaN</td>\n",
       "      <td>NaN</td>\n",
       "      <td>NaN</td>\n",
       "      <td>NaN</td>\n",
       "      <td>NaN</td>\n",
       "      <td>2017-10-05 00:00:00</td>\n",
       "      <td>NaN</td>\n",
       "      <td>NaN</td>\n",
       "      <td>NaN</td>\n",
       "      <td>2017-10-04 00:00:00</td>\n",
       "      <td>NaN</td>\n",
       "      <td>2017-10-05 00:00:00</td>\n",
       "      <td>NaN</td>\n",
       "      <td>NaN</td>\n",
       "      <td>NaN</td>\n",
       "      <td>NaN</td>\n",
       "      <td>NaN</td>\n",
       "      <td>NaN</td>\n",
       "      <td>NaN</td>\n",
       "      <td>NaN</td>\n",
       "      <td>NaN</td>\n",
       "      <td>NaN</td>\n",
       "    </tr>\n",
       "    <tr>\n",
       "      <th>mean</th>\n",
       "      <td>1.126662e+07</td>\n",
       "      <td>4.782069</td>\n",
       "      <td>NaN</td>\n",
       "      <td>NaN</td>\n",
       "      <td>NaN</td>\n",
       "      <td>3.155146</td>\n",
       "      <td>1.235263</td>\n",
       "      <td>NaN</td>\n",
       "      <td>NaN</td>\n",
       "      <td>NaN</td>\n",
       "      <td>NaN</td>\n",
       "      <td>NaN</td>\n",
       "      <td>NaN</td>\n",
       "      <td>NaN</td>\n",
       "      <td>NaN</td>\n",
       "      <td>NaN</td>\n",
       "      <td>NaN</td>\n",
       "      <td>NaN</td>\n",
       "      <td>NaN</td>\n",
       "      <td>38.445958</td>\n",
       "      <td>-92.397525</td>\n",
       "      <td>NaN</td>\n",
       "      <td>NaN</td>\n",
       "      <td>20.900568</td>\n",
       "      <td>94.067365</td>\n",
       "      <td>NaN</td>\n",
       "      <td>NaN</td>\n",
       "      <td>1.265793</td>\n",
       "      <td>1.710868</td>\n",
       "    </tr>\n",
       "    <tr>\n",
       "      <th>std</th>\n",
       "      <td>6.081735e+06</td>\n",
       "      <td>0.717394</td>\n",
       "      <td>NaN</td>\n",
       "      <td>NaN</td>\n",
       "      <td>NaN</td>\n",
       "      <td>2.153589</td>\n",
       "      <td>0.582044</td>\n",
       "      <td>NaN</td>\n",
       "      <td>NaN</td>\n",
       "      <td>NaN</td>\n",
       "      <td>NaN</td>\n",
       "      <td>NaN</td>\n",
       "      <td>NaN</td>\n",
       "      <td>NaN</td>\n",
       "      <td>NaN</td>\n",
       "      <td>NaN</td>\n",
       "      <td>NaN</td>\n",
       "      <td>NaN</td>\n",
       "      <td>NaN</td>\n",
       "      <td>3.080167</td>\n",
       "      <td>21.705322</td>\n",
       "      <td>NaN</td>\n",
       "      <td>NaN</td>\n",
       "      <td>37.828641</td>\n",
       "      <td>7.836556</td>\n",
       "      <td>NaN</td>\n",
       "      <td>NaN</td>\n",
       "      <td>0.852143</td>\n",
       "      <td>1.254142</td>\n",
       "    </tr>\n",
       "    <tr>\n",
       "      <th>min</th>\n",
       "      <td>3.440000e+02</td>\n",
       "      <td>0.000000</td>\n",
       "      <td>NaN</td>\n",
       "      <td>NaN</td>\n",
       "      <td>NaN</td>\n",
       "      <td>1.000000</td>\n",
       "      <td>0.000000</td>\n",
       "      <td>NaN</td>\n",
       "      <td>NaN</td>\n",
       "      <td>NaN</td>\n",
       "      <td>NaN</td>\n",
       "      <td>NaN</td>\n",
       "      <td>NaN</td>\n",
       "      <td>NaN</td>\n",
       "      <td>NaN</td>\n",
       "      <td>NaN</td>\n",
       "      <td>NaN</td>\n",
       "      <td>NaN</td>\n",
       "      <td>NaN</td>\n",
       "      <td>33.338905</td>\n",
       "      <td>-122.511500</td>\n",
       "      <td>NaN</td>\n",
       "      <td>NaN</td>\n",
       "      <td>0.000000</td>\n",
       "      <td>20.000000</td>\n",
       "      <td>NaN</td>\n",
       "      <td>NaN</td>\n",
       "      <td>0.000000</td>\n",
       "      <td>0.000000</td>\n",
       "    </tr>\n",
       "    <tr>\n",
       "      <th>25%</th>\n",
       "      <td>6.261964e+06</td>\n",
       "      <td>4.317488</td>\n",
       "      <td>NaN</td>\n",
       "      <td>NaN</td>\n",
       "      <td>NaN</td>\n",
       "      <td>2.000000</td>\n",
       "      <td>1.000000</td>\n",
       "      <td>NaN</td>\n",
       "      <td>NaN</td>\n",
       "      <td>NaN</td>\n",
       "      <td>NaN</td>\n",
       "      <td>NaN</td>\n",
       "      <td>NaN</td>\n",
       "      <td>NaN</td>\n",
       "      <td>NaN</td>\n",
       "      <td>NaN</td>\n",
       "      <td>NaN</td>\n",
       "      <td>NaN</td>\n",
       "      <td>NaN</td>\n",
       "      <td>34.127908</td>\n",
       "      <td>-118.342374</td>\n",
       "      <td>NaN</td>\n",
       "      <td>NaN</td>\n",
       "      <td>1.000000</td>\n",
       "      <td>92.000000</td>\n",
       "      <td>NaN</td>\n",
       "      <td>NaN</td>\n",
       "      <td>1.000000</td>\n",
       "      <td>1.000000</td>\n",
       "    </tr>\n",
       "    <tr>\n",
       "      <th>50%</th>\n",
       "      <td>1.225415e+07</td>\n",
       "      <td>4.709530</td>\n",
       "      <td>NaN</td>\n",
       "      <td>NaN</td>\n",
       "      <td>NaN</td>\n",
       "      <td>2.000000</td>\n",
       "      <td>1.000000</td>\n",
       "      <td>NaN</td>\n",
       "      <td>NaN</td>\n",
       "      <td>NaN</td>\n",
       "      <td>NaN</td>\n",
       "      <td>NaN</td>\n",
       "      <td>NaN</td>\n",
       "      <td>NaN</td>\n",
       "      <td>NaN</td>\n",
       "      <td>NaN</td>\n",
       "      <td>NaN</td>\n",
       "      <td>NaN</td>\n",
       "      <td>NaN</td>\n",
       "      <td>40.662138</td>\n",
       "      <td>-76.996965</td>\n",
       "      <td>NaN</td>\n",
       "      <td>NaN</td>\n",
       "      <td>6.000000</td>\n",
       "      <td>96.000000</td>\n",
       "      <td>NaN</td>\n",
       "      <td>NaN</td>\n",
       "      <td>1.000000</td>\n",
       "      <td>1.000000</td>\n",
       "    </tr>\n",
       "    <tr>\n",
       "      <th>75%</th>\n",
       "      <td>1.640226e+07</td>\n",
       "      <td>5.220356</td>\n",
       "      <td>NaN</td>\n",
       "      <td>NaN</td>\n",
       "      <td>NaN</td>\n",
       "      <td>4.000000</td>\n",
       "      <td>1.000000</td>\n",
       "      <td>NaN</td>\n",
       "      <td>NaN</td>\n",
       "      <td>NaN</td>\n",
       "      <td>NaN</td>\n",
       "      <td>NaN</td>\n",
       "      <td>NaN</td>\n",
       "      <td>NaN</td>\n",
       "      <td>NaN</td>\n",
       "      <td>NaN</td>\n",
       "      <td>NaN</td>\n",
       "      <td>NaN</td>\n",
       "      <td>NaN</td>\n",
       "      <td>40.746096</td>\n",
       "      <td>-73.954660</td>\n",
       "      <td>NaN</td>\n",
       "      <td>NaN</td>\n",
       "      <td>23.000000</td>\n",
       "      <td>100.000000</td>\n",
       "      <td>NaN</td>\n",
       "      <td>NaN</td>\n",
       "      <td>1.000000</td>\n",
       "      <td>2.000000</td>\n",
       "    </tr>\n",
       "    <tr>\n",
       "      <th>max</th>\n",
       "      <td>2.123090e+07</td>\n",
       "      <td>7.600402</td>\n",
       "      <td>NaN</td>\n",
       "      <td>NaN</td>\n",
       "      <td>NaN</td>\n",
       "      <td>16.000000</td>\n",
       "      <td>8.000000</td>\n",
       "      <td>NaN</td>\n",
       "      <td>NaN</td>\n",
       "      <td>NaN</td>\n",
       "      <td>NaN</td>\n",
       "      <td>NaN</td>\n",
       "      <td>NaN</td>\n",
       "      <td>NaN</td>\n",
       "      <td>NaN</td>\n",
       "      <td>NaN</td>\n",
       "      <td>NaN</td>\n",
       "      <td>NaN</td>\n",
       "      <td>NaN</td>\n",
       "      <td>42.390437</td>\n",
       "      <td>-70.985047</td>\n",
       "      <td>NaN</td>\n",
       "      <td>NaN</td>\n",
       "      <td>605.000000</td>\n",
       "      <td>100.000000</td>\n",
       "      <td>NaN</td>\n",
       "      <td>NaN</td>\n",
       "      <td>10.000000</td>\n",
       "      <td>18.000000</td>\n",
       "    </tr>\n",
       "  </tbody>\n",
       "</table>\n",
       "</div>"
      ],
      "text/plain": [
       "                  id     log_price property_type  ...  zipcode      bedrooms          beds\n",
       "count   7.411100e+04  74111.000000         74111  ...    73145  74020.000000  73980.000000\n",
       "unique           NaN           NaN            35  ...      769           NaN           NaN\n",
       "top              NaN           NaN     Apartment  ...  11211.0           NaN           NaN\n",
       "freq             NaN           NaN         49003  ...     1368           NaN           NaN\n",
       "first            NaN           NaN           NaN  ...      NaN           NaN           NaN\n",
       "last             NaN           NaN           NaN  ...      NaN           NaN           NaN\n",
       "mean    1.126662e+07      4.782069           NaN  ...      NaN      1.265793      1.710868\n",
       "std     6.081735e+06      0.717394           NaN  ...      NaN      0.852143      1.254142\n",
       "min     3.440000e+02      0.000000           NaN  ...      NaN      0.000000      0.000000\n",
       "25%     6.261964e+06      4.317488           NaN  ...      NaN      1.000000      1.000000\n",
       "50%     1.225415e+07      4.709530           NaN  ...      NaN      1.000000      1.000000\n",
       "75%     1.640226e+07      5.220356           NaN  ...      NaN      1.000000      2.000000\n",
       "max     2.123090e+07      7.600402           NaN  ...      NaN     10.000000     18.000000\n",
       "\n",
       "[13 rows x 29 columns]"
      ]
     },
     "execution_count": 10,
     "metadata": {},
     "output_type": "execute_result"
    }
   ],
   "source": [
    "df_raw.describe(include='all')"
   ]
  },
  {
   "cell_type": "markdown",
   "metadata": {},
   "source": [
    "We can see that the data includes hosts who started Airbnb in 2008 to people who started to be hosts on October 4th 2017 which is very soon before the end of this data collection since the last review in this dataset was made on October 5th 2017."
   ]
  },
  {
   "cell_type": "code",
   "execution_count": 11,
   "metadata": {},
   "outputs": [],
   "source": [
    "def display_all(df):\n",
    "    with pd.option_context(\"display.max_rows\", 1000, \"display.max_columns\", 1000): \n",
    "        display(df)"
   ]
  },
  {
   "cell_type": "code",
   "execution_count": 12,
   "metadata": {
    "scrolled": true
   },
   "outputs": [
    {
     "data": {
      "text/plain": [
       "accommodates              0.000000\n",
       "amenities                 0.000000\n",
       "bathrooms                 0.002699\n",
       "bed_type                  0.000000\n",
       "bedrooms                  0.001228\n",
       "beds                      0.001768\n",
       "cancellation_policy       0.000000\n",
       "city                      0.000000\n",
       "cleaning_fee              0.000000\n",
       "description               0.000000\n",
       "first_review              0.214057\n",
       "host_has_profile_pic      0.002537\n",
       "host_identity_verified    0.002537\n",
       "host_response_rate        0.246913\n",
       "host_since                0.002537\n",
       "id                        0.000000\n",
       "instant_bookable          0.000000\n",
       "last_review               0.213558\n",
       "latitude                  0.000000\n",
       "log_price                 0.000000\n",
       "longitude                 0.000000\n",
       "name                      0.000000\n",
       "neighbourhood             0.092726\n",
       "number_of_reviews         0.000000\n",
       "property_type             0.000000\n",
       "review_scores_rating      0.225635\n",
       "room_type                 0.000000\n",
       "thumbnail_url             0.110861\n",
       "zipcode                   0.013035\n",
       "dtype: float64"
      ]
     },
     "metadata": {},
     "output_type": "display_data"
    }
   ],
   "source": [
    "display_all(df_raw.isnull().sum().sort_index()/len(df_raw)) "
   ]
  },
  {
   "cell_type": "markdown",
   "metadata": {},
   "source": [
    "The integrity of the data looks pretty good. The only columns with larger amounts of missing data are the the ones concerning the ratings and the host response rate. Concerning the ratings that makes sense as not all accomdations will have ratings. Thus, the data looks very promising so far and appropriate for our homework. Thus, I will proceed with the initial processing and perform first analyses on the data."
   ]
  },
  {
   "cell_type": "markdown",
   "metadata": {
    "heading_collapsed": true
   },
   "source": [
    "# Initial Processing"
   ]
  },
  {
   "cell_type": "markdown",
   "metadata": {
    "hidden": true
   },
   "source": [
    "The boolean variables are imported as object datatype with the string \"t\" for true and the string \"f\" for false except for the feature 'cleaning_fee'. So lets change them all into proper boolean datatypes. "
   ]
  },
  {
   "cell_type": "code",
   "execution_count": 13,
   "metadata": {
    "hidden": true
   },
   "outputs": [],
   "source": [
    "df_raw.cleaning_fee = df_raw.cleaning_fee.map({'False' : False, 'True' : True})\n",
    "df_raw.cleaning_fee = df_raw.cleaning_fee.astype(bool)\n",
    "\n",
    "df_raw.host_has_profile_pic = df_raw.host_has_profile_pic.map({'f' : False, 't' : True})\n",
    "df_raw.host_has_profile_pic = df_raw.host_has_profile_pic.astype(bool)\n",
    "\n",
    "df_raw.host_identity_verified = df_raw.host_identity_verified.map({'f' : False, 't' : True})\n",
    "df_raw.host_identity_verified = df_raw.host_identity_verified.astype(bool)\n",
    "\n",
    "df_raw.instant_bookable = df_raw.instant_bookable.map({'f' : False, 't' : True})\n",
    "df_raw.instant_bookable = df_raw.instant_bookable.astype(bool)"
   ]
  },
  {
   "cell_type": "markdown",
   "metadata": {
    "hidden": true
   },
   "source": [
    "Let's handle the column 'amenities'. At first we'll create a series 'new' which collects all the strings of information for each host in a list. We can observe that the different amenities of interest are not ordered in a way that they could be used straight away."
   ]
  },
  {
   "cell_type": "code",
   "execution_count": 14,
   "metadata": {
    "hidden": true
   },
   "outputs": [],
   "source": [
    "new = df_raw[\"amenities\"].str.split(\",\")\n",
    "#the parameter expand=True would directly create a new dataframe with one string per column.\n",
    "#However the strings would not be ordered. Thus, looking at the series below the first column would e.g. include \n",
    "#\"Wireless Internet\" for row 0 and 1 but \"TV\" for row 2,3 and 4. Hence, a split into a series is better."
   ]
  },
  {
   "cell_type": "code",
   "execution_count": 15,
   "metadata": {
    "hidden": true,
    "scrolled": false
   },
   "outputs": [
    {
     "data": {
      "text/plain": [
       "0        [{\"Wireless Internet\", \"Air conditioning\", Kit...\n",
       "1        [{\"Wireless Internet\", \"Air conditioning\", Kit...\n",
       "2        [{TV, \"Cable TV\", \"Wireless Internet\", \"Air co...\n",
       "3        [{TV, \"Cable TV\", Internet, \"Wireless Internet...\n",
       "4        [{TV, Internet, \"Wireless Internet\", \"Air cond...\n",
       "                               ...                        \n",
       "74106                                                 [{}]\n",
       "74107    [{TV, \"Cable TV\", Internet, \"Wireless Internet...\n",
       "74108    [{TV, Internet, \"Wireless Internet\", \"Air cond...\n",
       "74109    [{TV, \"Wireless Internet\", \"Air conditioning\",...\n",
       "74110    [{TV, Internet, \"Wireless Internet\", Kitchen, ...\n",
       "Name: amenities, Length: 74111, dtype: object"
      ]
     },
     "execution_count": 15,
     "metadata": {},
     "output_type": "execute_result"
    }
   ],
   "source": [
    "new"
   ]
  },
  {
   "cell_type": "code",
   "execution_count": 16,
   "metadata": {
    "hidden": true,
    "scrolled": false
   },
   "outputs": [
    {
     "name": "stdout",
     "output_type": "stream",
     "text": [
      "Wireless Internet 0.9615981433255522\n",
      "Air conditioning 0.7449636356276397\n",
      "Kitchen 0.9111467933235282\n",
      "Heating 0.9050343403813199\n",
      "Family/kid friendly 0.4996019484287083\n",
      "Essentials 0.8636369769669819\n",
      "Hair dryer 0.5846635452227065\n",
      "Iron 0.5624940966927986\n",
      "translation missing: en.hosting_amenity_50 0.34125838269622594\n",
      "Washer 0.582491128172606\n",
      "Dryer 0.5763112088623821\n",
      "Smoke detector 0.8328992996991\n",
      "Fire extinguisher 0.4145673381819163\n",
      "Shampoo 0.6674447787777793\n",
      "Hangers 0.6635047428856715\n",
      "TV 0.707830146671884\n",
      "Cable TV 0.32725236469619895\n",
      "Breakfast 0.11207513054742212\n",
      "Buzzer/wireless intercom 0.22983092928175305\n",
      "Carbon monoxide detector 0.6367475813307066\n",
      "Laptop friendly workspace 0.5896965362766661\n",
      "Internet 0.602447679831604\n",
      "Indoor fireplace 0.1254874445089123\n",
      "First aid kit 0.3714968088407929\n",
      "Elevator in building 0.08658633671114949\n",
      "Pool 0.08477823804833291\n",
      "Free parking on premises 0.31896749470389013\n",
      "Gym 0.1010781125608884\n",
      "Hot tub 0.08541242190767902\n",
      "Wheelchair accessible 0.0654153904278717\n",
      "Doorman 0.0644978478228603\n",
      "Dog(s) 0.07090715278433701\n",
      "Cat(s) 0.0484813320559701\n",
      "Other pet(s) 0.005100457421975145\n",
      "Lock on bedroom door 0.24264953920470644\n",
      "Pets live on this property 0.1312895521582491\n",
      "Private entrance 0.09809609909460135\n",
      "Hot water 0.057575798464465464\n",
      "Bed linens 0.05637489711378878\n",
      "Extra pillows and blankets 0.04083064592300738\n",
      "Coffee maker 0.047968587659051966\n",
      "Refrigerator 0.06274372225445615\n",
      "Dishes and silverware 0.05741387918122816\n",
      "Garden or backyard 0.015233905897909891\n",
      "Pets allowed 0.13759091093090095\n",
      "Safety card 0.1553480589925922\n",
      "24-hour check-in 0.2565745975631148\n",
      "Self Check-In 0.14897923385192482\n",
      "Lockbox 0.07742440393463858\n",
      "Suitable for events 0.05758929173806857\n",
      "translation missing: en.hosting_amenity_49 0.2756270998907045\n",
      "Elevator 0.14599722038563775\n",
      "Microwave 0.05278568633536182\n",
      "Cooking basics 0.05340637692110483\n",
      "Oven 0.05321747109066131\n",
      "Stove 0.05509303612149344\n",
      "Smoking allowed 0.049560793944218806\n",
      "Outlet covers 0.0060180000269865475\n",
      "Bathtub 0.050748202021292384\n",
      "Dishwasher 0.031196448570387662\n",
      "Single level home 0.007003009000013494\n",
      "Luggage dropoff allowed 0.022128968709098515\n",
      "Step-free access 0.02779614362240423\n",
      "Wide clearance to bed 0.005478269082862193\n",
      "Accessible-height bed 0.0047091524874849884\n",
      "Wide doorway 0.0143298565665016\n",
      "Accessible-height toilet 0.00352174441041141\n",
      "Wide entryway 0.0040749686281388725\n",
      "Hot water kettle 0.002334336333337831\n",
      "Babysitter recommendations 0.009134946229304691\n",
      "Pack ’n Play/travel crib 0.015166439529894347\n",
      "Keypad 0.040412354441311006\n",
      "Free parking on street 0.0010389820674393815\n",
      "Smart lock 0.008865080757242514\n",
      "Wide hallway clearance 0.006409304961476704\n",
      "Flat 0.005356829620434213\n",
      " smooth pathway to front door 0.005356829620434213\n",
      "Well-lit path to entrance 0.010389820674393814\n",
      "Long term stays allowed 0.02254726019079489\n",
      " 0.007907058331421786\n",
      "Private living room 0.03405702257424674\n",
      "Children’s books and toys 0.015193426077100565\n",
      "Children’s dinnerware 0.00856822873797412\n",
      "BBQ grill 0.008541242190767902\n",
      "Patio or balcony 0.0164617937957928\n",
      "Host greets you 0.016137955229318185\n",
      "Smartlock 0.010619206325646665\n",
      "Ethernet connection 0.009350838606954433\n",
      "Fixed grab bars for shower & toilet 0.0009175426050114018\n",
      "High chair 0.00856822873797412\n",
      "Room-darkening shades 0.02018593731025084\n",
      "Changing table 0.0030359865606994912\n",
      "Stair gates 0.004034488807329546\n",
      "Window guards 0.008298363265911943\n",
      "Table corner guards 0.001187408077073579\n",
      "Crib 0.0059640269325741116\n",
      "Other 0.0029415336454777295\n",
      "Private bathroom 0.000998502246630055\n",
      "Doorman Entry 0.006112452942208309\n",
      "Baby monitor 0.001794605389213477\n",
      "Baby bath 0.0041154484489482\n",
      "Fireplace guards 0.0029550269190808383\n",
      "Game console 0.006463278055889139\n",
      "Firm mattress 0.0015517264643575177\n",
      "Pocket wifi 0.0029280403718746203\n",
      "Cleaning before checkout 0.0036566771464424984\n",
      "Handheld shower head 0.0018350852100228036\n",
      "Waterfront 0.0015517264643575177\n",
      "Ground floor access 0.00033733184007772127\n",
      "EV charger 0.0006611704065523337\n",
      "Wide clearance to shower & toilet 0.0016596726531823887\n",
      "Beach essentials 0.0013763139075171028\n",
      "Beachfront 0.00044527802890259203\n",
      "Bathtub with shower chair 0.0004587713025057009\n",
      "Lake access 0.00024287892485595931\n",
      "Washer / Dryer 0.00041829148169637435\n",
      "Disabled parking spot 0.0004587713025057009\n",
      "Roll-in shower with chair 4.047982080932655e-05\n",
      "Air purifier 0.0001889058304435239\n",
      "Ski in/Ski out 0.00017541255684041507\n",
      "Path to entrance lit at night 0.00036431838728393894\n",
      "Firm matress 0.00020239910404663274\n",
      "Paid parking off premises 9.445291522176195e-05\n",
      "Flat smooth pathway to front door 0.00014842600963419736\n",
      "Grab-rails for shower and toilet 2.69865472062177e-05\n",
      "Body soap 1.349327360310885e-05\n",
      "Hand soap 1.349327360310885e-05\n",
      "Bath towel 1.349327360310885e-05\n",
      "Hand or paper towel 1.349327360310885e-05\n",
      "Toilet paper 1.349327360310885e-05\n",
      "Wide clearance to shower and toilet 1.349327360310885e-05\n"
     ]
    }
   ],
   "source": [
    "num_occurences = {}\n",
    "\n",
    "for n in range(0,74111):\n",
    "    for string in new[n]:\n",
    "        string = string.strip('{}\\'\\\"')       \n",
    "        if string in num_occurences:\n",
    "            num_occurences[string] += 1\n",
    "        else:\n",
    "            num_occurences[string] = 1\n",
    "\n",
    "for key,val in num_occurences.items():\n",
    "    occurence_rate = val/len(new)\n",
    "    print(key, occurence_rate)"
   ]
  },
  {
   "cell_type": "markdown",
   "metadata": {
    "hidden": true
   },
   "source": [
    "At first we loop through the different rows to check for all the different amenities that are mentioned by the hosts. We also look at the frequency in which they occur to assess their relevance as we have a very large number of amenities. We might not want to include them all as meaningless rows would steal valuable spots in splits in the trees of our RandomForestRegressor.\n",
    "Thus, I decide to only include those with an occurence_rate >= 5% as one can observe below. Those, now included but with a little impact on the price can be dropped out at a later stage."
   ]
  },
  {
   "cell_type": "code",
   "execution_count": 17,
   "metadata": {
    "hidden": true,
    "scrolled": true
   },
   "outputs": [
    {
     "name": "stdout",
     "output_type": "stream",
     "text": [
      "Wireless Internet 0.9615981433255522\n",
      "Air conditioning 0.7449636356276397\n",
      "Kitchen 0.9111467933235282\n",
      "Heating 0.9050343403813199\n",
      "Family/kid friendly 0.4996019484287083\n",
      "Essentials 0.8636369769669819\n",
      "Hair dryer 0.5846635452227065\n",
      "Iron 0.5624940966927986\n",
      "translation missing: en.hosting_amenity_50 0.34125838269622594\n",
      "Washer 0.582491128172606\n",
      "Dryer 0.5763112088623821\n",
      "Smoke detector 0.8328992996991\n",
      "Fire extinguisher 0.4145673381819163\n",
      "Shampoo 0.6674447787777793\n",
      "Hangers 0.6635047428856715\n",
      "TV 0.707830146671884\n",
      "Cable TV 0.32725236469619895\n",
      "Breakfast 0.11207513054742212\n",
      "Buzzer/wireless intercom 0.22983092928175305\n",
      "Carbon monoxide detector 0.6367475813307066\n",
      "Laptop friendly workspace 0.5896965362766661\n",
      "Internet 0.602447679831604\n",
      "Indoor fireplace 0.1254874445089123\n",
      "First aid kit 0.3714968088407929\n",
      "Elevator in building 0.08658633671114949\n",
      "Pool 0.08477823804833291\n",
      "Free parking on premises 0.31896749470389013\n",
      "Gym 0.1010781125608884\n",
      "Hot tub 0.08541242190767902\n",
      "Wheelchair accessible 0.0654153904278717\n",
      "Doorman 0.0644978478228603\n",
      "Dog(s) 0.07090715278433701\n",
      "Lock on bedroom door 0.24264953920470644\n",
      "Pets live on this property 0.1312895521582491\n",
      "Private entrance 0.09809609909460135\n",
      "Hot water 0.057575798464465464\n",
      "Bed linens 0.05637489711378878\n",
      "Refrigerator 0.06274372225445615\n",
      "Dishes and silverware 0.05741387918122816\n",
      "Pets allowed 0.13759091093090095\n",
      "Safety card 0.1553480589925922\n",
      "24-hour check-in 0.2565745975631148\n",
      "Self Check-In 0.14897923385192482\n",
      "Lockbox 0.07742440393463858\n",
      "Suitable for events 0.05758929173806857\n",
      "translation missing: en.hosting_amenity_49 0.2756270998907045\n",
      "Elevator 0.14599722038563775\n",
      "Microwave 0.05278568633536182\n",
      "Cooking basics 0.05340637692110483\n",
      "Oven 0.05321747109066131\n",
      "Stove 0.05509303612149344\n",
      "Bathtub 0.050748202021292384\n"
     ]
    }
   ],
   "source": [
    "amenities_included = []\n",
    "\n",
    "for key,val in num_occurences.items():\n",
    "    occurence_rate = val/len(new)\n",
    "    if occurence_rate >= 0.05:\n",
    "        amenities_included.append(key)\n",
    "        print(key, occurence_rate)"
   ]
  },
  {
   "cell_type": "code",
   "execution_count": 18,
   "metadata": {
    "hidden": true,
    "scrolled": true
   },
   "outputs": [
    {
     "data": {
      "text/plain": [
       "52"
      ]
     },
     "execution_count": 18,
     "metadata": {},
     "output_type": "execute_result"
    }
   ],
   "source": [
    "len(amenities_included)\n",
    "#Thus, I willd include 52 out of the 131 amenities"
   ]
  },
  {
   "cell_type": "code",
   "execution_count": 19,
   "metadata": {
    "hidden": true,
    "scrolled": true
   },
   "outputs": [
    {
     "data": {
      "text/plain": [
       "131"
      ]
     },
     "execution_count": 19,
     "metadata": {},
     "output_type": "execute_result"
    }
   ],
   "source": [
    "amenities = []\n",
    "\n",
    "for n in range(0,74111):\n",
    "    for string in new[n]:\n",
    "        string = string.strip('{}\\'\\\"')\n",
    "        if string in amenities:\n",
    "            continue\n",
    "        else: \n",
    "            amenities.append(string)\n",
    "\n",
    "len(amenities)"
   ]
  },
  {
   "cell_type": "code",
   "execution_count": 20,
   "metadata": {
    "hidden": true,
    "scrolled": true
   },
   "outputs": [
    {
     "data": {
      "text/plain": [
       "['Wireless Internet',\n",
       " 'Air conditioning',\n",
       " 'Kitchen',\n",
       " 'Heating',\n",
       " 'Family/kid friendly',\n",
       " 'Essentials',\n",
       " 'Hair dryer',\n",
       " 'Iron',\n",
       " 'translation missing: en.hosting_amenity_50',\n",
       " 'Washer',\n",
       " 'Dryer',\n",
       " 'Smoke detector',\n",
       " 'Fire extinguisher',\n",
       " 'Shampoo',\n",
       " 'Hangers',\n",
       " 'TV',\n",
       " 'Cable TV',\n",
       " 'Breakfast',\n",
       " 'Buzzer/wireless intercom',\n",
       " 'Carbon monoxide detector',\n",
       " 'Laptop friendly workspace',\n",
       " 'Internet',\n",
       " 'Indoor fireplace',\n",
       " 'First aid kit',\n",
       " 'Elevator in building',\n",
       " 'Pool',\n",
       " 'Free parking on premises',\n",
       " 'Gym',\n",
       " 'Hot tub',\n",
       " 'Wheelchair accessible',\n",
       " 'Doorman',\n",
       " 'Dog(s)',\n",
       " 'Cat(s)',\n",
       " 'Other pet(s)',\n",
       " 'Lock on bedroom door',\n",
       " 'Pets live on this property',\n",
       " 'Private entrance',\n",
       " 'Hot water',\n",
       " 'Bed linens',\n",
       " 'Extra pillows and blankets',\n",
       " 'Coffee maker',\n",
       " 'Refrigerator',\n",
       " 'Dishes and silverware',\n",
       " 'Garden or backyard',\n",
       " 'Pets allowed',\n",
       " 'Safety card',\n",
       " '24-hour check-in',\n",
       " 'Self Check-In',\n",
       " 'Lockbox',\n",
       " 'Suitable for events',\n",
       " 'translation missing: en.hosting_amenity_49',\n",
       " 'Elevator',\n",
       " 'Microwave',\n",
       " 'Cooking basics',\n",
       " 'Oven',\n",
       " 'Stove',\n",
       " 'Smoking allowed',\n",
       " 'Outlet covers',\n",
       " 'Bathtub',\n",
       " 'Dishwasher',\n",
       " 'Single level home',\n",
       " 'Luggage dropoff allowed',\n",
       " 'Step-free access',\n",
       " 'Wide clearance to bed',\n",
       " 'Accessible-height bed',\n",
       " 'Wide doorway',\n",
       " 'Accessible-height toilet',\n",
       " 'Wide entryway',\n",
       " 'Hot water kettle',\n",
       " 'Babysitter recommendations',\n",
       " 'Pack ’n Play/travel crib',\n",
       " 'Keypad',\n",
       " 'Free parking on street',\n",
       " 'Smart lock',\n",
       " 'Wide hallway clearance',\n",
       " 'Flat',\n",
       " ' smooth pathway to front door',\n",
       " 'Well-lit path to entrance',\n",
       " 'Long term stays allowed',\n",
       " '',\n",
       " 'Private living room',\n",
       " 'Children’s books and toys',\n",
       " 'Children’s dinnerware',\n",
       " 'BBQ grill',\n",
       " 'Patio or balcony',\n",
       " 'Host greets you',\n",
       " 'Smartlock',\n",
       " 'Ethernet connection',\n",
       " 'Fixed grab bars for shower & toilet',\n",
       " 'High chair',\n",
       " 'Room-darkening shades',\n",
       " 'Changing table',\n",
       " 'Stair gates',\n",
       " 'Window guards',\n",
       " 'Table corner guards',\n",
       " 'Crib',\n",
       " 'Other',\n",
       " 'Private bathroom',\n",
       " 'Doorman Entry',\n",
       " 'Baby monitor',\n",
       " 'Baby bath',\n",
       " 'Fireplace guards',\n",
       " 'Game console',\n",
       " 'Firm mattress',\n",
       " 'Pocket wifi',\n",
       " 'Cleaning before checkout',\n",
       " 'Handheld shower head',\n",
       " 'Waterfront',\n",
       " 'Ground floor access',\n",
       " 'EV charger',\n",
       " 'Wide clearance to shower & toilet',\n",
       " 'Beach essentials',\n",
       " 'Beachfront',\n",
       " 'Bathtub with shower chair',\n",
       " 'Lake access',\n",
       " 'Washer / Dryer',\n",
       " 'Disabled parking spot',\n",
       " 'Roll-in shower with chair',\n",
       " 'Air purifier',\n",
       " 'Ski in/Ski out',\n",
       " 'Path to entrance lit at night',\n",
       " 'Firm matress',\n",
       " 'Paid parking off premises',\n",
       " 'Flat smooth pathway to front door',\n",
       " 'Grab-rails for shower and toilet',\n",
       " 'Body soap',\n",
       " 'Hand soap',\n",
       " 'Bath towel',\n",
       " 'Hand or paper towel',\n",
       " 'Toilet paper',\n",
       " 'Wide clearance to shower and toilet']"
      ]
     },
     "execution_count": 20,
     "metadata": {},
     "output_type": "execute_result"
    }
   ],
   "source": [
    "amenities"
   ]
  },
  {
   "cell_type": "markdown",
   "metadata": {
    "hidden": true
   },
   "source": [
    "Filter via search through strings will be difficult and one has to be attentive as terms like 'hot', 'entrance' etc. are used multiple times. Thus I've created this overview as a little help going through the different amenities making sure that I don't include multiple amenities in a dictionary.\n",
    "\n",
    "As one can observe below I will loop through the different rows checking if a certain keyword as \"Internet\" can be found in a list. If that is the case the number of the row will be saved with the boolean value True. If that is not the case the boolean value False will be saved with the number of the row. Below I search for \"Internet\" as I wanted to create one dictionary for the amenities \"Internet\" and \"Wireless Internet\" as one can assume that their value for the customer is the same and we want to avoid unnecesary correlation in the model."
   ]
  },
  {
   "cell_type": "code",
   "execution_count": 21,
   "metadata": {
    "hidden": true
   },
   "outputs": [
    {
     "data": {
      "text/plain": [
       "0.9663882554546559"
      ]
     },
     "execution_count": 21,
     "metadata": {},
     "output_type": "execute_result"
    }
   ],
   "source": [
    "Internet = {}\n",
    "\n",
    "for n in range(0,74111):\n",
    "    for string in new[n]:\n",
    "        if \"Internet\" in string:\n",
    "            Internet[n] = True\n",
    "            break\n",
    "        else:\n",
    "            Internet[n] = False\n",
    "            \n",
    "sum(1 for condition in Internet.values() if condition)/len(Internet)\n",
    "#~97% of the hosts offer an internet access to their guests"
   ]
  },
  {
   "cell_type": "code",
   "execution_count": 22,
   "metadata": {
    "hidden": true
   },
   "outputs": [
    {
     "data": {
      "text/plain": [
       "{0: True,\n",
       " 1: True,\n",
       " 2: True,\n",
       " 3: True,\n",
       " 4: True,\n",
       " 5: True,\n",
       " 6: True,\n",
       " 7: True,\n",
       " 8: True,\n",
       " 9: True,\n",
       " 10: True,\n",
       " 11: True,\n",
       " 12: True,\n",
       " 13: True,\n",
       " 14: False,\n",
       " 15: True,\n",
       " 16: True,\n",
       " 17: True,\n",
       " 18: True,\n",
       " 19: True,\n",
       " 20: True,\n",
       " 21: True,\n",
       " 22: True,\n",
       " 23: True,\n",
       " 24: True,\n",
       " 25: True,\n",
       " 26: True,\n",
       " 27: True,\n",
       " 28: True,\n",
       " 29: True,\n",
       " 30: True,\n",
       " 31: True,\n",
       " 32: True,\n",
       " 33: True,\n",
       " 34: True,\n",
       " 35: True,\n",
       " 36: True,\n",
       " 37: True,\n",
       " 38: True,\n",
       " 39: True,\n",
       " 40: True,\n",
       " 41: False,\n",
       " 42: True,\n",
       " 43: True,\n",
       " 44: True,\n",
       " 45: True,\n",
       " 46: True,\n",
       " 47: True,\n",
       " 48: True,\n",
       " 49: True,\n",
       " 50: True,\n",
       " 51: True,\n",
       " 52: True,\n",
       " 53: True,\n",
       " 54: True,\n",
       " 55: True,\n",
       " 56: True,\n",
       " 57: True,\n",
       " 58: True,\n",
       " 59: True,\n",
       " 60: True,\n",
       " 61: True,\n",
       " 62: True,\n",
       " 63: True,\n",
       " 64: False,\n",
       " 65: True,\n",
       " 66: True,\n",
       " 67: True,\n",
       " 68: True,\n",
       " 69: True,\n",
       " 70: True,\n",
       " 71: True,\n",
       " 72: True,\n",
       " 73: True,\n",
       " 74: True,\n",
       " 75: True,\n",
       " 76: True,\n",
       " 77: True,\n",
       " 78: True,\n",
       " 79: True,\n",
       " 80: True,\n",
       " 81: True,\n",
       " 82: True,\n",
       " 83: True,\n",
       " 84: True,\n",
       " 85: True,\n",
       " 86: True,\n",
       " 87: True,\n",
       " 88: True,\n",
       " 89: True,\n",
       " 90: True,\n",
       " 91: True,\n",
       " 92: False,\n",
       " 93: True,\n",
       " 94: True,\n",
       " 95: True,\n",
       " 96: True,\n",
       " 97: True,\n",
       " 98: True,\n",
       " 99: True,\n",
       " 100: True,\n",
       " 101: True,\n",
       " 102: True,\n",
       " 103: True,\n",
       " 104: True,\n",
       " 105: True,\n",
       " 106: True,\n",
       " 107: True,\n",
       " 108: True,\n",
       " 109: True,\n",
       " 110: True,\n",
       " 111: True,\n",
       " 112: True,\n",
       " 113: True,\n",
       " 114: False,\n",
       " 115: True,\n",
       " 116: False,\n",
       " 117: True,\n",
       " 118: True,\n",
       " 119: True,\n",
       " 120: True,\n",
       " 121: True,\n",
       " 122: False,\n",
       " 123: True,\n",
       " 124: True,\n",
       " 125: True,\n",
       " 126: True,\n",
       " 127: True,\n",
       " 128: True,\n",
       " 129: True,\n",
       " 130: True,\n",
       " 131: False,\n",
       " 132: True,\n",
       " 133: True,\n",
       " 134: True,\n",
       " 135: True,\n",
       " 136: True,\n",
       " 137: True,\n",
       " 138: True,\n",
       " 139: True,\n",
       " 140: True,\n",
       " 141: True,\n",
       " 142: False,\n",
       " 143: True,\n",
       " 144: True,\n",
       " 145: True,\n",
       " 146: True,\n",
       " 147: True,\n",
       " 148: True,\n",
       " 149: True,\n",
       " 150: True,\n",
       " 151: False,\n",
       " 152: True,\n",
       " 153: True,\n",
       " 154: True,\n",
       " 155: True,\n",
       " 156: True,\n",
       " 157: True,\n",
       " 158: True,\n",
       " 159: True,\n",
       " 160: True,\n",
       " 161: True,\n",
       " 162: True,\n",
       " 163: True,\n",
       " 164: True,\n",
       " 165: False,\n",
       " 166: True,\n",
       " 167: True,\n",
       " 168: True,\n",
       " 169: True,\n",
       " 170: True,\n",
       " 171: True,\n",
       " 172: True,\n",
       " 173: True,\n",
       " 174: True,\n",
       " 175: True,\n",
       " 176: True,\n",
       " 177: True,\n",
       " 178: True,\n",
       " 179: True,\n",
       " 180: True,\n",
       " 181: True,\n",
       " 182: True,\n",
       " 183: True,\n",
       " 184: True,\n",
       " 185: True,\n",
       " 186: True,\n",
       " 187: True,\n",
       " 188: True,\n",
       " 189: True,\n",
       " 190: True,\n",
       " 191: True,\n",
       " 192: True,\n",
       " 193: True,\n",
       " 194: True,\n",
       " 195: True,\n",
       " 196: True,\n",
       " 197: True,\n",
       " 198: True,\n",
       " 199: True,\n",
       " 200: True,\n",
       " 201: True,\n",
       " 202: True,\n",
       " 203: True,\n",
       " 204: True,\n",
       " 205: True,\n",
       " 206: True,\n",
       " 207: True,\n",
       " 208: False,\n",
       " 209: True,\n",
       " 210: True,\n",
       " 211: True,\n",
       " 212: True,\n",
       " 213: True,\n",
       " 214: True,\n",
       " 215: True,\n",
       " 216: True,\n",
       " 217: True,\n",
       " 218: True,\n",
       " 219: True,\n",
       " 220: True,\n",
       " 221: False,\n",
       " 222: True,\n",
       " 223: True,\n",
       " 224: True,\n",
       " 225: True,\n",
       " 226: True,\n",
       " 227: True,\n",
       " 228: True,\n",
       " 229: True,\n",
       " 230: True,\n",
       " 231: True,\n",
       " 232: True,\n",
       " 233: True,\n",
       " 234: True,\n",
       " 235: True,\n",
       " 236: True,\n",
       " 237: True,\n",
       " 238: True,\n",
       " 239: True,\n",
       " 240: True,\n",
       " 241: True,\n",
       " 242: True,\n",
       " 243: True,\n",
       " 244: True,\n",
       " 245: False,\n",
       " 246: True,\n",
       " 247: True,\n",
       " 248: True,\n",
       " 249: True,\n",
       " 250: True,\n",
       " 251: True,\n",
       " 252: True,\n",
       " 253: True,\n",
       " 254: True,\n",
       " 255: True,\n",
       " 256: True,\n",
       " 257: True,\n",
       " 258: True,\n",
       " 259: True,\n",
       " 260: True,\n",
       " 261: True,\n",
       " 262: False,\n",
       " 263: True,\n",
       " 264: True,\n",
       " 265: True,\n",
       " 266: True,\n",
       " 267: True,\n",
       " 268: True,\n",
       " 269: True,\n",
       " 270: True,\n",
       " 271: True,\n",
       " 272: True,\n",
       " 273: True,\n",
       " 274: True,\n",
       " 275: True,\n",
       " 276: True,\n",
       " 277: True,\n",
       " 278: True,\n",
       " 279: True,\n",
       " 280: True,\n",
       " 281: True,\n",
       " 282: True,\n",
       " 283: True,\n",
       " 284: True,\n",
       " 285: True,\n",
       " 286: True,\n",
       " 287: True,\n",
       " 288: True,\n",
       " 289: True,\n",
       " 290: True,\n",
       " 291: True,\n",
       " 292: True,\n",
       " 293: True,\n",
       " 294: True,\n",
       " 295: True,\n",
       " 296: True,\n",
       " 297: True,\n",
       " 298: True,\n",
       " 299: True,\n",
       " 300: True,\n",
       " 301: True,\n",
       " 302: True,\n",
       " 303: True,\n",
       " 304: True,\n",
       " 305: True,\n",
       " 306: True,\n",
       " 307: True,\n",
       " 308: True,\n",
       " 309: True,\n",
       " 310: False,\n",
       " 311: True,\n",
       " 312: True,\n",
       " 313: False,\n",
       " 314: True,\n",
       " 315: True,\n",
       " 316: True,\n",
       " 317: True,\n",
       " 318: True,\n",
       " 319: True,\n",
       " 320: True,\n",
       " 321: True,\n",
       " 322: True,\n",
       " 323: True,\n",
       " 324: True,\n",
       " 325: True,\n",
       " 326: True,\n",
       " 327: True,\n",
       " 328: True,\n",
       " 329: True,\n",
       " 330: True,\n",
       " 331: True,\n",
       " 332: True,\n",
       " 333: True,\n",
       " 334: False,\n",
       " 335: True,\n",
       " 336: False,\n",
       " 337: True,\n",
       " 338: True,\n",
       " 339: True,\n",
       " 340: True,\n",
       " 341: True,\n",
       " 342: True,\n",
       " 343: True,\n",
       " 344: True,\n",
       " 345: True,\n",
       " 346: True,\n",
       " 347: True,\n",
       " 348: False,\n",
       " 349: True,\n",
       " 350: True,\n",
       " 351: True,\n",
       " 352: True,\n",
       " 353: True,\n",
       " 354: False,\n",
       " 355: True,\n",
       " 356: True,\n",
       " 357: True,\n",
       " 358: True,\n",
       " 359: True,\n",
       " 360: True,\n",
       " 361: True,\n",
       " 362: True,\n",
       " 363: True,\n",
       " 364: True,\n",
       " 365: True,\n",
       " 366: True,\n",
       " 367: True,\n",
       " 368: True,\n",
       " 369: True,\n",
       " 370: True,\n",
       " 371: True,\n",
       " 372: True,\n",
       " 373: True,\n",
       " 374: True,\n",
       " 375: True,\n",
       " 376: True,\n",
       " 377: True,\n",
       " 378: False,\n",
       " 379: True,\n",
       " 380: True,\n",
       " 381: True,\n",
       " 382: True,\n",
       " 383: True,\n",
       " 384: True,\n",
       " 385: True,\n",
       " 386: True,\n",
       " 387: True,\n",
       " 388: True,\n",
       " 389: True,\n",
       " 390: True,\n",
       " 391: False,\n",
       " 392: True,\n",
       " 393: True,\n",
       " 394: True,\n",
       " 395: True,\n",
       " 396: True,\n",
       " 397: True,\n",
       " 398: True,\n",
       " 399: True,\n",
       " 400: True,\n",
       " 401: True,\n",
       " 402: True,\n",
       " 403: True,\n",
       " 404: True,\n",
       " 405: True,\n",
       " 406: True,\n",
       " 407: True,\n",
       " 408: True,\n",
       " 409: True,\n",
       " 410: True,\n",
       " 411: True,\n",
       " 412: True,\n",
       " 413: True,\n",
       " 414: True,\n",
       " 415: True,\n",
       " 416: True,\n",
       " 417: True,\n",
       " 418: True,\n",
       " 419: True,\n",
       " 420: True,\n",
       " 421: True,\n",
       " 422: True,\n",
       " 423: True,\n",
       " 424: True,\n",
       " 425: True,\n",
       " 426: True,\n",
       " 427: True,\n",
       " 428: True,\n",
       " 429: True,\n",
       " 430: True,\n",
       " 431: True,\n",
       " 432: True,\n",
       " 433: True,\n",
       " 434: True,\n",
       " 435: True,\n",
       " 436: True,\n",
       " 437: True,\n",
       " 438: True,\n",
       " 439: True,\n",
       " 440: True,\n",
       " 441: True,\n",
       " 442: True,\n",
       " 443: True,\n",
       " 444: True,\n",
       " 445: True,\n",
       " 446: True,\n",
       " 447: True,\n",
       " 448: True,\n",
       " 449: True,\n",
       " 450: True,\n",
       " 451: True,\n",
       " 452: True,\n",
       " 453: True,\n",
       " 454: True,\n",
       " 455: True,\n",
       " 456: True,\n",
       " 457: True,\n",
       " 458: True,\n",
       " 459: True,\n",
       " 460: True,\n",
       " 461: True,\n",
       " 462: True,\n",
       " 463: True,\n",
       " 464: True,\n",
       " 465: True,\n",
       " 466: True,\n",
       " 467: True,\n",
       " 468: True,\n",
       " 469: True,\n",
       " 470: True,\n",
       " 471: True,\n",
       " 472: True,\n",
       " 473: True,\n",
       " 474: True,\n",
       " 475: True,\n",
       " 476: True,\n",
       " 477: True,\n",
       " 478: True,\n",
       " 479: True,\n",
       " 480: True,\n",
       " 481: True,\n",
       " 482: True,\n",
       " 483: True,\n",
       " 484: True,\n",
       " 485: True,\n",
       " 486: True,\n",
       " 487: True,\n",
       " 488: True,\n",
       " 489: True,\n",
       " 490: True,\n",
       " 491: True,\n",
       " 492: True,\n",
       " 493: True,\n",
       " 494: True,\n",
       " 495: False,\n",
       " 496: True,\n",
       " 497: True,\n",
       " 498: False,\n",
       " 499: True,\n",
       " 500: True,\n",
       " 501: True,\n",
       " 502: True,\n",
       " 503: True,\n",
       " 504: True,\n",
       " 505: True,\n",
       " 506: False,\n",
       " 507: True,\n",
       " 508: True,\n",
       " 509: True,\n",
       " 510: True,\n",
       " 511: True,\n",
       " 512: True,\n",
       " 513: True,\n",
       " 514: True,\n",
       " 515: True,\n",
       " 516: True,\n",
       " 517: True,\n",
       " 518: True,\n",
       " 519: True,\n",
       " 520: True,\n",
       " 521: True,\n",
       " 522: True,\n",
       " 523: True,\n",
       " 524: True,\n",
       " 525: True,\n",
       " 526: True,\n",
       " 527: True,\n",
       " 528: True,\n",
       " 529: True,\n",
       " 530: True,\n",
       " 531: True,\n",
       " 532: True,\n",
       " 533: False,\n",
       " 534: True,\n",
       " 535: True,\n",
       " 536: True,\n",
       " 537: True,\n",
       " 538: True,\n",
       " 539: False,\n",
       " 540: True,\n",
       " 541: True,\n",
       " 542: True,\n",
       " 543: True,\n",
       " 544: True,\n",
       " 545: True,\n",
       " 546: True,\n",
       " 547: True,\n",
       " 548: True,\n",
       " 549: True,\n",
       " 550: True,\n",
       " 551: False,\n",
       " 552: True,\n",
       " 553: True,\n",
       " 554: True,\n",
       " 555: True,\n",
       " 556: True,\n",
       " 557: True,\n",
       " 558: True,\n",
       " 559: True,\n",
       " 560: True,\n",
       " 561: True,\n",
       " 562: True,\n",
       " 563: True,\n",
       " 564: True,\n",
       " 565: True,\n",
       " 566: True,\n",
       " 567: True,\n",
       " 568: True,\n",
       " 569: True,\n",
       " 570: True,\n",
       " 571: True,\n",
       " 572: True,\n",
       " 573: False,\n",
       " 574: True,\n",
       " 575: True,\n",
       " 576: True,\n",
       " 577: True,\n",
       " 578: True,\n",
       " 579: True,\n",
       " 580: True,\n",
       " 581: True,\n",
       " 582: True,\n",
       " 583: True,\n",
       " 584: True,\n",
       " 585: True,\n",
       " 586: True,\n",
       " 587: True,\n",
       " 588: True,\n",
       " 589: True,\n",
       " 590: True,\n",
       " 591: True,\n",
       " 592: True,\n",
       " 593: True,\n",
       " 594: True,\n",
       " 595: True,\n",
       " 596: True,\n",
       " 597: True,\n",
       " 598: True,\n",
       " 599: True,\n",
       " 600: True,\n",
       " 601: True,\n",
       " 602: True,\n",
       " 603: True,\n",
       " 604: True,\n",
       " 605: False,\n",
       " 606: True,\n",
       " 607: True,\n",
       " 608: True,\n",
       " 609: True,\n",
       " 610: True,\n",
       " 611: False,\n",
       " 612: True,\n",
       " 613: True,\n",
       " 614: True,\n",
       " 615: True,\n",
       " 616: True,\n",
       " 617: True,\n",
       " 618: True,\n",
       " 619: True,\n",
       " 620: True,\n",
       " 621: True,\n",
       " 622: True,\n",
       " 623: True,\n",
       " 624: True,\n",
       " 625: True,\n",
       " 626: True,\n",
       " 627: True,\n",
       " 628: True,\n",
       " 629: True,\n",
       " 630: True,\n",
       " 631: True,\n",
       " 632: True,\n",
       " 633: True,\n",
       " 634: True,\n",
       " 635: True,\n",
       " 636: True,\n",
       " 637: True,\n",
       " 638: True,\n",
       " 639: True,\n",
       " 640: True,\n",
       " 641: True,\n",
       " 642: True,\n",
       " 643: True,\n",
       " 644: True,\n",
       " 645: True,\n",
       " 646: True,\n",
       " 647: True,\n",
       " 648: True,\n",
       " 649: True,\n",
       " 650: True,\n",
       " 651: True,\n",
       " 652: True,\n",
       " 653: True,\n",
       " 654: True,\n",
       " 655: True,\n",
       " 656: False,\n",
       " 657: True,\n",
       " 658: True,\n",
       " 659: True,\n",
       " 660: True,\n",
       " 661: True,\n",
       " 662: True,\n",
       " 663: True,\n",
       " 664: True,\n",
       " 665: True,\n",
       " 666: True,\n",
       " 667: True,\n",
       " 668: True,\n",
       " 669: True,\n",
       " 670: True,\n",
       " 671: True,\n",
       " 672: True,\n",
       " 673: True,\n",
       " 674: True,\n",
       " 675: True,\n",
       " 676: True,\n",
       " 677: True,\n",
       " 678: True,\n",
       " 679: True,\n",
       " 680: True,\n",
       " 681: True,\n",
       " 682: True,\n",
       " 683: True,\n",
       " 684: True,\n",
       " 685: True,\n",
       " 686: True,\n",
       " 687: True,\n",
       " 688: True,\n",
       " 689: True,\n",
       " 690: True,\n",
       " 691: True,\n",
       " 692: True,\n",
       " 693: True,\n",
       " 694: True,\n",
       " 695: True,\n",
       " 696: True,\n",
       " 697: True,\n",
       " 698: True,\n",
       " 699: True,\n",
       " 700: True,\n",
       " 701: True,\n",
       " 702: True,\n",
       " 703: True,\n",
       " 704: True,\n",
       " 705: True,\n",
       " 706: True,\n",
       " 707: True,\n",
       " 708: True,\n",
       " 709: True,\n",
       " 710: True,\n",
       " 711: True,\n",
       " 712: True,\n",
       " 713: False,\n",
       " 714: True,\n",
       " 715: True,\n",
       " 716: True,\n",
       " 717: True,\n",
       " 718: True,\n",
       " 719: True,\n",
       " 720: True,\n",
       " 721: True,\n",
       " 722: True,\n",
       " 723: True,\n",
       " 724: True,\n",
       " 725: True,\n",
       " 726: True,\n",
       " 727: True,\n",
       " 728: True,\n",
       " 729: True,\n",
       " 730: True,\n",
       " 731: True,\n",
       " 732: True,\n",
       " 733: True,\n",
       " 734: True,\n",
       " 735: True,\n",
       " 736: True,\n",
       " 737: True,\n",
       " 738: True,\n",
       " 739: True,\n",
       " 740: True,\n",
       " 741: True,\n",
       " 742: True,\n",
       " 743: True,\n",
       " 744: True,\n",
       " 745: True,\n",
       " 746: True,\n",
       " 747: True,\n",
       " 748: True,\n",
       " 749: True,\n",
       " 750: True,\n",
       " 751: True,\n",
       " 752: True,\n",
       " 753: True,\n",
       " 754: True,\n",
       " 755: True,\n",
       " 756: True,\n",
       " 757: True,\n",
       " 758: True,\n",
       " 759: True,\n",
       " 760: True,\n",
       " 761: True,\n",
       " 762: True,\n",
       " 763: True,\n",
       " 764: True,\n",
       " 765: True,\n",
       " 766: True,\n",
       " 767: False,\n",
       " 768: True,\n",
       " 769: True,\n",
       " 770: True,\n",
       " 771: True,\n",
       " 772: True,\n",
       " 773: True,\n",
       " 774: True,\n",
       " 775: True,\n",
       " 776: True,\n",
       " 777: True,\n",
       " 778: True,\n",
       " 779: True,\n",
       " 780: True,\n",
       " 781: True,\n",
       " 782: True,\n",
       " 783: True,\n",
       " 784: True,\n",
       " 785: True,\n",
       " 786: True,\n",
       " 787: True,\n",
       " 788: True,\n",
       " 789: True,\n",
       " 790: True,\n",
       " 791: True,\n",
       " 792: True,\n",
       " 793: True,\n",
       " 794: True,\n",
       " 795: True,\n",
       " 796: True,\n",
       " 797: True,\n",
       " 798: True,\n",
       " 799: True,\n",
       " 800: True,\n",
       " 801: True,\n",
       " 802: True,\n",
       " 803: True,\n",
       " 804: True,\n",
       " 805: True,\n",
       " 806: True,\n",
       " 807: True,\n",
       " 808: True,\n",
       " 809: True,\n",
       " 810: True,\n",
       " 811: True,\n",
       " 812: False,\n",
       " 813: True,\n",
       " 814: True,\n",
       " 815: True,\n",
       " 816: True,\n",
       " 817: True,\n",
       " 818: True,\n",
       " 819: True,\n",
       " 820: True,\n",
       " 821: True,\n",
       " 822: True,\n",
       " 823: True,\n",
       " 824: True,\n",
       " 825: True,\n",
       " 826: True,\n",
       " 827: True,\n",
       " 828: True,\n",
       " 829: True,\n",
       " 830: True,\n",
       " 831: True,\n",
       " 832: True,\n",
       " 833: True,\n",
       " 834: True,\n",
       " 835: True,\n",
       " 836: True,\n",
       " 837: True,\n",
       " 838: True,\n",
       " 839: True,\n",
       " 840: True,\n",
       " 841: True,\n",
       " 842: True,\n",
       " 843: True,\n",
       " 844: True,\n",
       " 845: True,\n",
       " 846: True,\n",
       " 847: False,\n",
       " 848: True,\n",
       " 849: True,\n",
       " 850: True,\n",
       " 851: True,\n",
       " 852: True,\n",
       " 853: True,\n",
       " 854: True,\n",
       " 855: True,\n",
       " 856: True,\n",
       " 857: True,\n",
       " 858: True,\n",
       " 859: True,\n",
       " 860: True,\n",
       " 861: True,\n",
       " 862: True,\n",
       " 863: True,\n",
       " 864: True,\n",
       " 865: True,\n",
       " 866: True,\n",
       " 867: True,\n",
       " 868: True,\n",
       " 869: True,\n",
       " 870: True,\n",
       " 871: True,\n",
       " 872: True,\n",
       " 873: True,\n",
       " 874: True,\n",
       " 875: True,\n",
       " 876: True,\n",
       " 877: True,\n",
       " 878: True,\n",
       " 879: False,\n",
       " 880: True,\n",
       " 881: True,\n",
       " 882: True,\n",
       " 883: True,\n",
       " 884: False,\n",
       " 885: True,\n",
       " 886: True,\n",
       " 887: True,\n",
       " 888: True,\n",
       " 889: True,\n",
       " 890: True,\n",
       " 891: False,\n",
       " 892: True,\n",
       " 893: True,\n",
       " 894: True,\n",
       " 895: True,\n",
       " 896: True,\n",
       " 897: True,\n",
       " 898: True,\n",
       " 899: True,\n",
       " 900: True,\n",
       " 901: True,\n",
       " 902: True,\n",
       " 903: True,\n",
       " 904: True,\n",
       " 905: True,\n",
       " 906: True,\n",
       " 907: True,\n",
       " 908: True,\n",
       " 909: True,\n",
       " 910: True,\n",
       " 911: False,\n",
       " 912: True,\n",
       " 913: True,\n",
       " 914: True,\n",
       " 915: True,\n",
       " 916: True,\n",
       " 917: True,\n",
       " 918: True,\n",
       " 919: True,\n",
       " 920: True,\n",
       " 921: True,\n",
       " 922: True,\n",
       " 923: True,\n",
       " 924: True,\n",
       " 925: True,\n",
       " 926: True,\n",
       " 927: True,\n",
       " 928: True,\n",
       " 929: True,\n",
       " 930: True,\n",
       " 931: True,\n",
       " 932: True,\n",
       " 933: True,\n",
       " 934: True,\n",
       " 935: True,\n",
       " 936: True,\n",
       " 937: True,\n",
       " 938: True,\n",
       " 939: True,\n",
       " 940: True,\n",
       " 941: True,\n",
       " 942: True,\n",
       " 943: True,\n",
       " 944: True,\n",
       " 945: True,\n",
       " 946: True,\n",
       " 947: True,\n",
       " 948: True,\n",
       " 949: True,\n",
       " 950: True,\n",
       " 951: True,\n",
       " 952: True,\n",
       " 953: True,\n",
       " 954: True,\n",
       " 955: True,\n",
       " 956: True,\n",
       " 957: True,\n",
       " 958: True,\n",
       " 959: True,\n",
       " 960: True,\n",
       " 961: True,\n",
       " 962: True,\n",
       " 963: True,\n",
       " 964: True,\n",
       " 965: True,\n",
       " 966: True,\n",
       " 967: True,\n",
       " 968: True,\n",
       " 969: True,\n",
       " 970: True,\n",
       " 971: True,\n",
       " 972: True,\n",
       " 973: True,\n",
       " 974: True,\n",
       " 975: True,\n",
       " 976: True,\n",
       " 977: True,\n",
       " 978: True,\n",
       " 979: True,\n",
       " 980: True,\n",
       " 981: True,\n",
       " 982: True,\n",
       " 983: True,\n",
       " 984: False,\n",
       " 985: True,\n",
       " 986: True,\n",
       " 987: True,\n",
       " 988: True,\n",
       " 989: True,\n",
       " 990: True,\n",
       " 991: True,\n",
       " 992: True,\n",
       " 993: True,\n",
       " 994: True,\n",
       " 995: False,\n",
       " 996: True,\n",
       " 997: True,\n",
       " 998: True,\n",
       " 999: True,\n",
       " ...}"
      ]
     },
     "execution_count": 22,
     "metadata": {},
     "output_type": "execute_result"
    }
   ],
   "source": [
    "Internet\n",
    "#The dictionary looks promising. Checking for the rows 1 / 14 as a small sample (I've checked for more values),\n",
    "#we can observe that they indeed include / don't include internet"
   ]
  },
  {
   "cell_type": "code",
   "execution_count": 23,
   "metadata": {
    "hidden": true
   },
   "outputs": [
    {
     "data": {
      "text/plain": [
       "['{\"Wireless Internet\"',\n",
       " '\"Air conditioning\"',\n",
       " 'Kitchen',\n",
       " 'Heating',\n",
       " '\"Family/kid friendly\"',\n",
       " 'Washer',\n",
       " 'Dryer',\n",
       " '\"Smoke detector\"',\n",
       " '\"Fire extinguisher\"',\n",
       " 'Essentials',\n",
       " 'Shampoo',\n",
       " 'Hangers',\n",
       " '\"Hair dryer\"',\n",
       " 'Iron',\n",
       " '\"translation missing: en.hosting_amenity_50\"}']"
      ]
     },
     "execution_count": 23,
     "metadata": {},
     "output_type": "execute_result"
    }
   ],
   "source": [
    "new[1]"
   ]
  },
  {
   "cell_type": "code",
   "execution_count": 24,
   "metadata": {
    "hidden": true
   },
   "outputs": [
    {
     "data": {
      "text/plain": [
       "['{Kitchen',\n",
       " 'Heating',\n",
       " '\"Smoke detector\"',\n",
       " '\"Carbon monoxide detector\"',\n",
       " 'Essentials',\n",
       " '\"Hair dryer\"',\n",
       " '\"translation missing: en.hosting_amenity_50\"}']"
      ]
     },
     "execution_count": 24,
     "metadata": {},
     "output_type": "execute_result"
    }
   ],
   "source": [
    "new[14]"
   ]
  },
  {
   "cell_type": "code",
   "execution_count": 25,
   "metadata": {
    "hidden": true
   },
   "outputs": [
    {
     "data": {
      "text/plain": [
       "74111"
      ]
     },
     "execution_count": 25,
     "metadata": {},
     "output_type": "execute_result"
    }
   ],
   "source": [
    "len(Internet)\n",
    "#The dictionary also has the correct number of rows."
   ]
  },
  {
   "cell_type": "markdown",
   "metadata": {
    "hidden": true
   },
   "source": [
    "Now we take the intermediate step to transform the dictionary into a dataframe as the direct addition of the dictionary to our dataframe df_raw via the pd.DataFrame.append function exceeds the capacity of my laptop memory."
   ]
  },
  {
   "cell_type": "code",
   "execution_count": 26,
   "metadata": {
    "hidden": true
   },
   "outputs": [],
   "source": [
    "df_internet = pd.DataFrame.from_dict(Internet, orient='index')"
   ]
  },
  {
   "cell_type": "code",
   "execution_count": 27,
   "metadata": {
    "hidden": true
   },
   "outputs": [],
   "source": [
    "df_raw['has_internet'] = df_internet"
   ]
  },
  {
   "cell_type": "code",
   "execution_count": 28,
   "metadata": {
    "hidden": true,
    "scrolled": true
   },
   "outputs": [
    {
     "data": {
      "text/html": [
       "<div>\n",
       "<style scoped>\n",
       "    .dataframe tbody tr th:only-of-type {\n",
       "        vertical-align: middle;\n",
       "    }\n",
       "\n",
       "    .dataframe tbody tr th {\n",
       "        vertical-align: top;\n",
       "    }\n",
       "\n",
       "    .dataframe thead th {\n",
       "        text-align: right;\n",
       "    }\n",
       "</style>\n",
       "<table border=\"1\" class=\"dataframe\">\n",
       "  <thead>\n",
       "    <tr style=\"text-align: right;\">\n",
       "      <th></th>\n",
       "      <th>id</th>\n",
       "      <th>log_price</th>\n",
       "      <th>property_type</th>\n",
       "      <th>room_type</th>\n",
       "      <th>amenities</th>\n",
       "      <th>accommodates</th>\n",
       "      <th>bathrooms</th>\n",
       "      <th>bed_type</th>\n",
       "      <th>cancellation_policy</th>\n",
       "      <th>cleaning_fee</th>\n",
       "      <th>city</th>\n",
       "      <th>description</th>\n",
       "      <th>first_review</th>\n",
       "      <th>host_has_profile_pic</th>\n",
       "      <th>host_identity_verified</th>\n",
       "      <th>host_response_rate</th>\n",
       "      <th>host_since</th>\n",
       "      <th>instant_bookable</th>\n",
       "      <th>last_review</th>\n",
       "      <th>latitude</th>\n",
       "      <th>longitude</th>\n",
       "      <th>name</th>\n",
       "      <th>neighbourhood</th>\n",
       "      <th>number_of_reviews</th>\n",
       "      <th>review_scores_rating</th>\n",
       "      <th>thumbnail_url</th>\n",
       "      <th>zipcode</th>\n",
       "      <th>bedrooms</th>\n",
       "      <th>beds</th>\n",
       "      <th>has_internet</th>\n",
       "    </tr>\n",
       "  </thead>\n",
       "  <tbody>\n",
       "    <tr>\n",
       "      <th>0</th>\n",
       "      <td>6901257</td>\n",
       "      <td>5.010635</td>\n",
       "      <td>Apartment</td>\n",
       "      <td>Entire home/apt</td>\n",
       "      <td>{\"Wireless Internet\",\"Air conditioning\",Kitche...</td>\n",
       "      <td>3</td>\n",
       "      <td>1.0</td>\n",
       "      <td>Real Bed</td>\n",
       "      <td>strict</td>\n",
       "      <td>True</td>\n",
       "      <td>NYC</td>\n",
       "      <td>Beautiful, sunlit brownstone 1-bedroom in the ...</td>\n",
       "      <td>2016-06-18</td>\n",
       "      <td>True</td>\n",
       "      <td>True</td>\n",
       "      <td>NaN</td>\n",
       "      <td>2012-03-26</td>\n",
       "      <td>False</td>\n",
       "      <td>2016-07-18</td>\n",
       "      <td>40.696524</td>\n",
       "      <td>-73.991617</td>\n",
       "      <td>Beautiful brownstone 1-bedroom</td>\n",
       "      <td>Brooklyn Heights</td>\n",
       "      <td>2</td>\n",
       "      <td>100.0</td>\n",
       "      <td>https://a0.muscache.com/im/pictures/6d7cbbf7-c...</td>\n",
       "      <td>11201</td>\n",
       "      <td>1.0</td>\n",
       "      <td>1.0</td>\n",
       "      <td>True</td>\n",
       "    </tr>\n",
       "    <tr>\n",
       "      <th>1</th>\n",
       "      <td>6304928</td>\n",
       "      <td>5.129899</td>\n",
       "      <td>Apartment</td>\n",
       "      <td>Entire home/apt</td>\n",
       "      <td>{\"Wireless Internet\",\"Air conditioning\",Kitche...</td>\n",
       "      <td>7</td>\n",
       "      <td>1.0</td>\n",
       "      <td>Real Bed</td>\n",
       "      <td>strict</td>\n",
       "      <td>True</td>\n",
       "      <td>NYC</td>\n",
       "      <td>Enjoy travelling during your stay in Manhattan...</td>\n",
       "      <td>2017-08-05</td>\n",
       "      <td>True</td>\n",
       "      <td>False</td>\n",
       "      <td>100%</td>\n",
       "      <td>2017-06-19</td>\n",
       "      <td>True</td>\n",
       "      <td>2017-09-23</td>\n",
       "      <td>40.766115</td>\n",
       "      <td>-73.989040</td>\n",
       "      <td>Superb 3BR Apt Located Near Times Square</td>\n",
       "      <td>Hell's Kitchen</td>\n",
       "      <td>6</td>\n",
       "      <td>93.0</td>\n",
       "      <td>https://a0.muscache.com/im/pictures/348a55fe-4...</td>\n",
       "      <td>10019</td>\n",
       "      <td>3.0</td>\n",
       "      <td>3.0</td>\n",
       "      <td>True</td>\n",
       "    </tr>\n",
       "    <tr>\n",
       "      <th>2</th>\n",
       "      <td>7919400</td>\n",
       "      <td>4.976734</td>\n",
       "      <td>Apartment</td>\n",
       "      <td>Entire home/apt</td>\n",
       "      <td>{TV,\"Cable TV\",\"Wireless Internet\",\"Air condit...</td>\n",
       "      <td>5</td>\n",
       "      <td>1.0</td>\n",
       "      <td>Real Bed</td>\n",
       "      <td>moderate</td>\n",
       "      <td>True</td>\n",
       "      <td>NYC</td>\n",
       "      <td>The Oasis comes complete with a full backyard ...</td>\n",
       "      <td>2017-04-30</td>\n",
       "      <td>True</td>\n",
       "      <td>True</td>\n",
       "      <td>100%</td>\n",
       "      <td>2016-10-25</td>\n",
       "      <td>True</td>\n",
       "      <td>2017-09-14</td>\n",
       "      <td>40.808110</td>\n",
       "      <td>-73.943756</td>\n",
       "      <td>The Garden Oasis</td>\n",
       "      <td>Harlem</td>\n",
       "      <td>10</td>\n",
       "      <td>92.0</td>\n",
       "      <td>https://a0.muscache.com/im/pictures/6fae5362-9...</td>\n",
       "      <td>10027</td>\n",
       "      <td>1.0</td>\n",
       "      <td>3.0</td>\n",
       "      <td>True</td>\n",
       "    </tr>\n",
       "    <tr>\n",
       "      <th>3</th>\n",
       "      <td>13418779</td>\n",
       "      <td>6.620073</td>\n",
       "      <td>House</td>\n",
       "      <td>Entire home/apt</td>\n",
       "      <td>{TV,\"Cable TV\",Internet,\"Wireless Internet\",Ki...</td>\n",
       "      <td>4</td>\n",
       "      <td>1.0</td>\n",
       "      <td>Real Bed</td>\n",
       "      <td>flexible</td>\n",
       "      <td>True</td>\n",
       "      <td>SF</td>\n",
       "      <td>This light-filled home-away-from-home is super...</td>\n",
       "      <td>NaT</td>\n",
       "      <td>True</td>\n",
       "      <td>True</td>\n",
       "      <td>NaN</td>\n",
       "      <td>2015-04-19</td>\n",
       "      <td>False</td>\n",
       "      <td>NaT</td>\n",
       "      <td>37.772004</td>\n",
       "      <td>-122.431619</td>\n",
       "      <td>Beautiful Flat in the Heart of SF!</td>\n",
       "      <td>Lower Haight</td>\n",
       "      <td>0</td>\n",
       "      <td>NaN</td>\n",
       "      <td>https://a0.muscache.com/im/pictures/72208dad-9...</td>\n",
       "      <td>94117.0</td>\n",
       "      <td>2.0</td>\n",
       "      <td>2.0</td>\n",
       "      <td>True</td>\n",
       "    </tr>\n",
       "    <tr>\n",
       "      <th>4</th>\n",
       "      <td>3808709</td>\n",
       "      <td>4.744932</td>\n",
       "      <td>Apartment</td>\n",
       "      <td>Entire home/apt</td>\n",
       "      <td>{TV,Internet,\"Wireless Internet\",\"Air conditio...</td>\n",
       "      <td>2</td>\n",
       "      <td>1.0</td>\n",
       "      <td>Real Bed</td>\n",
       "      <td>moderate</td>\n",
       "      <td>True</td>\n",
       "      <td>DC</td>\n",
       "      <td>Cool, cozy, and comfortable studio located in ...</td>\n",
       "      <td>2015-05-12</td>\n",
       "      <td>True</td>\n",
       "      <td>True</td>\n",
       "      <td>100%</td>\n",
       "      <td>2015-03-01</td>\n",
       "      <td>True</td>\n",
       "      <td>2017-01-22</td>\n",
       "      <td>38.925627</td>\n",
       "      <td>-77.034596</td>\n",
       "      <td>Great studio in midtown DC</td>\n",
       "      <td>Columbia Heights</td>\n",
       "      <td>4</td>\n",
       "      <td>40.0</td>\n",
       "      <td>NaN</td>\n",
       "      <td>20009</td>\n",
       "      <td>0.0</td>\n",
       "      <td>1.0</td>\n",
       "      <td>True</td>\n",
       "    </tr>\n",
       "  </tbody>\n",
       "</table>\n",
       "</div>"
      ],
      "text/plain": [
       "         id  log_price property_type        room_type  ...  zipcode  bedrooms  beds has_internet\n",
       "0   6901257   5.010635     Apartment  Entire home/apt  ...    11201       1.0   1.0         True\n",
       "1   6304928   5.129899     Apartment  Entire home/apt  ...    10019       3.0   3.0         True\n",
       "2   7919400   4.976734     Apartment  Entire home/apt  ...    10027       1.0   3.0         True\n",
       "3  13418779   6.620073         House  Entire home/apt  ...  94117.0       2.0   2.0         True\n",
       "4   3808709   4.744932     Apartment  Entire home/apt  ...    20009       0.0   1.0         True\n",
       "\n",
       "[5 rows x 30 columns]"
      ]
     },
     "execution_count": 28,
     "metadata": {},
     "output_type": "execute_result"
    }
   ],
   "source": [
    "df_raw.head()"
   ]
  },
  {
   "cell_type": "markdown",
   "metadata": {
    "hidden": true
   },
   "source": [
    "We can observe that the column 'has_internet' has been succesfully added to our dataframe. As we've now seen that this works, we can follow this process for the remaining 51 amenities that we want to include. Unfortunately, this used a lot of code and space as I've not managed to find a way to systemize the automatic renaming of the dictionaries after the different strings of amenities."
   ]
  },
  {
   "cell_type": "code",
   "execution_count": 29,
   "metadata": {
    "hidden": true
   },
   "outputs": [],
   "source": [
    "Air_conditioning = {}\n",
    "\n",
    "for n in range(0,74111):\n",
    "    for string in new[n]:\n",
    "        if \"Air conditioning\" in string:\n",
    "            Air_conditioning[n] = True\n",
    "            break\n",
    "        else:\n",
    "            Air_conditioning[n] = False\n",
    "\n",
    "df_Air_conditioning = pd.DataFrame.from_dict(Air_conditioning, orient='index')\n",
    "df_raw['has_aircon'] = df_Air_conditioning"
   ]
  },
  {
   "cell_type": "code",
   "execution_count": 30,
   "metadata": {
    "hidden": true
   },
   "outputs": [],
   "source": [
    "Kitchen = {}\n",
    "\n",
    "for n in range(0,74111):\n",
    "    for string in new[n]:\n",
    "        if \"Kitchen\" in string:\n",
    "            Kitchen[n] = True\n",
    "            break\n",
    "        else:\n",
    "            Kitchen[n] = False\n",
    "            \n",
    "df_Kitchen = pd.DataFrame.from_dict(Kitchen, orient='index')\n",
    "df_raw['has_kitchen'] = df_Kitchen"
   ]
  },
  {
   "cell_type": "code",
   "execution_count": 31,
   "metadata": {
    "hidden": true
   },
   "outputs": [],
   "source": [
    "heating = {}\n",
    "\n",
    "for n in range(0,74111):\n",
    "    for string in new[n]:\n",
    "        if \"Heating\" in string:\n",
    "            heating[n] = True\n",
    "            break\n",
    "        else:\n",
    "            heating[n] = False\n",
    "            \n",
    "df_heating = pd.DataFrame.from_dict(heating, orient='index')\n",
    "df_raw['has_heating'] = df_heating"
   ]
  },
  {
   "cell_type": "code",
   "execution_count": 32,
   "metadata": {
    "hidden": true
   },
   "outputs": [],
   "source": [
    "family_friendly = {}\n",
    "\n",
    "for n in range(0,74111):\n",
    "    for string in new[n]:\n",
    "        if \"Family\" in string:\n",
    "            family_friendly[n] = True\n",
    "            break\n",
    "        else:\n",
    "            family_friendly[n] = False\n",
    "            \n",
    "df_family_friendly = pd.DataFrame.from_dict(family_friendly, orient='index')\n",
    "df_raw['is_family_friendly'] = df_family_friendly"
   ]
  },
  {
   "cell_type": "code",
   "execution_count": 33,
   "metadata": {
    "hidden": true
   },
   "outputs": [],
   "source": [
    "Essentials = {}\n",
    "\n",
    "for n in range(0,74111):\n",
    "    for string in new[n]:\n",
    "        if \"Essentials\" in string:\n",
    "            Essentials[n] = True\n",
    "            break\n",
    "        else:\n",
    "            Essentials[n] = False\n",
    "            \n",
    "df_Essentials = pd.DataFrame.from_dict(Essentials, orient='index')\n",
    "df_raw['has_Essentials'] = df_Essentials"
   ]
  },
  {
   "cell_type": "code",
   "execution_count": 34,
   "metadata": {
    "hidden": true
   },
   "outputs": [],
   "source": [
    "Hair_dryer = {}\n",
    "\n",
    "for n in range(0,74111):\n",
    "    for string in new[n]:\n",
    "        if \"Hair dryer\" in string:\n",
    "            Hair_dryer[n] = True\n",
    "            break\n",
    "        else:\n",
    "            Hair_dryer[n] = False\n",
    "            \n",
    "df_Hair_dryer = pd.DataFrame.from_dict(Hair_dryer, orient='index')\n",
    "df_raw['has_hairdryer'] = df_Hair_dryer"
   ]
  },
  {
   "cell_type": "code",
   "execution_count": 35,
   "metadata": {
    "hidden": true
   },
   "outputs": [],
   "source": [
    "Iron = {}\n",
    "\n",
    "for n in range(0,74111):\n",
    "    for string in new[n]:\n",
    "        if \"Iron\" in string:\n",
    "            Iron[n] = True\n",
    "            break\n",
    "        else:\n",
    "            Iron[n] = False\n",
    "            \n",
    "df_Iron = pd.DataFrame.from_dict(Iron, orient='index')\n",
    "df_raw['has_Iron'] = df_Iron"
   ]
  },
  {
   "cell_type": "code",
   "execution_count": 36,
   "metadata": {
    "hidden": true
   },
   "outputs": [],
   "source": [
    "translation_missing = {}\n",
    "\n",
    "for n in range(0,74111):\n",
    "    for string in new[n]:\n",
    "        if \"translation missing\" in string:\n",
    "            translation_missing[n] = True\n",
    "            break\n",
    "        else:\n",
    "            translation_missing[n] = False\n",
    "            \n",
    "df_translation_missing = pd.DataFrame.from_dict(translation_missing, orient='index')\n",
    "df_raw['translation_missing'] = df_translation_missing"
   ]
  },
  {
   "cell_type": "code",
   "execution_count": 37,
   "metadata": {
    "hidden": true
   },
   "outputs": [],
   "source": [
    "Washer = {}\n",
    "\n",
    "for n in range(0,74111):\n",
    "    for string in new[n]:\n",
    "        if \"Washer\" in string:\n",
    "            Washer[n] = True\n",
    "            break\n",
    "        else:\n",
    "            Washer[n] = False\n",
    "\n",
    "df_Washer = pd.DataFrame.from_dict(Washer, orient='index')\n",
    "df_raw['has_Washer'] = df_Washer"
   ]
  },
  {
   "cell_type": "code",
   "execution_count": 38,
   "metadata": {
    "hidden": true
   },
   "outputs": [],
   "source": [
    "Dryer = {}\n",
    "\n",
    "for n in range(0,74111):\n",
    "    for string in new[n]:\n",
    "        if \"Dryer\" in string:\n",
    "            Dryer[n] = True\n",
    "            break\n",
    "        else:\n",
    "            Dryer[n] = False\n",
    "\n",
    "df_Dryer = pd.DataFrame.from_dict(Dryer, orient='index')\n",
    "df_raw['has_Dryer'] = df_Dryer"
   ]
  },
  {
   "cell_type": "code",
   "execution_count": 39,
   "metadata": {
    "hidden": true
   },
   "outputs": [],
   "source": [
    "Smoke_CO_detector = {}\n",
    "\n",
    "for n in range(0,74111):\n",
    "    for string in new[n]:\n",
    "        if \"detector\" in string:\n",
    "            Smoke_CO_detector[n] = True\n",
    "            break\n",
    "        else:\n",
    "            Smoke_CO_detector[n] = False\n",
    "\n",
    "df_Smoke_CO_detector = pd.DataFrame.from_dict(Smoke_CO_detector, orient='index')\n",
    "df_raw['has_Smoke/CO_detector'] = df_Smoke_CO_detector"
   ]
  },
  {
   "cell_type": "code",
   "execution_count": 40,
   "metadata": {
    "hidden": true
   },
   "outputs": [],
   "source": [
    "Fire_extinguisher = {}\n",
    "\n",
    "for n in range(0,74111):\n",
    "    for string in new[n]:\n",
    "        if \"extinguisher\" in string:\n",
    "            Fire_extinguisher[n] = True\n",
    "            break\n",
    "        else:\n",
    "            Fire_extinguisher[n] = False\n",
    "\n",
    "df_Fire_extinguisher = pd.DataFrame.from_dict(Fire_extinguisher, orient='index')\n",
    "df_raw['has_Fire_extinguisher'] = df_Fire_extinguisher"
   ]
  },
  {
   "cell_type": "code",
   "execution_count": 41,
   "metadata": {
    "hidden": true
   },
   "outputs": [],
   "source": [
    "Shampoo = {}\n",
    "\n",
    "for n in range(0,74111):\n",
    "    for string in new[n]:\n",
    "        if \"Shampoo\" in string:\n",
    "            Shampoo[n] = True\n",
    "            break\n",
    "        else:\n",
    "            Shampoo[n] = False\n",
    "\n",
    "df_Shampoo = pd.DataFrame.from_dict(Shampoo, orient='index')\n",
    "df_raw['has_Shampoo'] = df_Shampoo"
   ]
  },
  {
   "cell_type": "code",
   "execution_count": 42,
   "metadata": {
    "hidden": true
   },
   "outputs": [],
   "source": [
    "Hangers = {}\n",
    "\n",
    "for n in range(0,74111):\n",
    "    for string in new[n]:\n",
    "        if \"Hangers\" in string:\n",
    "            Hangers[n] = True\n",
    "            break\n",
    "        else:\n",
    "            Hangers[n] = False\n",
    "\n",
    "df_Hangers = pd.DataFrame.from_dict(Hangers, orient='index')\n",
    "df_raw['has_Hangers'] = df_Hangers"
   ]
  },
  {
   "cell_type": "code",
   "execution_count": 43,
   "metadata": {
    "hidden": true
   },
   "outputs": [],
   "source": [
    "TV = {}\n",
    "\n",
    "for n in range(0,74111):\n",
    "    for string in new[n]:\n",
    "        if \"TV\" in string:\n",
    "            TV[n] = True\n",
    "            break\n",
    "        else:\n",
    "            TV[n] = False\n",
    "\n",
    "df_TV = pd.DataFrame.from_dict(TV, orient='index')\n",
    "df_raw['has_TV'] = df_TV"
   ]
  },
  {
   "cell_type": "code",
   "execution_count": 44,
   "metadata": {
    "hidden": true
   },
   "outputs": [],
   "source": [
    "Breakfast = {}\n",
    "\n",
    "for n in range(0,74111):\n",
    "    for string in new[n]:\n",
    "        if \"Breakfast\" in string:\n",
    "            Breakfast[n] = True\n",
    "            break\n",
    "        else:\n",
    "            Breakfast[n] = False\n",
    "\n",
    "df_Breakfast = pd.DataFrame.from_dict(Breakfast, orient='index')\n",
    "df_raw['Breakfast_included'] = df_Breakfast"
   ]
  },
  {
   "cell_type": "code",
   "execution_count": 45,
   "metadata": {
    "hidden": true
   },
   "outputs": [],
   "source": [
    "Buzzer_wireless_intercom = {}\n",
    "\n",
    "for n in range(0,74111):\n",
    "    for string in new[n]:\n",
    "        if \"Buzzer\" in string:\n",
    "            Buzzer_wireless_intercom[n] = True\n",
    "            break\n",
    "        else:\n",
    "            Buzzer_wireless_intercom[n] = False\n",
    "\n",
    "df_Buzzer_wireless_intercom = pd.DataFrame.from_dict(Buzzer_wireless_intercom, orient='index')\n",
    "df_raw['has_electric_doorbell'] = df_Buzzer_wireless_intercom"
   ]
  },
  {
   "cell_type": "code",
   "execution_count": 46,
   "metadata": {
    "hidden": true
   },
   "outputs": [],
   "source": [
    "Laptop_friendly_workspace = {}\n",
    "\n",
    "for n in range(0,74111):\n",
    "    for string in new[n]:\n",
    "        if \"Laptop\" in string:\n",
    "            Laptop_friendly_workspace[n] = True\n",
    "            break\n",
    "        else:\n",
    "            Laptop_friendly_workspace[n] = False\n",
    "\n",
    "df_Laptop_friendly_workspace = pd.DataFrame.from_dict(Laptop_friendly_workspace, orient='index')\n",
    "df_raw['Laptop_friendly_workspace'] = df_Laptop_friendly_workspace"
   ]
  },
  {
   "cell_type": "code",
   "execution_count": 47,
   "metadata": {
    "hidden": true
   },
   "outputs": [],
   "source": [
    "Indoor_fireplace = {}\n",
    "\n",
    "for n in range(0,74111):\n",
    "    for string in new[n]:\n",
    "        if \"fireplace\" in string:\n",
    "            Indoor_fireplace[n] = True\n",
    "            break\n",
    "        else:\n",
    "            Indoor_fireplace[n] = False\n",
    "\n",
    "df_Indoor_fireplace = pd.DataFrame.from_dict(Indoor_fireplace, orient='index')\n",
    "df_raw['has_Indoor_fireplace'] = df_Indoor_fireplace"
   ]
  },
  {
   "cell_type": "code",
   "execution_count": 48,
   "metadata": {
    "hidden": true
   },
   "outputs": [],
   "source": [
    "First_aid_kit = {}\n",
    "\n",
    "for n in range(0,74111):\n",
    "    for string in new[n]:\n",
    "        if \"aid\" in string:\n",
    "            First_aid_kit[n] = True\n",
    "            break\n",
    "        else:\n",
    "            First_aid_kit[n] = False\n",
    "\n",
    "df_First_aid_kit = pd.DataFrame.from_dict(First_aid_kit, orient='index')\n",
    "df_raw['has_First_aid_kit'] = df_First_aid_kit"
   ]
  },
  {
   "cell_type": "code",
   "execution_count": 49,
   "metadata": {
    "hidden": true
   },
   "outputs": [],
   "source": [
    "Elevator = {}\n",
    "\n",
    "for n in range(0,74111):\n",
    "    for string in new[n]:\n",
    "        if \"Elevator\" in string:\n",
    "            Elevator[n] = True\n",
    "            break\n",
    "        else:\n",
    "            Elevator[n] = False\n",
    "\n",
    "df_Elevator = pd.DataFrame.from_dict(Elevator, orient='index')\n",
    "df_raw['has_Elevator'] = df_Elevator"
   ]
  },
  {
   "cell_type": "code",
   "execution_count": 50,
   "metadata": {
    "hidden": true
   },
   "outputs": [],
   "source": [
    "Pool = {}\n",
    "\n",
    "for n in range(0,74111):\n",
    "    for string in new[n]:\n",
    "        if \"Pool\" in string:\n",
    "            Pool[n] = True\n",
    "            break\n",
    "        else:\n",
    "            Pool[n] = False\n",
    "\n",
    "df_Pool = pd.DataFrame.from_dict(Pool, orient='index')\n",
    "df_raw['has_Pool'] = df_Pool"
   ]
  },
  {
   "cell_type": "code",
   "execution_count": 51,
   "metadata": {
    "hidden": true
   },
   "outputs": [],
   "source": [
    "Free_parking = {}\n",
    "\n",
    "for n in range(0,74111):\n",
    "    for string in new[n]:\n",
    "        if \"parking\" in string:\n",
    "            Free_parking[n] = True\n",
    "            break\n",
    "        else:\n",
    "            Free_parking[n] = False\n",
    "\n",
    "df_Free_parking = pd.DataFrame.from_dict(Free_parking, orient='index')\n",
    "df_raw['Free_parking'] = df_Free_parking"
   ]
  },
  {
   "cell_type": "code",
   "execution_count": 52,
   "metadata": {
    "hidden": true
   },
   "outputs": [],
   "source": [
    "Gym = {}\n",
    "\n",
    "for n in range(0,74111):\n",
    "    for string in new[n]:\n",
    "        if \"Gym\" in string:\n",
    "            Gym[n] = True\n",
    "            break\n",
    "        else:\n",
    "            Gym[n] = False\n",
    "\n",
    "df_Gym = pd.DataFrame.from_dict(Gym, orient='index')\n",
    "df_raw['has_Gym'] = df_Gym"
   ]
  },
  {
   "cell_type": "code",
   "execution_count": 53,
   "metadata": {
    "hidden": true
   },
   "outputs": [],
   "source": [
    "Hot_tub = {}\n",
    "\n",
    "for n in range(0,74111):\n",
    "    for string in new[n]:\n",
    "        if \"tub\" in string:\n",
    "            Hot_tub[n] = True\n",
    "            break\n",
    "        else:\n",
    "            Hot_tub[n] = False\n",
    "\n",
    "df_Hot_tub = pd.DataFrame.from_dict(Hot_tub, orient='index')\n",
    "df_raw['has_Hot_tub'] = df_Hot_tub"
   ]
  },
  {
   "cell_type": "code",
   "execution_count": 54,
   "metadata": {
    "hidden": true
   },
   "outputs": [],
   "source": [
    "Wheelchair_accessible = {}\n",
    "\n",
    "for n in range(0,74111):\n",
    "    for string in new[n]:\n",
    "        if \"Wheelchair\" in string:\n",
    "            Wheelchair_accessible[n] = True\n",
    "            break\n",
    "        else:\n",
    "            Wheelchair_accessible[n] = False\n",
    "\n",
    "df_Wheelchair_accessible = pd.DataFrame.from_dict(Wheelchair_accessible, orient='index')\n",
    "df_raw['is_Wheelchair_accessible'] = df_Wheelchair_accessible"
   ]
  },
  {
   "cell_type": "code",
   "execution_count": 55,
   "metadata": {
    "hidden": true
   },
   "outputs": [],
   "source": [
    "Doorman = {}\n",
    "#marginal bias by including 'Doorman Entry' and its 0,6% of true values\n",
    "\n",
    "for n in range(0,74111):\n",
    "    for string in new[n]:\n",
    "        if \"Doorman\" in string:\n",
    "            Doorman[n] = True\n",
    "            break\n",
    "        else:\n",
    "            Doorman[n] = False\n",
    "\n",
    "df_Doorman = pd.DataFrame.from_dict(Doorman, orient='index')\n",
    "df_raw['has_Doorman'] = df_Doorman"
   ]
  },
  {
   "cell_type": "code",
   "execution_count": 56,
   "metadata": {
    "hidden": true
   },
   "outputs": [],
   "source": [
    "Dogs = {}\n",
    "\n",
    "for n in range(0,74111):\n",
    "    for string in new[n]:\n",
    "        if \"Dog\" in string:\n",
    "            Dogs[n] = True\n",
    "            break\n",
    "        else:\n",
    "            Dogs[n] = False\n",
    "\n",
    "df_Dogs = pd.DataFrame.from_dict(Dogs, orient='index')\n",
    "df_raw['has_Dogs'] = df_Dogs"
   ]
  },
  {
   "cell_type": "code",
   "execution_count": 57,
   "metadata": {
    "hidden": true
   },
   "outputs": [],
   "source": [
    "Pets_live_on_property = {}\n",
    "\n",
    "for n in range(0,74111):\n",
    "    for string in new[n]:\n",
    "        if \"property\" in string:\n",
    "            Pets_live_on_property[n] = True\n",
    "            break\n",
    "        else:\n",
    "            Pets_live_on_property[n] = False\n",
    "\n",
    "df_Pets_live_on_property = pd.DataFrame.from_dict(Pets_live_on_property, orient='index')\n",
    "df_raw['Pets_live_on_property'] = df_Pets_live_on_property"
   ]
  },
  {
   "cell_type": "code",
   "execution_count": 58,
   "metadata": {
    "hidden": true
   },
   "outputs": [],
   "source": [
    "Lock_on_bedroom_door = {}\n",
    "\n",
    "for n in range(0,74111):\n",
    "    for string in new[n]:\n",
    "        if \"Lock\" in string:\n",
    "            Lock_on_bedroom_door[n] = True\n",
    "            break\n",
    "        else:\n",
    "            Lock_on_bedroom_door[n] = False\n",
    "\n",
    "df_Lock_on_bedroom_door = pd.DataFrame.from_dict(Lock_on_bedroom_door, orient='index')\n",
    "df_raw['has_Lock_on_bedroom_door'] = df_Lock_on_bedroom_door"
   ]
  },
  {
   "cell_type": "code",
   "execution_count": 59,
   "metadata": {
    "hidden": true
   },
   "outputs": [],
   "source": [
    "Private_entrance = {}\n",
    "#marginal bias by including 'Path to entrance lit at night' and it's 0,036% of true values.\n",
    "#but better than including 'Private living room' and 'Private bathroom' with its combined 3,5% of true values.\n",
    "\n",
    "for n in range(0,74111):\n",
    "    for string in new[n]:\n",
    "        if \"entrance\" in string:\n",
    "            Private_entrance[n] = True\n",
    "            break\n",
    "        else:\n",
    "            Private_entrance[n] = False\n",
    "\n",
    "df_Private_entrance = pd.DataFrame.from_dict(Private_entrance, orient='index')\n",
    "df_raw['has_Private_entrance'] = df_Private_entrance"
   ]
  },
  {
   "cell_type": "code",
   "execution_count": 60,
   "metadata": {
    "hidden": true
   },
   "outputs": [],
   "source": [
    "Hot_water = {}\n",
    "##marginal bias by including 'Hot water kettle' and it's 0,23% of true values.\n",
    "\n",
    "for n in range(0,74111):\n",
    "    for string in new[n]:\n",
    "        if \"water\" in string:\n",
    "            Hot_water[n] = True\n",
    "            break\n",
    "        else:\n",
    "            Hot_water[n] = False\n",
    "\n",
    "df_Hot_water = pd.DataFrame.from_dict(Hot_water, orient='index')\n",
    "df_raw['has_Hot_water'] = df_Hot_water"
   ]
  },
  {
   "cell_type": "code",
   "execution_count": 61,
   "metadata": {
    "hidden": true
   },
   "outputs": [],
   "source": [
    "Bed_linens = {}\n",
    "\n",
    "for n in range(0,74111):\n",
    "    for string in new[n]:\n",
    "        if \"linens\" in string:\n",
    "            Bed_linens[n] = True\n",
    "            break\n",
    "        else:\n",
    "            Bed_linens[n] = False\n",
    "\n",
    "df_Bed_linens = pd.DataFrame.from_dict(Bed_linens, orient='index')\n",
    "df_raw['has_Bed_linens'] = df_Bed_linens"
   ]
  },
  {
   "cell_type": "code",
   "execution_count": 62,
   "metadata": {
    "hidden": true
   },
   "outputs": [],
   "source": [
    "Refrigerator = {}\n",
    "\n",
    "for n in range(0,74111):\n",
    "    for string in new[n]:\n",
    "        if \"Refrigerator\" in string:\n",
    "            Refrigerator[n] = True\n",
    "            break\n",
    "        else:\n",
    "            Refrigerator[n] = False\n",
    "            \n",
    "df_Refrigerator = pd.DataFrame.from_dict(Refrigerator, orient='index')\n",
    "df_raw['has_Refrigerator'] = df_Refrigerator"
   ]
  },
  {
   "cell_type": "code",
   "execution_count": 63,
   "metadata": {
    "hidden": true
   },
   "outputs": [],
   "source": [
    "Dishes_silverware = {}\n",
    "\n",
    "for n in range(0,74111):\n",
    "    for string in new[n]:\n",
    "        if \"silverware\" in string:\n",
    "            Dishes_silverware[n] = True\n",
    "            break\n",
    "        else:\n",
    "            Dishes_silverware[n] = False\n",
    "            \n",
    "df_Dishes_silverware = pd.DataFrame.from_dict(Dishes_silverware, orient='index')\n",
    "df_raw['has_Dishes_silverware'] = df_Dishes_silverware"
   ]
  },
  {
   "cell_type": "code",
   "execution_count": 64,
   "metadata": {
    "hidden": true
   },
   "outputs": [],
   "source": [
    "Pets_allowed = {}\n",
    "\n",
    "for n in range(0,74111):\n",
    "    for string in new[n]:\n",
    "        if \"allowed\" in string:\n",
    "            Pets_allowed[n] = True\n",
    "            break\n",
    "        else:\n",
    "            Pets_allowed[n] = False\n",
    "            \n",
    "df_Pets_allowed = pd.DataFrame.from_dict(Pets_allowed, orient='index')\n",
    "df_raw['Pets_allowed'] = df_Pets_allowed"
   ]
  },
  {
   "cell_type": "code",
   "execution_count": 65,
   "metadata": {
    "hidden": true
   },
   "outputs": [],
   "source": [
    "Safety_card = {}\n",
    "\n",
    "for n in range(0,74111):\n",
    "    for string in new[n]:\n",
    "        if \"Safety\" in string:\n",
    "            Safety_card[n] = True\n",
    "            break\n",
    "        else:\n",
    "            Safety_card[n] = False\n",
    "            \n",
    "df_Safety_card = pd.DataFrame.from_dict(Safety_card, orient='index')\n",
    "df_raw['has_Safety_card'] = df_Safety_card"
   ]
  },
  {
   "cell_type": "code",
   "execution_count": 66,
   "metadata": {
    "hidden": true
   },
   "outputs": [],
   "source": [
    "TwentyFourHour_checkIn = {}\n",
    "\n",
    "for n in range(0,74111):\n",
    "    for string in new[n]:\n",
    "        if \"24-hour\" in string:\n",
    "            TwentyFourHour_checkIn[n] = True\n",
    "            break\n",
    "        else:\n",
    "            TwentyFourHour_checkIn[n] = False\n",
    "            \n",
    "df_TwentyFourHour_checkIn = pd.DataFrame.from_dict(TwentyFourHour_checkIn, orient='index')\n",
    "df_raw['TwentyFourHour_checkIn'] = df_TwentyFourHour_checkIn"
   ]
  },
  {
   "cell_type": "code",
   "execution_count": 67,
   "metadata": {
    "hidden": true
   },
   "outputs": [],
   "source": [
    "Self_checkIn = {}\n",
    "\n",
    "for n in range(0,74111):\n",
    "    for string in new[n]:\n",
    "        if \"Self\" in string:\n",
    "            Self_checkIn[n] = True\n",
    "            break\n",
    "        else:\n",
    "            Self_checkIn[n] = False\n",
    "            \n",
    "df_Self_checkIn = pd.DataFrame.from_dict(Self_checkIn, orient='index')\n",
    "df_raw['has_Self_checkIn'] = df_Self_checkIn"
   ]
  },
  {
   "cell_type": "code",
   "execution_count": 68,
   "metadata": {
    "hidden": true
   },
   "outputs": [],
   "source": [
    "Lockbox = {}\n",
    "\n",
    "for n in range(0,74111):\n",
    "    for string in new[n]:\n",
    "        if \"Lockbox\" in string:\n",
    "            Lockbox[n] = True\n",
    "            break\n",
    "        else:\n",
    "            Lockbox[n] = False\n",
    "            \n",
    "df_Lockbox = pd.DataFrame.from_dict(Lockbox, orient='index')\n",
    "df_raw['has_Lockbox'] = df_Lockbox"
   ]
  },
  {
   "cell_type": "code",
   "execution_count": 69,
   "metadata": {
    "hidden": true
   },
   "outputs": [],
   "source": [
    "Suitable_for_events = {}\n",
    "\n",
    "for n in range(0,74111):\n",
    "    for string in new[n]:\n",
    "        if \"events\" in string:\n",
    "            Suitable_for_events[n] = True\n",
    "            break\n",
    "        else:\n",
    "            Suitable_for_events[n] = False\n",
    "            \n",
    "df_Suitable_for_events = pd.DataFrame.from_dict(Suitable_for_events, orient='index')\n",
    "df_raw['is_Suitable_for_events'] = df_Suitable_for_events"
   ]
  },
  {
   "cell_type": "code",
   "execution_count": 70,
   "metadata": {
    "hidden": true
   },
   "outputs": [],
   "source": [
    "Microwave = {}\n",
    "\n",
    "for n in range(0,74111):\n",
    "    for string in new[n]:\n",
    "        if \"Microwave\" in string:\n",
    "            Microwave[n] = True\n",
    "            break\n",
    "        else:\n",
    "            Microwave[n] = False\n",
    "            \n",
    "df_Microwave = pd.DataFrame.from_dict(Microwave, orient='index')\n",
    "df_raw['has_Microwave'] = df_Microwave"
   ]
  },
  {
   "cell_type": "code",
   "execution_count": 71,
   "metadata": {
    "hidden": true
   },
   "outputs": [],
   "source": [
    "Cooking_basics = {}\n",
    "\n",
    "for n in range(0,74111):\n",
    "    for string in new[n]:\n",
    "        if \"Cooking\" in string:\n",
    "            Cooking_basics[n] = True\n",
    "            break\n",
    "        else:\n",
    "            Cooking_basics[n] = False\n",
    "            \n",
    "df_Cooking_basics = pd.DataFrame.from_dict(Cooking_basics, orient='index')\n",
    "df_raw['has_Cooking_basics'] = df_Cooking_basics"
   ]
  },
  {
   "cell_type": "code",
   "execution_count": 72,
   "metadata": {
    "hidden": true
   },
   "outputs": [],
   "source": [
    "Oven = {}\n",
    "\n",
    "for n in range(0,74111):\n",
    "    for string in new[n]:\n",
    "        if \"Oven\" in string:\n",
    "            Oven[n] = True\n",
    "            break\n",
    "        else:\n",
    "            Oven[n] = False\n",
    "            \n",
    "df_Oven = pd.DataFrame.from_dict(Oven, orient='index')\n",
    "df_raw['has_Oven'] = df_Oven"
   ]
  },
  {
   "cell_type": "code",
   "execution_count": 73,
   "metadata": {
    "hidden": true
   },
   "outputs": [],
   "source": [
    "Stove = {}\n",
    "\n",
    "for n in range(0,74111):\n",
    "    for string in new[n]:\n",
    "        if \"Stove\" in string:\n",
    "            Stove[n] = True\n",
    "            break\n",
    "        else:\n",
    "            Stove[n] = False\n",
    "            \n",
    "df_Stove = pd.DataFrame.from_dict(Stove, orient='index')\n",
    "df_raw['has_Stove'] = df_Stove"
   ]
  },
  {
   "cell_type": "code",
   "execution_count": 74,
   "metadata": {
    "hidden": true
   },
   "outputs": [],
   "source": [
    "Bathtub = {}\n",
    "\n",
    "for n in range(0,74111):\n",
    "    for string in new[n]:\n",
    "        if \"Bathtub\" in string:\n",
    "            Bathtub[n] = True\n",
    "            break\n",
    "        else:\n",
    "            Bathtub[n] = False\n",
    "            \n",
    "df_Bathtub = pd.DataFrame.from_dict(Bathtub, orient='index')\n",
    "df_raw['has_Bathtub'] = df_Bathtub"
   ]
  },
  {
   "cell_type": "code",
   "execution_count": 75,
   "metadata": {
    "hidden": true
   },
   "outputs": [],
   "source": [
    "df_raw = df_raw.drop('amenities', axis=1)\n",
    "#We can drop 'amenities as we've extracted all the important features and the column itself is meaningless in its format"
   ]
  },
  {
   "cell_type": "code",
   "execution_count": 76,
   "metadata": {
    "hidden": true,
    "scrolled": true
   },
   "outputs": [
    {
     "name": "stdout",
     "output_type": "stream",
     "text": [
      "<class 'pandas.core.frame.DataFrame'>\n",
      "RangeIndex: 74111 entries, 0 to 74110\n",
      "Data columns (total 75 columns):\n",
      " #   Column                     Non-Null Count  Dtype         \n",
      "---  ------                     --------------  -----         \n",
      " 0   id                         74111 non-null  int64         \n",
      " 1   log_price                  74111 non-null  float64       \n",
      " 2   property_type              74111 non-null  object        \n",
      " 3   room_type                  74111 non-null  object        \n",
      " 4   accommodates               74111 non-null  int64         \n",
      " 5   bathrooms                  73911 non-null  float64       \n",
      " 6   bed_type                   74111 non-null  object        \n",
      " 7   cancellation_policy        74111 non-null  object        \n",
      " 8   cleaning_fee               74111 non-null  bool          \n",
      " 9   city                       74111 non-null  object        \n",
      " 10  description                74111 non-null  object        \n",
      " 11  first_review               58247 non-null  datetime64[ns]\n",
      " 12  host_has_profile_pic       74111 non-null  bool          \n",
      " 13  host_identity_verified     74111 non-null  bool          \n",
      " 14  host_response_rate         55812 non-null  object        \n",
      " 15  host_since                 73923 non-null  datetime64[ns]\n",
      " 16  instant_bookable           74111 non-null  bool          \n",
      " 17  last_review                58284 non-null  datetime64[ns]\n",
      " 18  latitude                   74111 non-null  float64       \n",
      " 19  longitude                  74111 non-null  float64       \n",
      " 20  name                       74111 non-null  object        \n",
      " 21  neighbourhood              67239 non-null  object        \n",
      " 22  number_of_reviews          74111 non-null  int64         \n",
      " 23  review_scores_rating       57389 non-null  float64       \n",
      " 24  thumbnail_url              65895 non-null  object        \n",
      " 25  zipcode                    73145 non-null  object        \n",
      " 26  bedrooms                   74020 non-null  float64       \n",
      " 27  beds                       73980 non-null  float64       \n",
      " 28  has_internet               74111 non-null  bool          \n",
      " 29  has_aircon                 74111 non-null  bool          \n",
      " 30  has_kitchen                74111 non-null  bool          \n",
      " 31  has_heating                74111 non-null  bool          \n",
      " 32  is_family_friendly         74111 non-null  bool          \n",
      " 33  has_Essentials             74111 non-null  bool          \n",
      " 34  has_hairdryer              74111 non-null  bool          \n",
      " 35  has_Iron                   74111 non-null  bool          \n",
      " 36  translation_missing        74111 non-null  bool          \n",
      " 37  has_Washer                 74111 non-null  bool          \n",
      " 38  has_Dryer                  74111 non-null  bool          \n",
      " 39  has_Smoke/CO_detector      74111 non-null  bool          \n",
      " 40  has_Fire_extinguisher      74111 non-null  bool          \n",
      " 41  has_Shampoo                74111 non-null  bool          \n",
      " 42  has_Hangers                74111 non-null  bool          \n",
      " 43  has_TV                     74111 non-null  bool          \n",
      " 44  Breakfast_included         74111 non-null  bool          \n",
      " 45  has_electric_doorbell      74111 non-null  bool          \n",
      " 46  Laptop_friendly_workspace  74111 non-null  bool          \n",
      " 47  has_Indoor_fireplace       74111 non-null  bool          \n",
      " 48  has_First_aid_kit          74111 non-null  bool          \n",
      " 49  has_Elevator               74111 non-null  bool          \n",
      " 50  has_Pool                   74111 non-null  bool          \n",
      " 51  Free_parking               74111 non-null  bool          \n",
      " 52  has_Gym                    74111 non-null  bool          \n",
      " 53  has_Hot_tub                74111 non-null  bool          \n",
      " 54  is_Wheelchair_accessible   74111 non-null  bool          \n",
      " 55  has_Doorman                74111 non-null  bool          \n",
      " 56  has_Dogs                   74111 non-null  bool          \n",
      " 57  Pets_live_on_property      74111 non-null  bool          \n",
      " 58  has_Lock_on_bedroom_door   74111 non-null  bool          \n",
      " 59  has_Private_entrance       74111 non-null  bool          \n",
      " 60  has_Hot_water              74111 non-null  bool          \n",
      " 61  has_Bed_linens             74111 non-null  bool          \n",
      " 62  has_Refrigerator           74111 non-null  bool          \n",
      " 63  has_Dishes_silverware      74111 non-null  bool          \n",
      " 64  Pets_allowed               74111 non-null  bool          \n",
      " 65  has_Safety_card            74111 non-null  bool          \n",
      " 66  TwentyFourHour_checkIn     74111 non-null  bool          \n",
      " 67  has_Self_checkIn           74111 non-null  bool          \n",
      " 68  has_Lockbox                74111 non-null  bool          \n",
      " 69  is_Suitable_for_events     74111 non-null  bool          \n",
      " 70  has_Microwave              74111 non-null  bool          \n",
      " 71  has_Cooking_basics         74111 non-null  bool          \n",
      " 72  has_Oven                   74111 non-null  bool          \n",
      " 73  has_Stove                  74111 non-null  bool          \n",
      " 74  has_Bathtub                74111 non-null  bool          \n",
      "dtypes: bool(51), datetime64[ns](3), float64(7), int64(3), object(11)\n",
      "memory usage: 17.2+ MB\n"
     ]
    }
   ],
   "source": [
    "df_raw.info()"
   ]
  },
  {
   "cell_type": "markdown",
   "metadata": {
    "hidden": true
   },
   "source": [
    "We now have 74 columns including those checking for the different amenities of the accomodations."
   ]
  },
  {
   "cell_type": "code",
   "execution_count": 77,
   "metadata": {
    "hidden": true
   },
   "outputs": [
    {
     "data": {
      "text/html": [
       "<div>\n",
       "<style scoped>\n",
       "    .dataframe tbody tr th:only-of-type {\n",
       "        vertical-align: middle;\n",
       "    }\n",
       "\n",
       "    .dataframe tbody tr th {\n",
       "        vertical-align: top;\n",
       "    }\n",
       "\n",
       "    .dataframe thead th {\n",
       "        text-align: right;\n",
       "    }\n",
       "</style>\n",
       "<table border=\"1\" class=\"dataframe\">\n",
       "  <thead>\n",
       "    <tr style=\"text-align: right;\">\n",
       "      <th></th>\n",
       "      <th>74106</th>\n",
       "      <th>74107</th>\n",
       "      <th>74108</th>\n",
       "      <th>74109</th>\n",
       "      <th>74110</th>\n",
       "    </tr>\n",
       "  </thead>\n",
       "  <tbody>\n",
       "    <tr>\n",
       "      <th>id</th>\n",
       "      <td>14549287</td>\n",
       "      <td>13281809</td>\n",
       "      <td>18688039</td>\n",
       "      <td>17045948</td>\n",
       "      <td>3534845</td>\n",
       "    </tr>\n",
       "    <tr>\n",
       "      <th>log_price</th>\n",
       "      <td>4.60517</td>\n",
       "      <td>5.04343</td>\n",
       "      <td>5.22036</td>\n",
       "      <td>5.273</td>\n",
       "      <td>4.85203</td>\n",
       "    </tr>\n",
       "    <tr>\n",
       "      <th>property_type</th>\n",
       "      <td>Apartment</td>\n",
       "      <td>Apartment</td>\n",
       "      <td>Apartment</td>\n",
       "      <td>Apartment</td>\n",
       "      <td>Boat</td>\n",
       "    </tr>\n",
       "    <tr>\n",
       "      <th>room_type</th>\n",
       "      <td>Private room</td>\n",
       "      <td>Entire home/apt</td>\n",
       "      <td>Entire home/apt</td>\n",
       "      <td>Entire home/apt</td>\n",
       "      <td>Entire home/apt</td>\n",
       "    </tr>\n",
       "    <tr>\n",
       "      <th>accommodates</th>\n",
       "      <td>1</td>\n",
       "      <td>4</td>\n",
       "      <td>5</td>\n",
       "      <td>2</td>\n",
       "      <td>4</td>\n",
       "    </tr>\n",
       "    <tr>\n",
       "      <th>bathrooms</th>\n",
       "      <td>1</td>\n",
       "      <td>2</td>\n",
       "      <td>1</td>\n",
       "      <td>1</td>\n",
       "      <td>1</td>\n",
       "    </tr>\n",
       "    <tr>\n",
       "      <th>bed_type</th>\n",
       "      <td>Real Bed</td>\n",
       "      <td>Real Bed</td>\n",
       "      <td>Real Bed</td>\n",
       "      <td>Real Bed</td>\n",
       "      <td>Real Bed</td>\n",
       "    </tr>\n",
       "    <tr>\n",
       "      <th>cancellation_policy</th>\n",
       "      <td>flexible</td>\n",
       "      <td>moderate</td>\n",
       "      <td>moderate</td>\n",
       "      <td>strict</td>\n",
       "      <td>moderate</td>\n",
       "    </tr>\n",
       "    <tr>\n",
       "      <th>cleaning_fee</th>\n",
       "      <td>True</td>\n",
       "      <td>True</td>\n",
       "      <td>True</td>\n",
       "      <td>True</td>\n",
       "      <td>True</td>\n",
       "    </tr>\n",
       "    <tr>\n",
       "      <th>city</th>\n",
       "      <td>NYC</td>\n",
       "      <td>LA</td>\n",
       "      <td>NYC</td>\n",
       "      <td>NYC</td>\n",
       "      <td>LA</td>\n",
       "    </tr>\n",
       "    <tr>\n",
       "      <th>description</th>\n",
       "      <td>one room in bushwick apt</td>\n",
       "      <td>Located on the Pacific Coast Highway, this apa...</td>\n",
       "      <td>A modern apartment located in East Williamsbur...</td>\n",
       "      <td>Fully renovated, designer's studio located in ...</td>\n",
       "      <td>You will stay-aboard the Island Trader at one ...</td>\n",
       "    </tr>\n",
       "    <tr>\n",
       "      <th>first_review</th>\n",
       "      <td>NaT</td>\n",
       "      <td>2016-08-15 00:00:00</td>\n",
       "      <td>2015-01-03 00:00:00</td>\n",
       "      <td>NaT</td>\n",
       "      <td>2013-09-05 00:00:00</td>\n",
       "    </tr>\n",
       "    <tr>\n",
       "      <th>host_has_profile_pic</th>\n",
       "      <td>True</td>\n",
       "      <td>True</td>\n",
       "      <td>True</td>\n",
       "      <td>True</td>\n",
       "      <td>True</td>\n",
       "    </tr>\n",
       "    <tr>\n",
       "      <th>host_identity_verified</th>\n",
       "      <td>True</td>\n",
       "      <td>False</td>\n",
       "      <td>True</td>\n",
       "      <td>False</td>\n",
       "      <td>True</td>\n",
       "    </tr>\n",
       "    <tr>\n",
       "      <th>host_response_rate</th>\n",
       "      <td>NaN</td>\n",
       "      <td>100%</td>\n",
       "      <td>100%</td>\n",
       "      <td>100%</td>\n",
       "      <td>100%</td>\n",
       "    </tr>\n",
       "    <tr>\n",
       "      <th>host_since</th>\n",
       "      <td>2013-03-24 00:00:00</td>\n",
       "      <td>2016-05-03 00:00:00</td>\n",
       "      <td>2012-01-05 00:00:00</td>\n",
       "      <td>2017-09-17 00:00:00</td>\n",
       "      <td>2012-11-26 00:00:00</td>\n",
       "    </tr>\n",
       "    <tr>\n",
       "      <th>instant_bookable</th>\n",
       "      <td>False</td>\n",
       "      <td>False</td>\n",
       "      <td>True</td>\n",
       "      <td>True</td>\n",
       "      <td>False</td>\n",
       "    </tr>\n",
       "    <tr>\n",
       "      <th>last_review</th>\n",
       "      <td>NaT</td>\n",
       "      <td>2017-04-15 00:00:00</td>\n",
       "      <td>2017-09-10 00:00:00</td>\n",
       "      <td>NaT</td>\n",
       "      <td>2017-04-30 00:00:00</td>\n",
       "    </tr>\n",
       "    <tr>\n",
       "      <th>latitude</th>\n",
       "      <td>40.709</td>\n",
       "      <td>33.8715</td>\n",
       "      <td>40.7067</td>\n",
       "      <td>40.7385</td>\n",
       "      <td>33.7611</td>\n",
       "    </tr>\n",
       "    <tr>\n",
       "      <th>longitude</th>\n",
       "      <td>-73.9394</td>\n",
       "      <td>-118.396</td>\n",
       "      <td>-73.9424</td>\n",
       "      <td>-74.0002</td>\n",
       "      <td>-118.192</td>\n",
       "    </tr>\n",
       "    <tr>\n",
       "      <th>name</th>\n",
       "      <td>one room bushwick</td>\n",
       "      <td>Spacious Hermosa 2 BR on PCH</td>\n",
       "      <td>Modern 2 Bedroom Apartment in Williamsburg</td>\n",
       "      <td>Designer's Apartment in HEART of NYC</td>\n",
       "      <td>Cozy Boat at Shoreline Village</td>\n",
       "    </tr>\n",
       "    <tr>\n",
       "      <th>neighbourhood</th>\n",
       "      <td>Williamsburg</td>\n",
       "      <td>Hermosa Beach</td>\n",
       "      <td>Williamsburg</td>\n",
       "      <td>West Village</td>\n",
       "      <td>Long Beach</td>\n",
       "    </tr>\n",
       "    <tr>\n",
       "      <th>number_of_reviews</th>\n",
       "      <td>0</td>\n",
       "      <td>16</td>\n",
       "      <td>43</td>\n",
       "      <td>0</td>\n",
       "      <td>205</td>\n",
       "    </tr>\n",
       "    <tr>\n",
       "      <th>review_scores_rating</th>\n",
       "      <td>NaN</td>\n",
       "      <td>93</td>\n",
       "      <td>94</td>\n",
       "      <td>NaN</td>\n",
       "      <td>96</td>\n",
       "    </tr>\n",
       "    <tr>\n",
       "      <th>thumbnail_url</th>\n",
       "      <td>https://a0.muscache.com/im/pictures/55162426/6...</td>\n",
       "      <td>https://a0.muscache.com/im/pictures/2b86560b-a...</td>\n",
       "      <td>https://a0.muscache.com/im/pictures/7fbe448c-5...</td>\n",
       "      <td>https://a0.muscache.com/im/pictures/b3971b63-0...</td>\n",
       "      <td>https://a0.muscache.com/im/pictures/22968537/d...</td>\n",
       "    </tr>\n",
       "    <tr>\n",
       "      <th>zipcode</th>\n",
       "      <td>11206.0</td>\n",
       "      <td>90254</td>\n",
       "      <td>11206.0</td>\n",
       "      <td>10011</td>\n",
       "      <td>90802</td>\n",
       "    </tr>\n",
       "    <tr>\n",
       "      <th>bedrooms</th>\n",
       "      <td>1</td>\n",
       "      <td>2</td>\n",
       "      <td>2</td>\n",
       "      <td>0</td>\n",
       "      <td>1</td>\n",
       "    </tr>\n",
       "    <tr>\n",
       "      <th>beds</th>\n",
       "      <td>1</td>\n",
       "      <td>4</td>\n",
       "      <td>2</td>\n",
       "      <td>2</td>\n",
       "      <td>2</td>\n",
       "    </tr>\n",
       "    <tr>\n",
       "      <th>has_internet</th>\n",
       "      <td>False</td>\n",
       "      <td>True</td>\n",
       "      <td>True</td>\n",
       "      <td>True</td>\n",
       "      <td>True</td>\n",
       "    </tr>\n",
       "    <tr>\n",
       "      <th>has_aircon</th>\n",
       "      <td>False</td>\n",
       "      <td>False</td>\n",
       "      <td>True</td>\n",
       "      <td>True</td>\n",
       "      <td>False</td>\n",
       "    </tr>\n",
       "    <tr>\n",
       "      <th>has_kitchen</th>\n",
       "      <td>False</td>\n",
       "      <td>True</td>\n",
       "      <td>True</td>\n",
       "      <td>True</td>\n",
       "      <td>True</td>\n",
       "    </tr>\n",
       "    <tr>\n",
       "      <th>has_heating</th>\n",
       "      <td>False</td>\n",
       "      <td>True</td>\n",
       "      <td>True</td>\n",
       "      <td>True</td>\n",
       "      <td>True</td>\n",
       "    </tr>\n",
       "    <tr>\n",
       "      <th>is_family_friendly</th>\n",
       "      <td>False</td>\n",
       "      <td>True</td>\n",
       "      <td>True</td>\n",
       "      <td>False</td>\n",
       "      <td>True</td>\n",
       "    </tr>\n",
       "    <tr>\n",
       "      <th>has_Essentials</th>\n",
       "      <td>False</td>\n",
       "      <td>True</td>\n",
       "      <td>True</td>\n",
       "      <td>True</td>\n",
       "      <td>True</td>\n",
       "    </tr>\n",
       "    <tr>\n",
       "      <th>has_hairdryer</th>\n",
       "      <td>False</td>\n",
       "      <td>True</td>\n",
       "      <td>True</td>\n",
       "      <td>True</td>\n",
       "      <td>True</td>\n",
       "    </tr>\n",
       "    <tr>\n",
       "      <th>has_Iron</th>\n",
       "      <td>False</td>\n",
       "      <td>False</td>\n",
       "      <td>True</td>\n",
       "      <td>True</td>\n",
       "      <td>False</td>\n",
       "    </tr>\n",
       "    <tr>\n",
       "      <th>translation_missing</th>\n",
       "      <td>False</td>\n",
       "      <td>True</td>\n",
       "      <td>False</td>\n",
       "      <td>False</td>\n",
       "      <td>False</td>\n",
       "    </tr>\n",
       "    <tr>\n",
       "      <th>has_Washer</th>\n",
       "      <td>False</td>\n",
       "      <td>True</td>\n",
       "      <td>True</td>\n",
       "      <td>True</td>\n",
       "      <td>False</td>\n",
       "    </tr>\n",
       "    <tr>\n",
       "      <th>has_Dryer</th>\n",
       "      <td>False</td>\n",
       "      <td>True</td>\n",
       "      <td>True</td>\n",
       "      <td>True</td>\n",
       "      <td>False</td>\n",
       "    </tr>\n",
       "    <tr>\n",
       "      <th>has_Smoke/CO_detector</th>\n",
       "      <td>False</td>\n",
       "      <td>True</td>\n",
       "      <td>True</td>\n",
       "      <td>True</td>\n",
       "      <td>True</td>\n",
       "    </tr>\n",
       "    <tr>\n",
       "      <th>has_Fire_extinguisher</th>\n",
       "      <td>False</td>\n",
       "      <td>False</td>\n",
       "      <td>False</td>\n",
       "      <td>False</td>\n",
       "      <td>True</td>\n",
       "    </tr>\n",
       "    <tr>\n",
       "      <th>has_Shampoo</th>\n",
       "      <td>False</td>\n",
       "      <td>True</td>\n",
       "      <td>True</td>\n",
       "      <td>True</td>\n",
       "      <td>True</td>\n",
       "    </tr>\n",
       "    <tr>\n",
       "      <th>has_Hangers</th>\n",
       "      <td>False</td>\n",
       "      <td>True</td>\n",
       "      <td>True</td>\n",
       "      <td>True</td>\n",
       "      <td>True</td>\n",
       "    </tr>\n",
       "    <tr>\n",
       "      <th>has_TV</th>\n",
       "      <td>False</td>\n",
       "      <td>True</td>\n",
       "      <td>True</td>\n",
       "      <td>True</td>\n",
       "      <td>True</td>\n",
       "    </tr>\n",
       "    <tr>\n",
       "      <th>Breakfast_included</th>\n",
       "      <td>False</td>\n",
       "      <td>False</td>\n",
       "      <td>False</td>\n",
       "      <td>False</td>\n",
       "      <td>False</td>\n",
       "    </tr>\n",
       "    <tr>\n",
       "      <th>has_electric_doorbell</th>\n",
       "      <td>False</td>\n",
       "      <td>False</td>\n",
       "      <td>True</td>\n",
       "      <td>False</td>\n",
       "      <td>False</td>\n",
       "    </tr>\n",
       "    <tr>\n",
       "      <th>Laptop_friendly_workspace</th>\n",
       "      <td>False</td>\n",
       "      <td>False</td>\n",
       "      <td>True</td>\n",
       "      <td>True</td>\n",
       "      <td>True</td>\n",
       "    </tr>\n",
       "    <tr>\n",
       "      <th>has_Indoor_fireplace</th>\n",
       "      <td>False</td>\n",
       "      <td>False</td>\n",
       "      <td>False</td>\n",
       "      <td>False</td>\n",
       "      <td>False</td>\n",
       "    </tr>\n",
       "    <tr>\n",
       "      <th>has_First_aid_kit</th>\n",
       "      <td>False</td>\n",
       "      <td>False</td>\n",
       "      <td>True</td>\n",
       "      <td>False</td>\n",
       "      <td>True</td>\n",
       "    </tr>\n",
       "    <tr>\n",
       "      <th>has_Elevator</th>\n",
       "      <td>False</td>\n",
       "      <td>False</td>\n",
       "      <td>True</td>\n",
       "      <td>False</td>\n",
       "      <td>False</td>\n",
       "    </tr>\n",
       "    <tr>\n",
       "      <th>has_Pool</th>\n",
       "      <td>False</td>\n",
       "      <td>False</td>\n",
       "      <td>False</td>\n",
       "      <td>False</td>\n",
       "      <td>False</td>\n",
       "    </tr>\n",
       "    <tr>\n",
       "      <th>Free_parking</th>\n",
       "      <td>False</td>\n",
       "      <td>True</td>\n",
       "      <td>False</td>\n",
       "      <td>False</td>\n",
       "      <td>True</td>\n",
       "    </tr>\n",
       "    <tr>\n",
       "      <th>has_Gym</th>\n",
       "      <td>False</td>\n",
       "      <td>False</td>\n",
       "      <td>True</td>\n",
       "      <td>False</td>\n",
       "      <td>False</td>\n",
       "    </tr>\n",
       "    <tr>\n",
       "      <th>has_Hot_tub</th>\n",
       "      <td>False</td>\n",
       "      <td>False</td>\n",
       "      <td>False</td>\n",
       "      <td>False</td>\n",
       "      <td>False</td>\n",
       "    </tr>\n",
       "    <tr>\n",
       "      <th>is_Wheelchair_accessible</th>\n",
       "      <td>False</td>\n",
       "      <td>False</td>\n",
       "      <td>False</td>\n",
       "      <td>False</td>\n",
       "      <td>False</td>\n",
       "    </tr>\n",
       "    <tr>\n",
       "      <th>has_Doorman</th>\n",
       "      <td>False</td>\n",
       "      <td>False</td>\n",
       "      <td>False</td>\n",
       "      <td>False</td>\n",
       "      <td>False</td>\n",
       "    </tr>\n",
       "    <tr>\n",
       "      <th>has_Dogs</th>\n",
       "      <td>False</td>\n",
       "      <td>False</td>\n",
       "      <td>False</td>\n",
       "      <td>False</td>\n",
       "      <td>False</td>\n",
       "    </tr>\n",
       "    <tr>\n",
       "      <th>Pets_live_on_property</th>\n",
       "      <td>False</td>\n",
       "      <td>False</td>\n",
       "      <td>False</td>\n",
       "      <td>False</td>\n",
       "      <td>False</td>\n",
       "    </tr>\n",
       "    <tr>\n",
       "      <th>has_Lock_on_bedroom_door</th>\n",
       "      <td>False</td>\n",
       "      <td>False</td>\n",
       "      <td>False</td>\n",
       "      <td>False</td>\n",
       "      <td>False</td>\n",
       "    </tr>\n",
       "    <tr>\n",
       "      <th>has_Private_entrance</th>\n",
       "      <td>False</td>\n",
       "      <td>False</td>\n",
       "      <td>False</td>\n",
       "      <td>False</td>\n",
       "      <td>False</td>\n",
       "    </tr>\n",
       "    <tr>\n",
       "      <th>has_Hot_water</th>\n",
       "      <td>False</td>\n",
       "      <td>False</td>\n",
       "      <td>True</td>\n",
       "      <td>False</td>\n",
       "      <td>False</td>\n",
       "    </tr>\n",
       "    <tr>\n",
       "      <th>has_Bed_linens</th>\n",
       "      <td>False</td>\n",
       "      <td>False</td>\n",
       "      <td>True</td>\n",
       "      <td>False</td>\n",
       "      <td>False</td>\n",
       "    </tr>\n",
       "    <tr>\n",
       "      <th>has_Refrigerator</th>\n",
       "      <td>False</td>\n",
       "      <td>False</td>\n",
       "      <td>True</td>\n",
       "      <td>False</td>\n",
       "      <td>False</td>\n",
       "    </tr>\n",
       "    <tr>\n",
       "      <th>has_Dishes_silverware</th>\n",
       "      <td>False</td>\n",
       "      <td>False</td>\n",
       "      <td>True</td>\n",
       "      <td>False</td>\n",
       "      <td>False</td>\n",
       "    </tr>\n",
       "    <tr>\n",
       "      <th>Pets_allowed</th>\n",
       "      <td>False</td>\n",
       "      <td>False</td>\n",
       "      <td>False</td>\n",
       "      <td>False</td>\n",
       "      <td>False</td>\n",
       "    </tr>\n",
       "    <tr>\n",
       "      <th>has_Safety_card</th>\n",
       "      <td>False</td>\n",
       "      <td>False</td>\n",
       "      <td>False</td>\n",
       "      <td>False</td>\n",
       "      <td>True</td>\n",
       "    </tr>\n",
       "    <tr>\n",
       "      <th>TwentyFourHour_checkIn</th>\n",
       "      <td>False</td>\n",
       "      <td>False</td>\n",
       "      <td>False</td>\n",
       "      <td>False</td>\n",
       "      <td>True</td>\n",
       "    </tr>\n",
       "    <tr>\n",
       "      <th>has_Self_checkIn</th>\n",
       "      <td>False</td>\n",
       "      <td>False</td>\n",
       "      <td>False</td>\n",
       "      <td>False</td>\n",
       "      <td>False</td>\n",
       "    </tr>\n",
       "    <tr>\n",
       "      <th>has_Lockbox</th>\n",
       "      <td>False</td>\n",
       "      <td>False</td>\n",
       "      <td>False</td>\n",
       "      <td>False</td>\n",
       "      <td>False</td>\n",
       "    </tr>\n",
       "    <tr>\n",
       "      <th>is_Suitable_for_events</th>\n",
       "      <td>False</td>\n",
       "      <td>False</td>\n",
       "      <td>False</td>\n",
       "      <td>False</td>\n",
       "      <td>False</td>\n",
       "    </tr>\n",
       "    <tr>\n",
       "      <th>has_Microwave</th>\n",
       "      <td>False</td>\n",
       "      <td>False</td>\n",
       "      <td>True</td>\n",
       "      <td>False</td>\n",
       "      <td>False</td>\n",
       "    </tr>\n",
       "    <tr>\n",
       "      <th>has_Cooking_basics</th>\n",
       "      <td>False</td>\n",
       "      <td>False</td>\n",
       "      <td>True</td>\n",
       "      <td>False</td>\n",
       "      <td>False</td>\n",
       "    </tr>\n",
       "    <tr>\n",
       "      <th>has_Oven</th>\n",
       "      <td>False</td>\n",
       "      <td>False</td>\n",
       "      <td>True</td>\n",
       "      <td>False</td>\n",
       "      <td>False</td>\n",
       "    </tr>\n",
       "    <tr>\n",
       "      <th>has_Stove</th>\n",
       "      <td>False</td>\n",
       "      <td>False</td>\n",
       "      <td>True</td>\n",
       "      <td>False</td>\n",
       "      <td>False</td>\n",
       "    </tr>\n",
       "    <tr>\n",
       "      <th>has_Bathtub</th>\n",
       "      <td>False</td>\n",
       "      <td>False</td>\n",
       "      <td>False</td>\n",
       "      <td>False</td>\n",
       "      <td>False</td>\n",
       "    </tr>\n",
       "  </tbody>\n",
       "</table>\n",
       "</div>"
      ],
      "text/plain": [
       "                                                                       74106  \\\n",
       "id                                                                  14549287   \n",
       "log_price                                                            4.60517   \n",
       "property_type                                                      Apartment   \n",
       "room_type                                                       Private room   \n",
       "accommodates                                                               1   \n",
       "bathrooms                                                                  1   \n",
       "bed_type                                                            Real Bed   \n",
       "cancellation_policy                                                 flexible   \n",
       "cleaning_fee                                                            True   \n",
       "city                                                                     NYC   \n",
       "description                                        one room in bushwick apt    \n",
       "first_review                                                             NaT   \n",
       "host_has_profile_pic                                                    True   \n",
       "host_identity_verified                                                  True   \n",
       "host_response_rate                                                       NaN   \n",
       "host_since                                               2013-03-24 00:00:00   \n",
       "instant_bookable                                                       False   \n",
       "last_review                                                              NaT   \n",
       "latitude                                                              40.709   \n",
       "longitude                                                           -73.9394   \n",
       "name                                                       one room bushwick   \n",
       "neighbourhood                                                   Williamsburg   \n",
       "number_of_reviews                                                          0   \n",
       "review_scores_rating                                                     NaN   \n",
       "thumbnail_url              https://a0.muscache.com/im/pictures/55162426/6...   \n",
       "zipcode                                                              11206.0   \n",
       "bedrooms                                                                   1   \n",
       "beds                                                                       1   \n",
       "has_internet                                                           False   \n",
       "has_aircon                                                             False   \n",
       "has_kitchen                                                            False   \n",
       "has_heating                                                            False   \n",
       "is_family_friendly                                                     False   \n",
       "has_Essentials                                                         False   \n",
       "has_hairdryer                                                          False   \n",
       "has_Iron                                                               False   \n",
       "translation_missing                                                    False   \n",
       "has_Washer                                                             False   \n",
       "has_Dryer                                                              False   \n",
       "has_Smoke/CO_detector                                                  False   \n",
       "has_Fire_extinguisher                                                  False   \n",
       "has_Shampoo                                                            False   \n",
       "has_Hangers                                                            False   \n",
       "has_TV                                                                 False   \n",
       "Breakfast_included                                                     False   \n",
       "has_electric_doorbell                                                  False   \n",
       "Laptop_friendly_workspace                                              False   \n",
       "has_Indoor_fireplace                                                   False   \n",
       "has_First_aid_kit                                                      False   \n",
       "has_Elevator                                                           False   \n",
       "has_Pool                                                               False   \n",
       "Free_parking                                                           False   \n",
       "has_Gym                                                                False   \n",
       "has_Hot_tub                                                            False   \n",
       "is_Wheelchair_accessible                                               False   \n",
       "has_Doorman                                                            False   \n",
       "has_Dogs                                                               False   \n",
       "Pets_live_on_property                                                  False   \n",
       "has_Lock_on_bedroom_door                                               False   \n",
       "has_Private_entrance                                                   False   \n",
       "has_Hot_water                                                          False   \n",
       "has_Bed_linens                                                         False   \n",
       "has_Refrigerator                                                       False   \n",
       "has_Dishes_silverware                                                  False   \n",
       "Pets_allowed                                                           False   \n",
       "has_Safety_card                                                        False   \n",
       "TwentyFourHour_checkIn                                                 False   \n",
       "has_Self_checkIn                                                       False   \n",
       "has_Lockbox                                                            False   \n",
       "is_Suitable_for_events                                                 False   \n",
       "has_Microwave                                                          False   \n",
       "has_Cooking_basics                                                     False   \n",
       "has_Oven                                                               False   \n",
       "has_Stove                                                              False   \n",
       "has_Bathtub                                                            False   \n",
       "\n",
       "                                                                       74107  \\\n",
       "id                                                                  13281809   \n",
       "log_price                                                            5.04343   \n",
       "property_type                                                      Apartment   \n",
       "room_type                                                    Entire home/apt   \n",
       "accommodates                                                               4   \n",
       "bathrooms                                                                  2   \n",
       "bed_type                                                            Real Bed   \n",
       "cancellation_policy                                                 moderate   \n",
       "cleaning_fee                                                            True   \n",
       "city                                                                      LA   \n",
       "description                Located on the Pacific Coast Highway, this apa...   \n",
       "first_review                                             2016-08-15 00:00:00   \n",
       "host_has_profile_pic                                                    True   \n",
       "host_identity_verified                                                 False   \n",
       "host_response_rate                                                      100%   \n",
       "host_since                                               2016-05-03 00:00:00   \n",
       "instant_bookable                                                       False   \n",
       "last_review                                              2017-04-15 00:00:00   \n",
       "latitude                                                             33.8715   \n",
       "longitude                                                           -118.396   \n",
       "name                                            Spacious Hermosa 2 BR on PCH   \n",
       "neighbourhood                                                  Hermosa Beach   \n",
       "number_of_reviews                                                         16   \n",
       "review_scores_rating                                                      93   \n",
       "thumbnail_url              https://a0.muscache.com/im/pictures/2b86560b-a...   \n",
       "zipcode                                                                90254   \n",
       "bedrooms                                                                   2   \n",
       "beds                                                                       4   \n",
       "has_internet                                                            True   \n",
       "has_aircon                                                             False   \n",
       "has_kitchen                                                             True   \n",
       "has_heating                                                             True   \n",
       "is_family_friendly                                                      True   \n",
       "has_Essentials                                                          True   \n",
       "has_hairdryer                                                           True   \n",
       "has_Iron                                                               False   \n",
       "translation_missing                                                     True   \n",
       "has_Washer                                                              True   \n",
       "has_Dryer                                                               True   \n",
       "has_Smoke/CO_detector                                                   True   \n",
       "has_Fire_extinguisher                                                  False   \n",
       "has_Shampoo                                                             True   \n",
       "has_Hangers                                                             True   \n",
       "has_TV                                                                  True   \n",
       "Breakfast_included                                                     False   \n",
       "has_electric_doorbell                                                  False   \n",
       "Laptop_friendly_workspace                                              False   \n",
       "has_Indoor_fireplace                                                   False   \n",
       "has_First_aid_kit                                                      False   \n",
       "has_Elevator                                                           False   \n",
       "has_Pool                                                               False   \n",
       "Free_parking                                                            True   \n",
       "has_Gym                                                                False   \n",
       "has_Hot_tub                                                            False   \n",
       "is_Wheelchair_accessible                                               False   \n",
       "has_Doorman                                                            False   \n",
       "has_Dogs                                                               False   \n",
       "Pets_live_on_property                                                  False   \n",
       "has_Lock_on_bedroom_door                                               False   \n",
       "has_Private_entrance                                                   False   \n",
       "has_Hot_water                                                          False   \n",
       "has_Bed_linens                                                         False   \n",
       "has_Refrigerator                                                       False   \n",
       "has_Dishes_silverware                                                  False   \n",
       "Pets_allowed                                                           False   \n",
       "has_Safety_card                                                        False   \n",
       "TwentyFourHour_checkIn                                                 False   \n",
       "has_Self_checkIn                                                       False   \n",
       "has_Lockbox                                                            False   \n",
       "is_Suitable_for_events                                                 False   \n",
       "has_Microwave                                                          False   \n",
       "has_Cooking_basics                                                     False   \n",
       "has_Oven                                                               False   \n",
       "has_Stove                                                              False   \n",
       "has_Bathtub                                                            False   \n",
       "\n",
       "                                                                       74108  \\\n",
       "id                                                                  18688039   \n",
       "log_price                                                            5.22036   \n",
       "property_type                                                      Apartment   \n",
       "room_type                                                    Entire home/apt   \n",
       "accommodates                                                               5   \n",
       "bathrooms                                                                  1   \n",
       "bed_type                                                            Real Bed   \n",
       "cancellation_policy                                                 moderate   \n",
       "cleaning_fee                                                            True   \n",
       "city                                                                     NYC   \n",
       "description                A modern apartment located in East Williamsbur...   \n",
       "first_review                                             2015-01-03 00:00:00   \n",
       "host_has_profile_pic                                                    True   \n",
       "host_identity_verified                                                  True   \n",
       "host_response_rate                                                      100%   \n",
       "host_since                                               2012-01-05 00:00:00   \n",
       "instant_bookable                                                        True   \n",
       "last_review                                              2017-09-10 00:00:00   \n",
       "latitude                                                             40.7067   \n",
       "longitude                                                           -73.9424   \n",
       "name                              Modern 2 Bedroom Apartment in Williamsburg   \n",
       "neighbourhood                                                   Williamsburg   \n",
       "number_of_reviews                                                         43   \n",
       "review_scores_rating                                                      94   \n",
       "thumbnail_url              https://a0.muscache.com/im/pictures/7fbe448c-5...   \n",
       "zipcode                                                              11206.0   \n",
       "bedrooms                                                                   2   \n",
       "beds                                                                       2   \n",
       "has_internet                                                            True   \n",
       "has_aircon                                                              True   \n",
       "has_kitchen                                                             True   \n",
       "has_heating                                                             True   \n",
       "is_family_friendly                                                      True   \n",
       "has_Essentials                                                          True   \n",
       "has_hairdryer                                                           True   \n",
       "has_Iron                                                                True   \n",
       "translation_missing                                                    False   \n",
       "has_Washer                                                              True   \n",
       "has_Dryer                                                               True   \n",
       "has_Smoke/CO_detector                                                   True   \n",
       "has_Fire_extinguisher                                                  False   \n",
       "has_Shampoo                                                             True   \n",
       "has_Hangers                                                             True   \n",
       "has_TV                                                                  True   \n",
       "Breakfast_included                                                     False   \n",
       "has_electric_doorbell                                                   True   \n",
       "Laptop_friendly_workspace                                               True   \n",
       "has_Indoor_fireplace                                                   False   \n",
       "has_First_aid_kit                                                       True   \n",
       "has_Elevator                                                            True   \n",
       "has_Pool                                                               False   \n",
       "Free_parking                                                           False   \n",
       "has_Gym                                                                 True   \n",
       "has_Hot_tub                                                            False   \n",
       "is_Wheelchair_accessible                                               False   \n",
       "has_Doorman                                                            False   \n",
       "has_Dogs                                                               False   \n",
       "Pets_live_on_property                                                  False   \n",
       "has_Lock_on_bedroom_door                                               False   \n",
       "has_Private_entrance                                                   False   \n",
       "has_Hot_water                                                           True   \n",
       "has_Bed_linens                                                          True   \n",
       "has_Refrigerator                                                        True   \n",
       "has_Dishes_silverware                                                   True   \n",
       "Pets_allowed                                                           False   \n",
       "has_Safety_card                                                        False   \n",
       "TwentyFourHour_checkIn                                                 False   \n",
       "has_Self_checkIn                                                       False   \n",
       "has_Lockbox                                                            False   \n",
       "is_Suitable_for_events                                                 False   \n",
       "has_Microwave                                                           True   \n",
       "has_Cooking_basics                                                      True   \n",
       "has_Oven                                                                True   \n",
       "has_Stove                                                               True   \n",
       "has_Bathtub                                                            False   \n",
       "\n",
       "                                                                       74109  \\\n",
       "id                                                                  17045948   \n",
       "log_price                                                              5.273   \n",
       "property_type                                                      Apartment   \n",
       "room_type                                                    Entire home/apt   \n",
       "accommodates                                                               2   \n",
       "bathrooms                                                                  1   \n",
       "bed_type                                                            Real Bed   \n",
       "cancellation_policy                                                   strict   \n",
       "cleaning_fee                                                            True   \n",
       "city                                                                     NYC   \n",
       "description                Fully renovated, designer's studio located in ...   \n",
       "first_review                                                             NaT   \n",
       "host_has_profile_pic                                                    True   \n",
       "host_identity_verified                                                 False   \n",
       "host_response_rate                                                      100%   \n",
       "host_since                                               2017-09-17 00:00:00   \n",
       "instant_bookable                                                        True   \n",
       "last_review                                                              NaT   \n",
       "latitude                                                             40.7385   \n",
       "longitude                                                           -74.0002   \n",
       "name                                    Designer's Apartment in HEART of NYC   \n",
       "neighbourhood                                                   West Village   \n",
       "number_of_reviews                                                          0   \n",
       "review_scores_rating                                                     NaN   \n",
       "thumbnail_url              https://a0.muscache.com/im/pictures/b3971b63-0...   \n",
       "zipcode                                                                10011   \n",
       "bedrooms                                                                   0   \n",
       "beds                                                                       2   \n",
       "has_internet                                                            True   \n",
       "has_aircon                                                              True   \n",
       "has_kitchen                                                             True   \n",
       "has_heating                                                             True   \n",
       "is_family_friendly                                                     False   \n",
       "has_Essentials                                                          True   \n",
       "has_hairdryer                                                           True   \n",
       "has_Iron                                                                True   \n",
       "translation_missing                                                    False   \n",
       "has_Washer                                                              True   \n",
       "has_Dryer                                                               True   \n",
       "has_Smoke/CO_detector                                                   True   \n",
       "has_Fire_extinguisher                                                  False   \n",
       "has_Shampoo                                                             True   \n",
       "has_Hangers                                                             True   \n",
       "has_TV                                                                  True   \n",
       "Breakfast_included                                                     False   \n",
       "has_electric_doorbell                                                  False   \n",
       "Laptop_friendly_workspace                                               True   \n",
       "has_Indoor_fireplace                                                   False   \n",
       "has_First_aid_kit                                                      False   \n",
       "has_Elevator                                                           False   \n",
       "has_Pool                                                               False   \n",
       "Free_parking                                                           False   \n",
       "has_Gym                                                                False   \n",
       "has_Hot_tub                                                            False   \n",
       "is_Wheelchair_accessible                                               False   \n",
       "has_Doorman                                                            False   \n",
       "has_Dogs                                                               False   \n",
       "Pets_live_on_property                                                  False   \n",
       "has_Lock_on_bedroom_door                                               False   \n",
       "has_Private_entrance                                                   False   \n",
       "has_Hot_water                                                          False   \n",
       "has_Bed_linens                                                         False   \n",
       "has_Refrigerator                                                       False   \n",
       "has_Dishes_silverware                                                  False   \n",
       "Pets_allowed                                                           False   \n",
       "has_Safety_card                                                        False   \n",
       "TwentyFourHour_checkIn                                                 False   \n",
       "has_Self_checkIn                                                       False   \n",
       "has_Lockbox                                                            False   \n",
       "is_Suitable_for_events                                                 False   \n",
       "has_Microwave                                                          False   \n",
       "has_Cooking_basics                                                     False   \n",
       "has_Oven                                                               False   \n",
       "has_Stove                                                              False   \n",
       "has_Bathtub                                                            False   \n",
       "\n",
       "                                                                       74110  \n",
       "id                                                                   3534845  \n",
       "log_price                                                            4.85203  \n",
       "property_type                                                           Boat  \n",
       "room_type                                                    Entire home/apt  \n",
       "accommodates                                                               4  \n",
       "bathrooms                                                                  1  \n",
       "bed_type                                                            Real Bed  \n",
       "cancellation_policy                                                 moderate  \n",
       "cleaning_fee                                                            True  \n",
       "city                                                                      LA  \n",
       "description                You will stay-aboard the Island Trader at one ...  \n",
       "first_review                                             2013-09-05 00:00:00  \n",
       "host_has_profile_pic                                                    True  \n",
       "host_identity_verified                                                  True  \n",
       "host_response_rate                                                      100%  \n",
       "host_since                                               2012-11-26 00:00:00  \n",
       "instant_bookable                                                       False  \n",
       "last_review                                              2017-04-30 00:00:00  \n",
       "latitude                                                             33.7611  \n",
       "longitude                                                           -118.192  \n",
       "name                                          Cozy Boat at Shoreline Village  \n",
       "neighbourhood                                                     Long Beach  \n",
       "number_of_reviews                                                        205  \n",
       "review_scores_rating                                                      96  \n",
       "thumbnail_url              https://a0.muscache.com/im/pictures/22968537/d...  \n",
       "zipcode                                                                90802  \n",
       "bedrooms                                                                   1  \n",
       "beds                                                                       2  \n",
       "has_internet                                                            True  \n",
       "has_aircon                                                             False  \n",
       "has_kitchen                                                             True  \n",
       "has_heating                                                             True  \n",
       "is_family_friendly                                                      True  \n",
       "has_Essentials                                                          True  \n",
       "has_hairdryer                                                           True  \n",
       "has_Iron                                                               False  \n",
       "translation_missing                                                    False  \n",
       "has_Washer                                                             False  \n",
       "has_Dryer                                                              False  \n",
       "has_Smoke/CO_detector                                                   True  \n",
       "has_Fire_extinguisher                                                   True  \n",
       "has_Shampoo                                                             True  \n",
       "has_Hangers                                                             True  \n",
       "has_TV                                                                  True  \n",
       "Breakfast_included                                                     False  \n",
       "has_electric_doorbell                                                  False  \n",
       "Laptop_friendly_workspace                                               True  \n",
       "has_Indoor_fireplace                                                   False  \n",
       "has_First_aid_kit                                                       True  \n",
       "has_Elevator                                                           False  \n",
       "has_Pool                                                               False  \n",
       "Free_parking                                                            True  \n",
       "has_Gym                                                                False  \n",
       "has_Hot_tub                                                            False  \n",
       "is_Wheelchair_accessible                                               False  \n",
       "has_Doorman                                                            False  \n",
       "has_Dogs                                                               False  \n",
       "Pets_live_on_property                                                  False  \n",
       "has_Lock_on_bedroom_door                                               False  \n",
       "has_Private_entrance                                                   False  \n",
       "has_Hot_water                                                          False  \n",
       "has_Bed_linens                                                         False  \n",
       "has_Refrigerator                                                       False  \n",
       "has_Dishes_silverware                                                  False  \n",
       "Pets_allowed                                                           False  \n",
       "has_Safety_card                                                         True  \n",
       "TwentyFourHour_checkIn                                                  True  \n",
       "has_Self_checkIn                                                       False  \n",
       "has_Lockbox                                                            False  \n",
       "is_Suitable_for_events                                                 False  \n",
       "has_Microwave                                                          False  \n",
       "has_Cooking_basics                                                     False  \n",
       "has_Oven                                                               False  \n",
       "has_Stove                                                              False  \n",
       "has_Bathtub                                                            False  "
      ]
     },
     "metadata": {},
     "output_type": "display_data"
    }
   ],
   "source": [
    "display_all(df_raw.tail().T) "
   ]
  },
  {
   "cell_type": "code",
   "execution_count": 78,
   "metadata": {
    "hidden": true,
    "scrolled": true
   },
   "outputs": [
    {
     "ename": "ValueError",
     "evalue": "Cannot convert NaT values to integer",
     "output_type": "error",
     "traceback": [
      "\u001b[1;31m---------------------------------------------------------------------------\u001b[0m",
      "\u001b[1;31mValueError\u001b[0m                                Traceback (most recent call last)",
      "\u001b[1;32m<ipython-input-78-5b90deff11e1>\u001b[0m in \u001b[0;36m<module>\u001b[1;34m\u001b[0m\n\u001b[1;32m----> 1\u001b[1;33m \u001b[0madd_datepart\u001b[0m\u001b[1;33m(\u001b[0m\u001b[0mdf_raw\u001b[0m\u001b[1;33m,\u001b[0m \u001b[1;34m'last_review'\u001b[0m\u001b[1;33m,\u001b[0m \u001b[0mdrop\u001b[0m\u001b[1;33m=\u001b[0m\u001b[1;32mFalse\u001b[0m\u001b[1;33m)\u001b[0m\u001b[1;33m\u001b[0m\u001b[1;33m\u001b[0m\u001b[0m\n\u001b[0m",
      "\u001b[1;32m/Users/bolli/fastai/old\\fastai\\structured.py\u001b[0m in \u001b[0;36madd_datepart\u001b[1;34m(df, fldnames, drop, time, errors)\u001b[0m\n\u001b[0;32m    122\u001b[0m         \u001b[1;32mif\u001b[0m \u001b[0mtime\u001b[0m\u001b[1;33m:\u001b[0m \u001b[0mattr\u001b[0m \u001b[1;33m=\u001b[0m \u001b[0mattr\u001b[0m \u001b[1;33m+\u001b[0m \u001b[1;33m[\u001b[0m\u001b[1;34m'Hour'\u001b[0m\u001b[1;33m,\u001b[0m \u001b[1;34m'Minute'\u001b[0m\u001b[1;33m,\u001b[0m \u001b[1;34m'Second'\u001b[0m\u001b[1;33m]\u001b[0m\u001b[1;33m\u001b[0m\u001b[1;33m\u001b[0m\u001b[0m\n\u001b[0;32m    123\u001b[0m         \u001b[1;32mfor\u001b[0m \u001b[0mn\u001b[0m \u001b[1;32min\u001b[0m \u001b[0mattr\u001b[0m\u001b[1;33m:\u001b[0m \u001b[0mdf\u001b[0m\u001b[1;33m[\u001b[0m\u001b[0mtarg_pre\u001b[0m \u001b[1;33m+\u001b[0m \u001b[0mn\u001b[0m\u001b[1;33m]\u001b[0m \u001b[1;33m=\u001b[0m \u001b[0mgetattr\u001b[0m\u001b[1;33m(\u001b[0m\u001b[0mfld\u001b[0m\u001b[1;33m.\u001b[0m\u001b[0mdt\u001b[0m\u001b[1;33m,\u001b[0m \u001b[0mn\u001b[0m\u001b[1;33m.\u001b[0m\u001b[0mlower\u001b[0m\u001b[1;33m(\u001b[0m\u001b[1;33m)\u001b[0m\u001b[1;33m)\u001b[0m\u001b[1;33m\u001b[0m\u001b[1;33m\u001b[0m\u001b[0m\n\u001b[1;32m--> 124\u001b[1;33m         \u001b[0mdf\u001b[0m\u001b[1;33m[\u001b[0m\u001b[0mtarg_pre\u001b[0m \u001b[1;33m+\u001b[0m \u001b[1;34m'Elapsed'\u001b[0m\u001b[1;33m]\u001b[0m \u001b[1;33m=\u001b[0m \u001b[0mfld\u001b[0m\u001b[1;33m.\u001b[0m\u001b[0mastype\u001b[0m\u001b[1;33m(\u001b[0m\u001b[0mnp\u001b[0m\u001b[1;33m.\u001b[0m\u001b[0mint64\u001b[0m\u001b[1;33m)\u001b[0m \u001b[1;33m//\u001b[0m \u001b[1;36m10\u001b[0m \u001b[1;33m**\u001b[0m \u001b[1;36m9\u001b[0m\u001b[1;33m\u001b[0m\u001b[1;33m\u001b[0m\u001b[0m\n\u001b[0m\u001b[0;32m    125\u001b[0m         \u001b[1;32mif\u001b[0m \u001b[0mdrop\u001b[0m\u001b[1;33m:\u001b[0m \u001b[0mdf\u001b[0m\u001b[1;33m.\u001b[0m\u001b[0mdrop\u001b[0m\u001b[1;33m(\u001b[0m\u001b[0mfldname\u001b[0m\u001b[1;33m,\u001b[0m \u001b[0maxis\u001b[0m\u001b[1;33m=\u001b[0m\u001b[1;36m1\u001b[0m\u001b[1;33m,\u001b[0m \u001b[0minplace\u001b[0m\u001b[1;33m=\u001b[0m\u001b[1;32mTrue\u001b[0m\u001b[1;33m)\u001b[0m\u001b[1;33m\u001b[0m\u001b[1;33m\u001b[0m\u001b[0m\n\u001b[0;32m    126\u001b[0m \u001b[1;33m\u001b[0m\u001b[0m\n",
      "\u001b[1;32m~\\Anaconda3\\envs\\fastai-cpu-v0.7\\lib\\site-packages\\pandas\\core\\generic.py\u001b[0m in \u001b[0;36mastype\u001b[1;34m(self, dtype, copy, errors)\u001b[0m\n\u001b[0;32m   5696\u001b[0m         \u001b[1;32melse\u001b[0m\u001b[1;33m:\u001b[0m\u001b[1;33m\u001b[0m\u001b[1;33m\u001b[0m\u001b[0m\n\u001b[0;32m   5697\u001b[0m             \u001b[1;31m# else, only a single dtype is given\u001b[0m\u001b[1;33m\u001b[0m\u001b[1;33m\u001b[0m\u001b[1;33m\u001b[0m\u001b[0m\n\u001b[1;32m-> 5698\u001b[1;33m             \u001b[0mnew_data\u001b[0m \u001b[1;33m=\u001b[0m \u001b[0mself\u001b[0m\u001b[1;33m.\u001b[0m\u001b[0m_data\u001b[0m\u001b[1;33m.\u001b[0m\u001b[0mastype\u001b[0m\u001b[1;33m(\u001b[0m\u001b[0mdtype\u001b[0m\u001b[1;33m=\u001b[0m\u001b[0mdtype\u001b[0m\u001b[1;33m,\u001b[0m \u001b[0mcopy\u001b[0m\u001b[1;33m=\u001b[0m\u001b[0mcopy\u001b[0m\u001b[1;33m,\u001b[0m \u001b[0merrors\u001b[0m\u001b[1;33m=\u001b[0m\u001b[0merrors\u001b[0m\u001b[1;33m)\u001b[0m\u001b[1;33m\u001b[0m\u001b[1;33m\u001b[0m\u001b[0m\n\u001b[0m\u001b[0;32m   5699\u001b[0m             \u001b[1;32mreturn\u001b[0m \u001b[0mself\u001b[0m\u001b[1;33m.\u001b[0m\u001b[0m_constructor\u001b[0m\u001b[1;33m(\u001b[0m\u001b[0mnew_data\u001b[0m\u001b[1;33m)\u001b[0m\u001b[1;33m.\u001b[0m\u001b[0m__finalize__\u001b[0m\u001b[1;33m(\u001b[0m\u001b[0mself\u001b[0m\u001b[1;33m)\u001b[0m\u001b[1;33m\u001b[0m\u001b[1;33m\u001b[0m\u001b[0m\n\u001b[0;32m   5700\u001b[0m \u001b[1;33m\u001b[0m\u001b[0m\n",
      "\u001b[1;32m~\\Anaconda3\\envs\\fastai-cpu-v0.7\\lib\\site-packages\\pandas\\core\\internals\\managers.py\u001b[0m in \u001b[0;36mastype\u001b[1;34m(self, dtype, copy, errors)\u001b[0m\n\u001b[0;32m    580\u001b[0m \u001b[1;33m\u001b[0m\u001b[0m\n\u001b[0;32m    581\u001b[0m     \u001b[1;32mdef\u001b[0m \u001b[0mastype\u001b[0m\u001b[1;33m(\u001b[0m\u001b[0mself\u001b[0m\u001b[1;33m,\u001b[0m \u001b[0mdtype\u001b[0m\u001b[1;33m,\u001b[0m \u001b[0mcopy\u001b[0m\u001b[1;33m:\u001b[0m \u001b[0mbool\u001b[0m \u001b[1;33m=\u001b[0m \u001b[1;32mFalse\u001b[0m\u001b[1;33m,\u001b[0m \u001b[0merrors\u001b[0m\u001b[1;33m:\u001b[0m \u001b[0mstr\u001b[0m \u001b[1;33m=\u001b[0m \u001b[1;34m\"raise\"\u001b[0m\u001b[1;33m)\u001b[0m\u001b[1;33m:\u001b[0m\u001b[1;33m\u001b[0m\u001b[1;33m\u001b[0m\u001b[0m\n\u001b[1;32m--> 582\u001b[1;33m         \u001b[1;32mreturn\u001b[0m \u001b[0mself\u001b[0m\u001b[1;33m.\u001b[0m\u001b[0mapply\u001b[0m\u001b[1;33m(\u001b[0m\u001b[1;34m\"astype\"\u001b[0m\u001b[1;33m,\u001b[0m \u001b[0mdtype\u001b[0m\u001b[1;33m=\u001b[0m\u001b[0mdtype\u001b[0m\u001b[1;33m,\u001b[0m \u001b[0mcopy\u001b[0m\u001b[1;33m=\u001b[0m\u001b[0mcopy\u001b[0m\u001b[1;33m,\u001b[0m \u001b[0merrors\u001b[0m\u001b[1;33m=\u001b[0m\u001b[0merrors\u001b[0m\u001b[1;33m)\u001b[0m\u001b[1;33m\u001b[0m\u001b[1;33m\u001b[0m\u001b[0m\n\u001b[0m\u001b[0;32m    583\u001b[0m \u001b[1;33m\u001b[0m\u001b[0m\n\u001b[0;32m    584\u001b[0m     \u001b[1;32mdef\u001b[0m \u001b[0mconvert\u001b[0m\u001b[1;33m(\u001b[0m\u001b[0mself\u001b[0m\u001b[1;33m,\u001b[0m \u001b[1;33m**\u001b[0m\u001b[0mkwargs\u001b[0m\u001b[1;33m)\u001b[0m\u001b[1;33m:\u001b[0m\u001b[1;33m\u001b[0m\u001b[1;33m\u001b[0m\u001b[0m\n",
      "\u001b[1;32m~\\Anaconda3\\envs\\fastai-cpu-v0.7\\lib\\site-packages\\pandas\\core\\internals\\managers.py\u001b[0m in \u001b[0;36mapply\u001b[1;34m(self, f, filter, **kwargs)\u001b[0m\n\u001b[0;32m    440\u001b[0m                 \u001b[0mapplied\u001b[0m \u001b[1;33m=\u001b[0m \u001b[0mb\u001b[0m\u001b[1;33m.\u001b[0m\u001b[0mapply\u001b[0m\u001b[1;33m(\u001b[0m\u001b[0mf\u001b[0m\u001b[1;33m,\u001b[0m \u001b[1;33m**\u001b[0m\u001b[0mkwargs\u001b[0m\u001b[1;33m)\u001b[0m\u001b[1;33m\u001b[0m\u001b[1;33m\u001b[0m\u001b[0m\n\u001b[0;32m    441\u001b[0m             \u001b[1;32melse\u001b[0m\u001b[1;33m:\u001b[0m\u001b[1;33m\u001b[0m\u001b[1;33m\u001b[0m\u001b[0m\n\u001b[1;32m--> 442\u001b[1;33m                 \u001b[0mapplied\u001b[0m \u001b[1;33m=\u001b[0m \u001b[0mgetattr\u001b[0m\u001b[1;33m(\u001b[0m\u001b[0mb\u001b[0m\u001b[1;33m,\u001b[0m \u001b[0mf\u001b[0m\u001b[1;33m)\u001b[0m\u001b[1;33m(\u001b[0m\u001b[1;33m**\u001b[0m\u001b[0mkwargs\u001b[0m\u001b[1;33m)\u001b[0m\u001b[1;33m\u001b[0m\u001b[1;33m\u001b[0m\u001b[0m\n\u001b[0m\u001b[0;32m    443\u001b[0m             \u001b[0mresult_blocks\u001b[0m \u001b[1;33m=\u001b[0m \u001b[0m_extend_blocks\u001b[0m\u001b[1;33m(\u001b[0m\u001b[0mapplied\u001b[0m\u001b[1;33m,\u001b[0m \u001b[0mresult_blocks\u001b[0m\u001b[1;33m)\u001b[0m\u001b[1;33m\u001b[0m\u001b[1;33m\u001b[0m\u001b[0m\n\u001b[0;32m    444\u001b[0m \u001b[1;33m\u001b[0m\u001b[0m\n",
      "\u001b[1;32m~\\Anaconda3\\envs\\fastai-cpu-v0.7\\lib\\site-packages\\pandas\\core\\internals\\blocks.py\u001b[0m in \u001b[0;36mastype\u001b[1;34m(self, dtype, copy, errors)\u001b[0m\n\u001b[0;32m   2213\u001b[0m \u001b[1;33m\u001b[0m\u001b[0m\n\u001b[0;32m   2214\u001b[0m         \u001b[1;31m# delegate\u001b[0m\u001b[1;33m\u001b[0m\u001b[1;33m\u001b[0m\u001b[1;33m\u001b[0m\u001b[0m\n\u001b[1;32m-> 2215\u001b[1;33m         \u001b[1;32mreturn\u001b[0m \u001b[0msuper\u001b[0m\u001b[1;33m(\u001b[0m\u001b[1;33m)\u001b[0m\u001b[1;33m.\u001b[0m\u001b[0mastype\u001b[0m\u001b[1;33m(\u001b[0m\u001b[0mdtype\u001b[0m\u001b[1;33m=\u001b[0m\u001b[0mdtype\u001b[0m\u001b[1;33m,\u001b[0m \u001b[0mcopy\u001b[0m\u001b[1;33m=\u001b[0m\u001b[0mcopy\u001b[0m\u001b[1;33m,\u001b[0m \u001b[0merrors\u001b[0m\u001b[1;33m=\u001b[0m\u001b[0merrors\u001b[0m\u001b[1;33m)\u001b[0m\u001b[1;33m\u001b[0m\u001b[1;33m\u001b[0m\u001b[0m\n\u001b[0m\u001b[0;32m   2216\u001b[0m \u001b[1;33m\u001b[0m\u001b[0m\n\u001b[0;32m   2217\u001b[0m     \u001b[1;32mdef\u001b[0m \u001b[0m_can_hold_element\u001b[0m\u001b[1;33m(\u001b[0m\u001b[0mself\u001b[0m\u001b[1;33m,\u001b[0m \u001b[0melement\u001b[0m\u001b[1;33m:\u001b[0m \u001b[0mAny\u001b[0m\u001b[1;33m)\u001b[0m \u001b[1;33m->\u001b[0m \u001b[0mbool\u001b[0m\u001b[1;33m:\u001b[0m\u001b[1;33m\u001b[0m\u001b[1;33m\u001b[0m\u001b[0m\n",
      "\u001b[1;32m~\\Anaconda3\\envs\\fastai-cpu-v0.7\\lib\\site-packages\\pandas\\core\\internals\\blocks.py\u001b[0m in \u001b[0;36mastype\u001b[1;34m(self, dtype, copy, errors)\u001b[0m\n\u001b[0;32m    623\u001b[0m             \u001b[0mvals1d\u001b[0m \u001b[1;33m=\u001b[0m \u001b[0mvalues\u001b[0m\u001b[1;33m.\u001b[0m\u001b[0mravel\u001b[0m\u001b[1;33m(\u001b[0m\u001b[1;33m)\u001b[0m\u001b[1;33m\u001b[0m\u001b[1;33m\u001b[0m\u001b[0m\n\u001b[0;32m    624\u001b[0m             \u001b[1;32mtry\u001b[0m\u001b[1;33m:\u001b[0m\u001b[1;33m\u001b[0m\u001b[1;33m\u001b[0m\u001b[0m\n\u001b[1;32m--> 625\u001b[1;33m                 \u001b[0mvalues\u001b[0m \u001b[1;33m=\u001b[0m \u001b[0mastype_nansafe\u001b[0m\u001b[1;33m(\u001b[0m\u001b[0mvals1d\u001b[0m\u001b[1;33m,\u001b[0m \u001b[0mdtype\u001b[0m\u001b[1;33m,\u001b[0m \u001b[0mcopy\u001b[0m\u001b[1;33m=\u001b[0m\u001b[1;32mTrue\u001b[0m\u001b[1;33m)\u001b[0m\u001b[1;33m\u001b[0m\u001b[1;33m\u001b[0m\u001b[0m\n\u001b[0m\u001b[0;32m    626\u001b[0m             \u001b[1;32mexcept\u001b[0m \u001b[1;33m(\u001b[0m\u001b[0mValueError\u001b[0m\u001b[1;33m,\u001b[0m \u001b[0mTypeError\u001b[0m\u001b[1;33m)\u001b[0m\u001b[1;33m:\u001b[0m\u001b[1;33m\u001b[0m\u001b[1;33m\u001b[0m\u001b[0m\n\u001b[0;32m    627\u001b[0m                 \u001b[1;31m# e.g. astype_nansafe can fail on object-dtype of strings\u001b[0m\u001b[1;33m\u001b[0m\u001b[1;33m\u001b[0m\u001b[1;33m\u001b[0m\u001b[0m\n",
      "\u001b[1;32m~\\Anaconda3\\envs\\fastai-cpu-v0.7\\lib\\site-packages\\pandas\\core\\dtypes\\cast.py\u001b[0m in \u001b[0;36mastype_nansafe\u001b[1;34m(arr, dtype, copy, skipna)\u001b[0m\n\u001b[0;32m    832\u001b[0m         \u001b[1;32melif\u001b[0m \u001b[0mdtype\u001b[0m \u001b[1;33m==\u001b[0m \u001b[0mnp\u001b[0m\u001b[1;33m.\u001b[0m\u001b[0mint64\u001b[0m\u001b[1;33m:\u001b[0m\u001b[1;33m\u001b[0m\u001b[1;33m\u001b[0m\u001b[0m\n\u001b[0;32m    833\u001b[0m             \u001b[1;32mif\u001b[0m \u001b[0misna\u001b[0m\u001b[1;33m(\u001b[0m\u001b[0marr\u001b[0m\u001b[1;33m)\u001b[0m\u001b[1;33m.\u001b[0m\u001b[0many\u001b[0m\u001b[1;33m(\u001b[0m\u001b[1;33m)\u001b[0m\u001b[1;33m:\u001b[0m\u001b[1;33m\u001b[0m\u001b[1;33m\u001b[0m\u001b[0m\n\u001b[1;32m--> 834\u001b[1;33m                 \u001b[1;32mraise\u001b[0m \u001b[0mValueError\u001b[0m\u001b[1;33m(\u001b[0m\u001b[1;34m\"Cannot convert NaT values to integer\"\u001b[0m\u001b[1;33m)\u001b[0m\u001b[1;33m\u001b[0m\u001b[1;33m\u001b[0m\u001b[0m\n\u001b[0m\u001b[0;32m    835\u001b[0m             \u001b[1;32mreturn\u001b[0m \u001b[0marr\u001b[0m\u001b[1;33m.\u001b[0m\u001b[0mview\u001b[0m\u001b[1;33m(\u001b[0m\u001b[0mdtype\u001b[0m\u001b[1;33m)\u001b[0m\u001b[1;33m\u001b[0m\u001b[1;33m\u001b[0m\u001b[0m\n\u001b[0;32m    836\u001b[0m \u001b[1;33m\u001b[0m\u001b[0m\n",
      "\u001b[1;31mValueError\u001b[0m: Cannot convert NaT values to integer"
     ]
    }
   ],
   "source": [
    "add_datepart(df_raw, 'last_review', drop=False)"
   ]
  },
  {
   "cell_type": "code",
   "execution_count": 79,
   "metadata": {
    "hidden": true
   },
   "outputs": [],
   "source": [
    "??add_datepart"
   ]
  },
  {
   "cell_type": "code",
   "execution_count": 80,
   "metadata": {
    "hidden": true
   },
   "outputs": [
    {
     "data": {
      "text/plain": [
       "dtype('<M8[ns]')"
      ]
     },
     "execution_count": 80,
     "metadata": {},
     "output_type": "execute_result"
    }
   ],
   "source": [
    "df_raw.last_review.dtype"
   ]
  },
  {
   "cell_type": "code",
   "execution_count": 81,
   "metadata": {
    "hidden": true
   },
   "outputs": [
    {
     "data": {
      "text/plain": [
       "True"
      ]
     },
     "execution_count": 81,
     "metadata": {},
     "output_type": "execute_result"
    }
   ],
   "source": [
    "np.dtype('datetime64[ns]') == np.dtype('<M8[ns]')"
   ]
  },
  {
   "cell_type": "markdown",
   "metadata": {
    "hidden": true
   },
   "source": [
    "Parsing the different date data like 'last_review' through the add_datepart function produces a ValueError although we have the proper data type as the function doesn't have a way to handle missing values which we have for all date variables. However, this doesn't stop the function processing and the data values are still split into the different date columns. Thus, this ValueError is not a major issue. Only problem is, that the last part of the add_datepart function is not executed anymore. That is to drop the original 'last_review' feature as we can observe two lines above (still recognizes it after processing function). This will be an issue at a later stage when we want to exexcute max_n_cats as this feature won't be able process the original date datatype but recognize it as a category. Thus we'll have to drop it manually. "
   ]
  },
  {
   "cell_type": "code",
   "execution_count": 82,
   "metadata": {
    "hidden": true,
    "scrolled": true
   },
   "outputs": [
    {
     "data": {
      "text/plain": [
       "<bound method Series.all of 0        2016.0\n",
       "1        2017.0\n",
       "2        2017.0\n",
       "3           NaN\n",
       "4        2017.0\n",
       "          ...  \n",
       "74106       NaN\n",
       "74107    2017.0\n",
       "74108    2017.0\n",
       "74109       NaN\n",
       "74110    2017.0\n",
       "Name: last_reviewYear, Length: 74111, dtype: float64>"
      ]
     },
     "execution_count": 82,
     "metadata": {},
     "output_type": "execute_result"
    }
   ],
   "source": [
    "df_raw.last_reviewYear.all"
   ]
  },
  {
   "cell_type": "code",
   "execution_count": 83,
   "metadata": {
    "hidden": true,
    "scrolled": true
   },
   "outputs": [
    {
     "ename": "ValueError",
     "evalue": "Cannot convert NaT values to integer",
     "output_type": "error",
     "traceback": [
      "\u001b[1;31m---------------------------------------------------------------------------\u001b[0m",
      "\u001b[1;31mValueError\u001b[0m                                Traceback (most recent call last)",
      "\u001b[1;32m<ipython-input-83-b8440f56a5fd>\u001b[0m in \u001b[0;36m<module>\u001b[1;34m\u001b[0m\n\u001b[1;32m----> 1\u001b[1;33m \u001b[0madd_datepart\u001b[0m\u001b[1;33m(\u001b[0m\u001b[0mdf_raw\u001b[0m\u001b[1;33m,\u001b[0m \u001b[1;34m'first_review'\u001b[0m\u001b[1;33m,\u001b[0m \u001b[0mdrop\u001b[0m\u001b[1;33m=\u001b[0m\u001b[1;32mFalse\u001b[0m\u001b[1;33m)\u001b[0m\u001b[1;33m\u001b[0m\u001b[1;33m\u001b[0m\u001b[0m\n\u001b[0m",
      "\u001b[1;32m/Users/bolli/fastai/old\\fastai\\structured.py\u001b[0m in \u001b[0;36madd_datepart\u001b[1;34m(df, fldnames, drop, time, errors)\u001b[0m\n\u001b[0;32m    122\u001b[0m         \u001b[1;32mif\u001b[0m \u001b[0mtime\u001b[0m\u001b[1;33m:\u001b[0m \u001b[0mattr\u001b[0m \u001b[1;33m=\u001b[0m \u001b[0mattr\u001b[0m \u001b[1;33m+\u001b[0m \u001b[1;33m[\u001b[0m\u001b[1;34m'Hour'\u001b[0m\u001b[1;33m,\u001b[0m \u001b[1;34m'Minute'\u001b[0m\u001b[1;33m,\u001b[0m \u001b[1;34m'Second'\u001b[0m\u001b[1;33m]\u001b[0m\u001b[1;33m\u001b[0m\u001b[1;33m\u001b[0m\u001b[0m\n\u001b[0;32m    123\u001b[0m         \u001b[1;32mfor\u001b[0m \u001b[0mn\u001b[0m \u001b[1;32min\u001b[0m \u001b[0mattr\u001b[0m\u001b[1;33m:\u001b[0m \u001b[0mdf\u001b[0m\u001b[1;33m[\u001b[0m\u001b[0mtarg_pre\u001b[0m \u001b[1;33m+\u001b[0m \u001b[0mn\u001b[0m\u001b[1;33m]\u001b[0m \u001b[1;33m=\u001b[0m \u001b[0mgetattr\u001b[0m\u001b[1;33m(\u001b[0m\u001b[0mfld\u001b[0m\u001b[1;33m.\u001b[0m\u001b[0mdt\u001b[0m\u001b[1;33m,\u001b[0m \u001b[0mn\u001b[0m\u001b[1;33m.\u001b[0m\u001b[0mlower\u001b[0m\u001b[1;33m(\u001b[0m\u001b[1;33m)\u001b[0m\u001b[1;33m)\u001b[0m\u001b[1;33m\u001b[0m\u001b[1;33m\u001b[0m\u001b[0m\n\u001b[1;32m--> 124\u001b[1;33m         \u001b[0mdf\u001b[0m\u001b[1;33m[\u001b[0m\u001b[0mtarg_pre\u001b[0m \u001b[1;33m+\u001b[0m \u001b[1;34m'Elapsed'\u001b[0m\u001b[1;33m]\u001b[0m \u001b[1;33m=\u001b[0m \u001b[0mfld\u001b[0m\u001b[1;33m.\u001b[0m\u001b[0mastype\u001b[0m\u001b[1;33m(\u001b[0m\u001b[0mnp\u001b[0m\u001b[1;33m.\u001b[0m\u001b[0mint64\u001b[0m\u001b[1;33m)\u001b[0m \u001b[1;33m//\u001b[0m \u001b[1;36m10\u001b[0m \u001b[1;33m**\u001b[0m \u001b[1;36m9\u001b[0m\u001b[1;33m\u001b[0m\u001b[1;33m\u001b[0m\u001b[0m\n\u001b[0m\u001b[0;32m    125\u001b[0m         \u001b[1;32mif\u001b[0m \u001b[0mdrop\u001b[0m\u001b[1;33m:\u001b[0m \u001b[0mdf\u001b[0m\u001b[1;33m.\u001b[0m\u001b[0mdrop\u001b[0m\u001b[1;33m(\u001b[0m\u001b[0mfldname\u001b[0m\u001b[1;33m,\u001b[0m \u001b[0maxis\u001b[0m\u001b[1;33m=\u001b[0m\u001b[1;36m1\u001b[0m\u001b[1;33m,\u001b[0m \u001b[0minplace\u001b[0m\u001b[1;33m=\u001b[0m\u001b[1;32mTrue\u001b[0m\u001b[1;33m)\u001b[0m\u001b[1;33m\u001b[0m\u001b[1;33m\u001b[0m\u001b[0m\n\u001b[0;32m    126\u001b[0m \u001b[1;33m\u001b[0m\u001b[0m\n",
      "\u001b[1;32m~\\Anaconda3\\envs\\fastai-cpu-v0.7\\lib\\site-packages\\pandas\\core\\generic.py\u001b[0m in \u001b[0;36mastype\u001b[1;34m(self, dtype, copy, errors)\u001b[0m\n\u001b[0;32m   5696\u001b[0m         \u001b[1;32melse\u001b[0m\u001b[1;33m:\u001b[0m\u001b[1;33m\u001b[0m\u001b[1;33m\u001b[0m\u001b[0m\n\u001b[0;32m   5697\u001b[0m             \u001b[1;31m# else, only a single dtype is given\u001b[0m\u001b[1;33m\u001b[0m\u001b[1;33m\u001b[0m\u001b[1;33m\u001b[0m\u001b[0m\n\u001b[1;32m-> 5698\u001b[1;33m             \u001b[0mnew_data\u001b[0m \u001b[1;33m=\u001b[0m \u001b[0mself\u001b[0m\u001b[1;33m.\u001b[0m\u001b[0m_data\u001b[0m\u001b[1;33m.\u001b[0m\u001b[0mastype\u001b[0m\u001b[1;33m(\u001b[0m\u001b[0mdtype\u001b[0m\u001b[1;33m=\u001b[0m\u001b[0mdtype\u001b[0m\u001b[1;33m,\u001b[0m \u001b[0mcopy\u001b[0m\u001b[1;33m=\u001b[0m\u001b[0mcopy\u001b[0m\u001b[1;33m,\u001b[0m \u001b[0merrors\u001b[0m\u001b[1;33m=\u001b[0m\u001b[0merrors\u001b[0m\u001b[1;33m)\u001b[0m\u001b[1;33m\u001b[0m\u001b[1;33m\u001b[0m\u001b[0m\n\u001b[0m\u001b[0;32m   5699\u001b[0m             \u001b[1;32mreturn\u001b[0m \u001b[0mself\u001b[0m\u001b[1;33m.\u001b[0m\u001b[0m_constructor\u001b[0m\u001b[1;33m(\u001b[0m\u001b[0mnew_data\u001b[0m\u001b[1;33m)\u001b[0m\u001b[1;33m.\u001b[0m\u001b[0m__finalize__\u001b[0m\u001b[1;33m(\u001b[0m\u001b[0mself\u001b[0m\u001b[1;33m)\u001b[0m\u001b[1;33m\u001b[0m\u001b[1;33m\u001b[0m\u001b[0m\n\u001b[0;32m   5700\u001b[0m \u001b[1;33m\u001b[0m\u001b[0m\n",
      "\u001b[1;32m~\\Anaconda3\\envs\\fastai-cpu-v0.7\\lib\\site-packages\\pandas\\core\\internals\\managers.py\u001b[0m in \u001b[0;36mastype\u001b[1;34m(self, dtype, copy, errors)\u001b[0m\n\u001b[0;32m    580\u001b[0m \u001b[1;33m\u001b[0m\u001b[0m\n\u001b[0;32m    581\u001b[0m     \u001b[1;32mdef\u001b[0m \u001b[0mastype\u001b[0m\u001b[1;33m(\u001b[0m\u001b[0mself\u001b[0m\u001b[1;33m,\u001b[0m \u001b[0mdtype\u001b[0m\u001b[1;33m,\u001b[0m \u001b[0mcopy\u001b[0m\u001b[1;33m:\u001b[0m \u001b[0mbool\u001b[0m \u001b[1;33m=\u001b[0m \u001b[1;32mFalse\u001b[0m\u001b[1;33m,\u001b[0m \u001b[0merrors\u001b[0m\u001b[1;33m:\u001b[0m \u001b[0mstr\u001b[0m \u001b[1;33m=\u001b[0m \u001b[1;34m\"raise\"\u001b[0m\u001b[1;33m)\u001b[0m\u001b[1;33m:\u001b[0m\u001b[1;33m\u001b[0m\u001b[1;33m\u001b[0m\u001b[0m\n\u001b[1;32m--> 582\u001b[1;33m         \u001b[1;32mreturn\u001b[0m \u001b[0mself\u001b[0m\u001b[1;33m.\u001b[0m\u001b[0mapply\u001b[0m\u001b[1;33m(\u001b[0m\u001b[1;34m\"astype\"\u001b[0m\u001b[1;33m,\u001b[0m \u001b[0mdtype\u001b[0m\u001b[1;33m=\u001b[0m\u001b[0mdtype\u001b[0m\u001b[1;33m,\u001b[0m \u001b[0mcopy\u001b[0m\u001b[1;33m=\u001b[0m\u001b[0mcopy\u001b[0m\u001b[1;33m,\u001b[0m \u001b[0merrors\u001b[0m\u001b[1;33m=\u001b[0m\u001b[0merrors\u001b[0m\u001b[1;33m)\u001b[0m\u001b[1;33m\u001b[0m\u001b[1;33m\u001b[0m\u001b[0m\n\u001b[0m\u001b[0;32m    583\u001b[0m \u001b[1;33m\u001b[0m\u001b[0m\n\u001b[0;32m    584\u001b[0m     \u001b[1;32mdef\u001b[0m \u001b[0mconvert\u001b[0m\u001b[1;33m(\u001b[0m\u001b[0mself\u001b[0m\u001b[1;33m,\u001b[0m \u001b[1;33m**\u001b[0m\u001b[0mkwargs\u001b[0m\u001b[1;33m)\u001b[0m\u001b[1;33m:\u001b[0m\u001b[1;33m\u001b[0m\u001b[1;33m\u001b[0m\u001b[0m\n",
      "\u001b[1;32m~\\Anaconda3\\envs\\fastai-cpu-v0.7\\lib\\site-packages\\pandas\\core\\internals\\managers.py\u001b[0m in \u001b[0;36mapply\u001b[1;34m(self, f, filter, **kwargs)\u001b[0m\n\u001b[0;32m    440\u001b[0m                 \u001b[0mapplied\u001b[0m \u001b[1;33m=\u001b[0m \u001b[0mb\u001b[0m\u001b[1;33m.\u001b[0m\u001b[0mapply\u001b[0m\u001b[1;33m(\u001b[0m\u001b[0mf\u001b[0m\u001b[1;33m,\u001b[0m \u001b[1;33m**\u001b[0m\u001b[0mkwargs\u001b[0m\u001b[1;33m)\u001b[0m\u001b[1;33m\u001b[0m\u001b[1;33m\u001b[0m\u001b[0m\n\u001b[0;32m    441\u001b[0m             \u001b[1;32melse\u001b[0m\u001b[1;33m:\u001b[0m\u001b[1;33m\u001b[0m\u001b[1;33m\u001b[0m\u001b[0m\n\u001b[1;32m--> 442\u001b[1;33m                 \u001b[0mapplied\u001b[0m \u001b[1;33m=\u001b[0m \u001b[0mgetattr\u001b[0m\u001b[1;33m(\u001b[0m\u001b[0mb\u001b[0m\u001b[1;33m,\u001b[0m \u001b[0mf\u001b[0m\u001b[1;33m)\u001b[0m\u001b[1;33m(\u001b[0m\u001b[1;33m**\u001b[0m\u001b[0mkwargs\u001b[0m\u001b[1;33m)\u001b[0m\u001b[1;33m\u001b[0m\u001b[1;33m\u001b[0m\u001b[0m\n\u001b[0m\u001b[0;32m    443\u001b[0m             \u001b[0mresult_blocks\u001b[0m \u001b[1;33m=\u001b[0m \u001b[0m_extend_blocks\u001b[0m\u001b[1;33m(\u001b[0m\u001b[0mapplied\u001b[0m\u001b[1;33m,\u001b[0m \u001b[0mresult_blocks\u001b[0m\u001b[1;33m)\u001b[0m\u001b[1;33m\u001b[0m\u001b[1;33m\u001b[0m\u001b[0m\n\u001b[0;32m    444\u001b[0m \u001b[1;33m\u001b[0m\u001b[0m\n",
      "\u001b[1;32m~\\Anaconda3\\envs\\fastai-cpu-v0.7\\lib\\site-packages\\pandas\\core\\internals\\blocks.py\u001b[0m in \u001b[0;36mastype\u001b[1;34m(self, dtype, copy, errors)\u001b[0m\n\u001b[0;32m   2213\u001b[0m \u001b[1;33m\u001b[0m\u001b[0m\n\u001b[0;32m   2214\u001b[0m         \u001b[1;31m# delegate\u001b[0m\u001b[1;33m\u001b[0m\u001b[1;33m\u001b[0m\u001b[1;33m\u001b[0m\u001b[0m\n\u001b[1;32m-> 2215\u001b[1;33m         \u001b[1;32mreturn\u001b[0m \u001b[0msuper\u001b[0m\u001b[1;33m(\u001b[0m\u001b[1;33m)\u001b[0m\u001b[1;33m.\u001b[0m\u001b[0mastype\u001b[0m\u001b[1;33m(\u001b[0m\u001b[0mdtype\u001b[0m\u001b[1;33m=\u001b[0m\u001b[0mdtype\u001b[0m\u001b[1;33m,\u001b[0m \u001b[0mcopy\u001b[0m\u001b[1;33m=\u001b[0m\u001b[0mcopy\u001b[0m\u001b[1;33m,\u001b[0m \u001b[0merrors\u001b[0m\u001b[1;33m=\u001b[0m\u001b[0merrors\u001b[0m\u001b[1;33m)\u001b[0m\u001b[1;33m\u001b[0m\u001b[1;33m\u001b[0m\u001b[0m\n\u001b[0m\u001b[0;32m   2216\u001b[0m \u001b[1;33m\u001b[0m\u001b[0m\n\u001b[0;32m   2217\u001b[0m     \u001b[1;32mdef\u001b[0m \u001b[0m_can_hold_element\u001b[0m\u001b[1;33m(\u001b[0m\u001b[0mself\u001b[0m\u001b[1;33m,\u001b[0m \u001b[0melement\u001b[0m\u001b[1;33m:\u001b[0m \u001b[0mAny\u001b[0m\u001b[1;33m)\u001b[0m \u001b[1;33m->\u001b[0m \u001b[0mbool\u001b[0m\u001b[1;33m:\u001b[0m\u001b[1;33m\u001b[0m\u001b[1;33m\u001b[0m\u001b[0m\n",
      "\u001b[1;32m~\\Anaconda3\\envs\\fastai-cpu-v0.7\\lib\\site-packages\\pandas\\core\\internals\\blocks.py\u001b[0m in \u001b[0;36mastype\u001b[1;34m(self, dtype, copy, errors)\u001b[0m\n\u001b[0;32m    623\u001b[0m             \u001b[0mvals1d\u001b[0m \u001b[1;33m=\u001b[0m \u001b[0mvalues\u001b[0m\u001b[1;33m.\u001b[0m\u001b[0mravel\u001b[0m\u001b[1;33m(\u001b[0m\u001b[1;33m)\u001b[0m\u001b[1;33m\u001b[0m\u001b[1;33m\u001b[0m\u001b[0m\n\u001b[0;32m    624\u001b[0m             \u001b[1;32mtry\u001b[0m\u001b[1;33m:\u001b[0m\u001b[1;33m\u001b[0m\u001b[1;33m\u001b[0m\u001b[0m\n\u001b[1;32m--> 625\u001b[1;33m                 \u001b[0mvalues\u001b[0m \u001b[1;33m=\u001b[0m \u001b[0mastype_nansafe\u001b[0m\u001b[1;33m(\u001b[0m\u001b[0mvals1d\u001b[0m\u001b[1;33m,\u001b[0m \u001b[0mdtype\u001b[0m\u001b[1;33m,\u001b[0m \u001b[0mcopy\u001b[0m\u001b[1;33m=\u001b[0m\u001b[1;32mTrue\u001b[0m\u001b[1;33m)\u001b[0m\u001b[1;33m\u001b[0m\u001b[1;33m\u001b[0m\u001b[0m\n\u001b[0m\u001b[0;32m    626\u001b[0m             \u001b[1;32mexcept\u001b[0m \u001b[1;33m(\u001b[0m\u001b[0mValueError\u001b[0m\u001b[1;33m,\u001b[0m \u001b[0mTypeError\u001b[0m\u001b[1;33m)\u001b[0m\u001b[1;33m:\u001b[0m\u001b[1;33m\u001b[0m\u001b[1;33m\u001b[0m\u001b[0m\n\u001b[0;32m    627\u001b[0m                 \u001b[1;31m# e.g. astype_nansafe can fail on object-dtype of strings\u001b[0m\u001b[1;33m\u001b[0m\u001b[1;33m\u001b[0m\u001b[1;33m\u001b[0m\u001b[0m\n",
      "\u001b[1;32m~\\Anaconda3\\envs\\fastai-cpu-v0.7\\lib\\site-packages\\pandas\\core\\dtypes\\cast.py\u001b[0m in \u001b[0;36mastype_nansafe\u001b[1;34m(arr, dtype, copy, skipna)\u001b[0m\n\u001b[0;32m    832\u001b[0m         \u001b[1;32melif\u001b[0m \u001b[0mdtype\u001b[0m \u001b[1;33m==\u001b[0m \u001b[0mnp\u001b[0m\u001b[1;33m.\u001b[0m\u001b[0mint64\u001b[0m\u001b[1;33m:\u001b[0m\u001b[1;33m\u001b[0m\u001b[1;33m\u001b[0m\u001b[0m\n\u001b[0;32m    833\u001b[0m             \u001b[1;32mif\u001b[0m \u001b[0misna\u001b[0m\u001b[1;33m(\u001b[0m\u001b[0marr\u001b[0m\u001b[1;33m)\u001b[0m\u001b[1;33m.\u001b[0m\u001b[0many\u001b[0m\u001b[1;33m(\u001b[0m\u001b[1;33m)\u001b[0m\u001b[1;33m:\u001b[0m\u001b[1;33m\u001b[0m\u001b[1;33m\u001b[0m\u001b[0m\n\u001b[1;32m--> 834\u001b[1;33m                 \u001b[1;32mraise\u001b[0m \u001b[0mValueError\u001b[0m\u001b[1;33m(\u001b[0m\u001b[1;34m\"Cannot convert NaT values to integer\"\u001b[0m\u001b[1;33m)\u001b[0m\u001b[1;33m\u001b[0m\u001b[1;33m\u001b[0m\u001b[0m\n\u001b[0m\u001b[0;32m    835\u001b[0m             \u001b[1;32mreturn\u001b[0m \u001b[0marr\u001b[0m\u001b[1;33m.\u001b[0m\u001b[0mview\u001b[0m\u001b[1;33m(\u001b[0m\u001b[0mdtype\u001b[0m\u001b[1;33m)\u001b[0m\u001b[1;33m\u001b[0m\u001b[1;33m\u001b[0m\u001b[0m\n\u001b[0;32m    836\u001b[0m \u001b[1;33m\u001b[0m\u001b[0m\n",
      "\u001b[1;31mValueError\u001b[0m: Cannot convert NaT values to integer"
     ]
    }
   ],
   "source": [
    "add_datepart(df_raw, 'first_review', drop=False)"
   ]
  },
  {
   "cell_type": "code",
   "execution_count": 84,
   "metadata": {
    "hidden": true
   },
   "outputs": [
    {
     "ename": "ValueError",
     "evalue": "Cannot convert NaT values to integer",
     "output_type": "error",
     "traceback": [
      "\u001b[1;31m---------------------------------------------------------------------------\u001b[0m",
      "\u001b[1;31mValueError\u001b[0m                                Traceback (most recent call last)",
      "\u001b[1;32m<ipython-input-84-0e975bc74e77>\u001b[0m in \u001b[0;36m<module>\u001b[1;34m\u001b[0m\n\u001b[1;32m----> 1\u001b[1;33m \u001b[0madd_datepart\u001b[0m\u001b[1;33m(\u001b[0m\u001b[0mdf_raw\u001b[0m\u001b[1;33m,\u001b[0m \u001b[1;34m'host_since'\u001b[0m\u001b[1;33m,\u001b[0m \u001b[0mdrop\u001b[0m\u001b[1;33m=\u001b[0m\u001b[1;32mFalse\u001b[0m \u001b[1;33m)\u001b[0m\u001b[1;33m\u001b[0m\u001b[1;33m\u001b[0m\u001b[0m\n\u001b[0m",
      "\u001b[1;32m/Users/bolli/fastai/old\\fastai\\structured.py\u001b[0m in \u001b[0;36madd_datepart\u001b[1;34m(df, fldnames, drop, time, errors)\u001b[0m\n\u001b[0;32m    122\u001b[0m         \u001b[1;32mif\u001b[0m \u001b[0mtime\u001b[0m\u001b[1;33m:\u001b[0m \u001b[0mattr\u001b[0m \u001b[1;33m=\u001b[0m \u001b[0mattr\u001b[0m \u001b[1;33m+\u001b[0m \u001b[1;33m[\u001b[0m\u001b[1;34m'Hour'\u001b[0m\u001b[1;33m,\u001b[0m \u001b[1;34m'Minute'\u001b[0m\u001b[1;33m,\u001b[0m \u001b[1;34m'Second'\u001b[0m\u001b[1;33m]\u001b[0m\u001b[1;33m\u001b[0m\u001b[1;33m\u001b[0m\u001b[0m\n\u001b[0;32m    123\u001b[0m         \u001b[1;32mfor\u001b[0m \u001b[0mn\u001b[0m \u001b[1;32min\u001b[0m \u001b[0mattr\u001b[0m\u001b[1;33m:\u001b[0m \u001b[0mdf\u001b[0m\u001b[1;33m[\u001b[0m\u001b[0mtarg_pre\u001b[0m \u001b[1;33m+\u001b[0m \u001b[0mn\u001b[0m\u001b[1;33m]\u001b[0m \u001b[1;33m=\u001b[0m \u001b[0mgetattr\u001b[0m\u001b[1;33m(\u001b[0m\u001b[0mfld\u001b[0m\u001b[1;33m.\u001b[0m\u001b[0mdt\u001b[0m\u001b[1;33m,\u001b[0m \u001b[0mn\u001b[0m\u001b[1;33m.\u001b[0m\u001b[0mlower\u001b[0m\u001b[1;33m(\u001b[0m\u001b[1;33m)\u001b[0m\u001b[1;33m)\u001b[0m\u001b[1;33m\u001b[0m\u001b[1;33m\u001b[0m\u001b[0m\n\u001b[1;32m--> 124\u001b[1;33m         \u001b[0mdf\u001b[0m\u001b[1;33m[\u001b[0m\u001b[0mtarg_pre\u001b[0m \u001b[1;33m+\u001b[0m \u001b[1;34m'Elapsed'\u001b[0m\u001b[1;33m]\u001b[0m \u001b[1;33m=\u001b[0m \u001b[0mfld\u001b[0m\u001b[1;33m.\u001b[0m\u001b[0mastype\u001b[0m\u001b[1;33m(\u001b[0m\u001b[0mnp\u001b[0m\u001b[1;33m.\u001b[0m\u001b[0mint64\u001b[0m\u001b[1;33m)\u001b[0m \u001b[1;33m//\u001b[0m \u001b[1;36m10\u001b[0m \u001b[1;33m**\u001b[0m \u001b[1;36m9\u001b[0m\u001b[1;33m\u001b[0m\u001b[1;33m\u001b[0m\u001b[0m\n\u001b[0m\u001b[0;32m    125\u001b[0m         \u001b[1;32mif\u001b[0m \u001b[0mdrop\u001b[0m\u001b[1;33m:\u001b[0m \u001b[0mdf\u001b[0m\u001b[1;33m.\u001b[0m\u001b[0mdrop\u001b[0m\u001b[1;33m(\u001b[0m\u001b[0mfldname\u001b[0m\u001b[1;33m,\u001b[0m \u001b[0maxis\u001b[0m\u001b[1;33m=\u001b[0m\u001b[1;36m1\u001b[0m\u001b[1;33m,\u001b[0m \u001b[0minplace\u001b[0m\u001b[1;33m=\u001b[0m\u001b[1;32mTrue\u001b[0m\u001b[1;33m)\u001b[0m\u001b[1;33m\u001b[0m\u001b[1;33m\u001b[0m\u001b[0m\n\u001b[0;32m    126\u001b[0m \u001b[1;33m\u001b[0m\u001b[0m\n",
      "\u001b[1;32m~\\Anaconda3\\envs\\fastai-cpu-v0.7\\lib\\site-packages\\pandas\\core\\generic.py\u001b[0m in \u001b[0;36mastype\u001b[1;34m(self, dtype, copy, errors)\u001b[0m\n\u001b[0;32m   5696\u001b[0m         \u001b[1;32melse\u001b[0m\u001b[1;33m:\u001b[0m\u001b[1;33m\u001b[0m\u001b[1;33m\u001b[0m\u001b[0m\n\u001b[0;32m   5697\u001b[0m             \u001b[1;31m# else, only a single dtype is given\u001b[0m\u001b[1;33m\u001b[0m\u001b[1;33m\u001b[0m\u001b[1;33m\u001b[0m\u001b[0m\n\u001b[1;32m-> 5698\u001b[1;33m             \u001b[0mnew_data\u001b[0m \u001b[1;33m=\u001b[0m \u001b[0mself\u001b[0m\u001b[1;33m.\u001b[0m\u001b[0m_data\u001b[0m\u001b[1;33m.\u001b[0m\u001b[0mastype\u001b[0m\u001b[1;33m(\u001b[0m\u001b[0mdtype\u001b[0m\u001b[1;33m=\u001b[0m\u001b[0mdtype\u001b[0m\u001b[1;33m,\u001b[0m \u001b[0mcopy\u001b[0m\u001b[1;33m=\u001b[0m\u001b[0mcopy\u001b[0m\u001b[1;33m,\u001b[0m \u001b[0merrors\u001b[0m\u001b[1;33m=\u001b[0m\u001b[0merrors\u001b[0m\u001b[1;33m)\u001b[0m\u001b[1;33m\u001b[0m\u001b[1;33m\u001b[0m\u001b[0m\n\u001b[0m\u001b[0;32m   5699\u001b[0m             \u001b[1;32mreturn\u001b[0m \u001b[0mself\u001b[0m\u001b[1;33m.\u001b[0m\u001b[0m_constructor\u001b[0m\u001b[1;33m(\u001b[0m\u001b[0mnew_data\u001b[0m\u001b[1;33m)\u001b[0m\u001b[1;33m.\u001b[0m\u001b[0m__finalize__\u001b[0m\u001b[1;33m(\u001b[0m\u001b[0mself\u001b[0m\u001b[1;33m)\u001b[0m\u001b[1;33m\u001b[0m\u001b[1;33m\u001b[0m\u001b[0m\n\u001b[0;32m   5700\u001b[0m \u001b[1;33m\u001b[0m\u001b[0m\n",
      "\u001b[1;32m~\\Anaconda3\\envs\\fastai-cpu-v0.7\\lib\\site-packages\\pandas\\core\\internals\\managers.py\u001b[0m in \u001b[0;36mastype\u001b[1;34m(self, dtype, copy, errors)\u001b[0m\n\u001b[0;32m    580\u001b[0m \u001b[1;33m\u001b[0m\u001b[0m\n\u001b[0;32m    581\u001b[0m     \u001b[1;32mdef\u001b[0m \u001b[0mastype\u001b[0m\u001b[1;33m(\u001b[0m\u001b[0mself\u001b[0m\u001b[1;33m,\u001b[0m \u001b[0mdtype\u001b[0m\u001b[1;33m,\u001b[0m \u001b[0mcopy\u001b[0m\u001b[1;33m:\u001b[0m \u001b[0mbool\u001b[0m \u001b[1;33m=\u001b[0m \u001b[1;32mFalse\u001b[0m\u001b[1;33m,\u001b[0m \u001b[0merrors\u001b[0m\u001b[1;33m:\u001b[0m \u001b[0mstr\u001b[0m \u001b[1;33m=\u001b[0m \u001b[1;34m\"raise\"\u001b[0m\u001b[1;33m)\u001b[0m\u001b[1;33m:\u001b[0m\u001b[1;33m\u001b[0m\u001b[1;33m\u001b[0m\u001b[0m\n\u001b[1;32m--> 582\u001b[1;33m         \u001b[1;32mreturn\u001b[0m \u001b[0mself\u001b[0m\u001b[1;33m.\u001b[0m\u001b[0mapply\u001b[0m\u001b[1;33m(\u001b[0m\u001b[1;34m\"astype\"\u001b[0m\u001b[1;33m,\u001b[0m \u001b[0mdtype\u001b[0m\u001b[1;33m=\u001b[0m\u001b[0mdtype\u001b[0m\u001b[1;33m,\u001b[0m \u001b[0mcopy\u001b[0m\u001b[1;33m=\u001b[0m\u001b[0mcopy\u001b[0m\u001b[1;33m,\u001b[0m \u001b[0merrors\u001b[0m\u001b[1;33m=\u001b[0m\u001b[0merrors\u001b[0m\u001b[1;33m)\u001b[0m\u001b[1;33m\u001b[0m\u001b[1;33m\u001b[0m\u001b[0m\n\u001b[0m\u001b[0;32m    583\u001b[0m \u001b[1;33m\u001b[0m\u001b[0m\n\u001b[0;32m    584\u001b[0m     \u001b[1;32mdef\u001b[0m \u001b[0mconvert\u001b[0m\u001b[1;33m(\u001b[0m\u001b[0mself\u001b[0m\u001b[1;33m,\u001b[0m \u001b[1;33m**\u001b[0m\u001b[0mkwargs\u001b[0m\u001b[1;33m)\u001b[0m\u001b[1;33m:\u001b[0m\u001b[1;33m\u001b[0m\u001b[1;33m\u001b[0m\u001b[0m\n",
      "\u001b[1;32m~\\Anaconda3\\envs\\fastai-cpu-v0.7\\lib\\site-packages\\pandas\\core\\internals\\managers.py\u001b[0m in \u001b[0;36mapply\u001b[1;34m(self, f, filter, **kwargs)\u001b[0m\n\u001b[0;32m    440\u001b[0m                 \u001b[0mapplied\u001b[0m \u001b[1;33m=\u001b[0m \u001b[0mb\u001b[0m\u001b[1;33m.\u001b[0m\u001b[0mapply\u001b[0m\u001b[1;33m(\u001b[0m\u001b[0mf\u001b[0m\u001b[1;33m,\u001b[0m \u001b[1;33m**\u001b[0m\u001b[0mkwargs\u001b[0m\u001b[1;33m)\u001b[0m\u001b[1;33m\u001b[0m\u001b[1;33m\u001b[0m\u001b[0m\n\u001b[0;32m    441\u001b[0m             \u001b[1;32melse\u001b[0m\u001b[1;33m:\u001b[0m\u001b[1;33m\u001b[0m\u001b[1;33m\u001b[0m\u001b[0m\n\u001b[1;32m--> 442\u001b[1;33m                 \u001b[0mapplied\u001b[0m \u001b[1;33m=\u001b[0m \u001b[0mgetattr\u001b[0m\u001b[1;33m(\u001b[0m\u001b[0mb\u001b[0m\u001b[1;33m,\u001b[0m \u001b[0mf\u001b[0m\u001b[1;33m)\u001b[0m\u001b[1;33m(\u001b[0m\u001b[1;33m**\u001b[0m\u001b[0mkwargs\u001b[0m\u001b[1;33m)\u001b[0m\u001b[1;33m\u001b[0m\u001b[1;33m\u001b[0m\u001b[0m\n\u001b[0m\u001b[0;32m    443\u001b[0m             \u001b[0mresult_blocks\u001b[0m \u001b[1;33m=\u001b[0m \u001b[0m_extend_blocks\u001b[0m\u001b[1;33m(\u001b[0m\u001b[0mapplied\u001b[0m\u001b[1;33m,\u001b[0m \u001b[0mresult_blocks\u001b[0m\u001b[1;33m)\u001b[0m\u001b[1;33m\u001b[0m\u001b[1;33m\u001b[0m\u001b[0m\n\u001b[0;32m    444\u001b[0m \u001b[1;33m\u001b[0m\u001b[0m\n",
      "\u001b[1;32m~\\Anaconda3\\envs\\fastai-cpu-v0.7\\lib\\site-packages\\pandas\\core\\internals\\blocks.py\u001b[0m in \u001b[0;36mastype\u001b[1;34m(self, dtype, copy, errors)\u001b[0m\n\u001b[0;32m   2213\u001b[0m \u001b[1;33m\u001b[0m\u001b[0m\n\u001b[0;32m   2214\u001b[0m         \u001b[1;31m# delegate\u001b[0m\u001b[1;33m\u001b[0m\u001b[1;33m\u001b[0m\u001b[1;33m\u001b[0m\u001b[0m\n\u001b[1;32m-> 2215\u001b[1;33m         \u001b[1;32mreturn\u001b[0m \u001b[0msuper\u001b[0m\u001b[1;33m(\u001b[0m\u001b[1;33m)\u001b[0m\u001b[1;33m.\u001b[0m\u001b[0mastype\u001b[0m\u001b[1;33m(\u001b[0m\u001b[0mdtype\u001b[0m\u001b[1;33m=\u001b[0m\u001b[0mdtype\u001b[0m\u001b[1;33m,\u001b[0m \u001b[0mcopy\u001b[0m\u001b[1;33m=\u001b[0m\u001b[0mcopy\u001b[0m\u001b[1;33m,\u001b[0m \u001b[0merrors\u001b[0m\u001b[1;33m=\u001b[0m\u001b[0merrors\u001b[0m\u001b[1;33m)\u001b[0m\u001b[1;33m\u001b[0m\u001b[1;33m\u001b[0m\u001b[0m\n\u001b[0m\u001b[0;32m   2216\u001b[0m \u001b[1;33m\u001b[0m\u001b[0m\n\u001b[0;32m   2217\u001b[0m     \u001b[1;32mdef\u001b[0m \u001b[0m_can_hold_element\u001b[0m\u001b[1;33m(\u001b[0m\u001b[0mself\u001b[0m\u001b[1;33m,\u001b[0m \u001b[0melement\u001b[0m\u001b[1;33m:\u001b[0m \u001b[0mAny\u001b[0m\u001b[1;33m)\u001b[0m \u001b[1;33m->\u001b[0m \u001b[0mbool\u001b[0m\u001b[1;33m:\u001b[0m\u001b[1;33m\u001b[0m\u001b[1;33m\u001b[0m\u001b[0m\n",
      "\u001b[1;32m~\\Anaconda3\\envs\\fastai-cpu-v0.7\\lib\\site-packages\\pandas\\core\\internals\\blocks.py\u001b[0m in \u001b[0;36mastype\u001b[1;34m(self, dtype, copy, errors)\u001b[0m\n\u001b[0;32m    623\u001b[0m             \u001b[0mvals1d\u001b[0m \u001b[1;33m=\u001b[0m \u001b[0mvalues\u001b[0m\u001b[1;33m.\u001b[0m\u001b[0mravel\u001b[0m\u001b[1;33m(\u001b[0m\u001b[1;33m)\u001b[0m\u001b[1;33m\u001b[0m\u001b[1;33m\u001b[0m\u001b[0m\n\u001b[0;32m    624\u001b[0m             \u001b[1;32mtry\u001b[0m\u001b[1;33m:\u001b[0m\u001b[1;33m\u001b[0m\u001b[1;33m\u001b[0m\u001b[0m\n\u001b[1;32m--> 625\u001b[1;33m                 \u001b[0mvalues\u001b[0m \u001b[1;33m=\u001b[0m \u001b[0mastype_nansafe\u001b[0m\u001b[1;33m(\u001b[0m\u001b[0mvals1d\u001b[0m\u001b[1;33m,\u001b[0m \u001b[0mdtype\u001b[0m\u001b[1;33m,\u001b[0m \u001b[0mcopy\u001b[0m\u001b[1;33m=\u001b[0m\u001b[1;32mTrue\u001b[0m\u001b[1;33m)\u001b[0m\u001b[1;33m\u001b[0m\u001b[1;33m\u001b[0m\u001b[0m\n\u001b[0m\u001b[0;32m    626\u001b[0m             \u001b[1;32mexcept\u001b[0m \u001b[1;33m(\u001b[0m\u001b[0mValueError\u001b[0m\u001b[1;33m,\u001b[0m \u001b[0mTypeError\u001b[0m\u001b[1;33m)\u001b[0m\u001b[1;33m:\u001b[0m\u001b[1;33m\u001b[0m\u001b[1;33m\u001b[0m\u001b[0m\n\u001b[0;32m    627\u001b[0m                 \u001b[1;31m# e.g. astype_nansafe can fail on object-dtype of strings\u001b[0m\u001b[1;33m\u001b[0m\u001b[1;33m\u001b[0m\u001b[1;33m\u001b[0m\u001b[0m\n",
      "\u001b[1;32m~\\Anaconda3\\envs\\fastai-cpu-v0.7\\lib\\site-packages\\pandas\\core\\dtypes\\cast.py\u001b[0m in \u001b[0;36mastype_nansafe\u001b[1;34m(arr, dtype, copy, skipna)\u001b[0m\n\u001b[0;32m    832\u001b[0m         \u001b[1;32melif\u001b[0m \u001b[0mdtype\u001b[0m \u001b[1;33m==\u001b[0m \u001b[0mnp\u001b[0m\u001b[1;33m.\u001b[0m\u001b[0mint64\u001b[0m\u001b[1;33m:\u001b[0m\u001b[1;33m\u001b[0m\u001b[1;33m\u001b[0m\u001b[0m\n\u001b[0;32m    833\u001b[0m             \u001b[1;32mif\u001b[0m \u001b[0misna\u001b[0m\u001b[1;33m(\u001b[0m\u001b[0marr\u001b[0m\u001b[1;33m)\u001b[0m\u001b[1;33m.\u001b[0m\u001b[0many\u001b[0m\u001b[1;33m(\u001b[0m\u001b[1;33m)\u001b[0m\u001b[1;33m:\u001b[0m\u001b[1;33m\u001b[0m\u001b[1;33m\u001b[0m\u001b[0m\n\u001b[1;32m--> 834\u001b[1;33m                 \u001b[1;32mraise\u001b[0m \u001b[0mValueError\u001b[0m\u001b[1;33m(\u001b[0m\u001b[1;34m\"Cannot convert NaT values to integer\"\u001b[0m\u001b[1;33m)\u001b[0m\u001b[1;33m\u001b[0m\u001b[1;33m\u001b[0m\u001b[0m\n\u001b[0m\u001b[0;32m    835\u001b[0m             \u001b[1;32mreturn\u001b[0m \u001b[0marr\u001b[0m\u001b[1;33m.\u001b[0m\u001b[0mview\u001b[0m\u001b[1;33m(\u001b[0m\u001b[0mdtype\u001b[0m\u001b[1;33m)\u001b[0m\u001b[1;33m\u001b[0m\u001b[1;33m\u001b[0m\u001b[0m\n\u001b[0;32m    836\u001b[0m \u001b[1;33m\u001b[0m\u001b[0m\n",
      "\u001b[1;31mValueError\u001b[0m: Cannot convert NaT values to integer"
     ]
    }
   ],
   "source": [
    "add_datepart(df_raw, 'host_since', drop=False )"
   ]
  },
  {
   "cell_type": "code",
   "execution_count": 85,
   "metadata": {
    "hidden": true
   },
   "outputs": [],
   "source": [
    "df_raw = df_raw.drop(['host_since','first_review','last_review'], axis=1)"
   ]
  },
  {
   "cell_type": "markdown",
   "metadata": {
    "hidden": true
   },
   "source": [
    "We can observe that the splits into the different date columns has worked for all our three date variables"
   ]
  },
  {
   "cell_type": "code",
   "execution_count": 86,
   "metadata": {
    "hidden": true
   },
   "outputs": [
    {
     "name": "stdout",
     "output_type": "stream",
     "text": [
      "<class 'pandas.core.frame.DataFrame'>\n",
      "RangeIndex: 74111 entries, 0 to 74110\n",
      "Columns: 108 entries, id to host_sinceIs_year_start\n",
      "dtypes: bool(69), float64(25), int64(3), object(11)\n",
      "memory usage: 26.9+ MB\n"
     ]
    }
   ],
   "source": [
    "df_raw.info()"
   ]
  },
  {
   "cell_type": "markdown",
   "metadata": {
    "hidden": true
   },
   "source": [
    "Now we have 108 columns including the different date columns."
   ]
  },
  {
   "cell_type": "code",
   "execution_count": 87,
   "metadata": {
    "hidden": true
   },
   "outputs": [
    {
     "data": {
      "text/plain": [
       "Index(['id', 'log_price', 'property_type', 'room_type', 'accommodates',\n",
       "       'bathrooms', 'bed_type', 'cancellation_policy', 'cleaning_fee', 'city',\n",
       "       ...\n",
       "       'host_sinceWeek', 'host_sinceDay', 'host_sinceDayofweek',\n",
       "       'host_sinceDayofyear', 'host_sinceIs_month_end',\n",
       "       'host_sinceIs_month_start', 'host_sinceIs_quarter_end',\n",
       "       'host_sinceIs_quarter_start', 'host_sinceIs_year_end',\n",
       "       'host_sinceIs_year_start'],\n",
       "      dtype='object', length=108)"
      ]
     },
     "execution_count": 87,
     "metadata": {},
     "output_type": "execute_result"
    }
   ],
   "source": [
    "df_raw.columns"
   ]
  },
  {
   "cell_type": "markdown",
   "metadata": {
    "hidden": true
   },
   "source": [
    "Now we can go ahead and use the train_cats function to categorize our different object variables"
   ]
  },
  {
   "cell_type": "code",
   "execution_count": 88,
   "metadata": {
    "hidden": true
   },
   "outputs": [],
   "source": [
    "train_cats(df_raw)"
   ]
  },
  {
   "cell_type": "code",
   "execution_count": 89,
   "metadata": {
    "hidden": true,
    "scrolled": true
   },
   "outputs": [
    {
     "data": {
      "text/plain": [
       "Index(['Boston', 'Chicago', 'DC', 'LA', 'NYC', 'SF'], dtype='object')"
      ]
     },
     "execution_count": 89,
     "metadata": {},
     "output_type": "execute_result"
    }
   ],
   "source": [
    "df_raw.city.cat.categories"
   ]
  },
  {
   "cell_type": "markdown",
   "metadata": {
    "hidden": true
   },
   "source": [
    "A first look shows us that accomodations from 6 large American cities have been used. Thus, we can already assume that the city column will not have a major impact as the prices will not vary greatly between these cities. The effect would have been a lot greater if the data would include smaller cities and cities from different countries with different purchasing powers.'zipcode' and 'neighbourhood' will probably be more promising as they have the ability to discriminate between the wealthy and poor parts of the cities."
   ]
  },
  {
   "cell_type": "code",
   "execution_count": 90,
   "metadata": {
    "hidden": true,
    "scrolled": true
   },
   "outputs": [
    {
     "data": {
      "text/plain": [
       "Index(['flexible', 'moderate', 'strict', 'super_strict_30', 'super_strict_60'], dtype='object')"
      ]
     },
     "execution_count": 90,
     "metadata": {},
     "output_type": "execute_result"
    }
   ],
   "source": [
    "df_raw.cancellation_policy.cat.categories\n",
    "#only ordinal feature. The attributes are already in a senseful order and don't need to be reordered"
   ]
  },
  {
   "cell_type": "code",
   "execution_count": 91,
   "metadata": {
    "hidden": true
   },
   "outputs": [],
   "source": [
    "os.makedirs('tmp', exist_ok=True)\n",
    "df_raw.to_feather('tmp/airbnb-raw')"
   ]
  },
  {
   "cell_type": "markdown",
   "metadata": {},
   "source": [
    "# Random Forests"
   ]
  },
  {
   "cell_type": "markdown",
   "metadata": {},
   "source": [
    "As a last step before we can check our RandomForestRegressor, we now have to use the proc_df function to handle missing data  (the median will be applied) and numericalize our categorical data."
   ]
  },
  {
   "cell_type": "code",
   "execution_count": 92,
   "metadata": {},
   "outputs": [],
   "source": [
    "PATH = \"data/airbnb/\"\n",
    "\n",
    "df_raw = pd.read_feather('tmp/airbnb-raw')"
   ]
  },
  {
   "cell_type": "code",
   "execution_count": 93,
   "metadata": {},
   "outputs": [],
   "source": [
    "df, y, nas = proc_df(df_raw, 'log_price')"
   ]
  },
  {
   "cell_type": "code",
   "execution_count": 94,
   "metadata": {
    "scrolled": true
   },
   "outputs": [
    {
     "name": "stdout",
     "output_type": "stream",
     "text": [
      "<class 'pandas.core.frame.DataFrame'>\n",
      "RangeIndex: 74111 entries, 0 to 74110\n",
      "Columns: 129 entries, id to host_sinceDayofyear_na\n",
      "dtypes: bool(91), float64(24), int16(2), int32(3), int64(3), int8(6)\n",
      "memory usage: 23.3 MB\n"
     ]
    }
   ],
   "source": [
    "df.info()"
   ]
  },
  {
   "cell_type": "code",
   "execution_count": 95,
   "metadata": {},
   "outputs": [
    {
     "data": {
      "text/plain": [
       "0.9590110628545433"
      ]
     },
     "execution_count": 95,
     "metadata": {},
     "output_type": "execute_result"
    }
   ],
   "source": [
    "m = RandomForestRegressor(n_jobs=-1)\n",
    "m.fit(df, y)\n",
    "m.score(df,y)"
   ]
  },
  {
   "cell_type": "markdown",
   "metadata": {},
   "source": [
    "The first r2 score (~0.96) is very good.Lets split our data into a training and validation set to get a feeling how well our first model generalizes. Such good r2 scores can also be an indicator of overfitting. We also split a third part of the data into a test set as there is no seperate test set available for this data as this e.g. would be the case in Kaggle competitions. We are going to use this test set to check our model at the very end to ensure that it still generalizes properly and we didn't overfit it towards our validation set. "
   ]
  },
  {
   "cell_type": "code",
   "execution_count": 96,
   "metadata": {},
   "outputs": [
    {
     "data": {
      "text/plain": [
       "((54111, 129), (54111,), (10000, 129), (10000, 129))"
      ]
     },
     "execution_count": 96,
     "metadata": {},
     "output_type": "execute_result"
    }
   ],
   "source": [
    "def split_vals(a,n,m): return a[:n].copy(), a[n:m].copy(), a[m:].copy()\n",
    "\n",
    "n_valid = 10000\n",
    "n_test = 10000\n",
    "n_trn = len(df)-n_valid-n_test\n",
    "n_final = len(df)-n_valid\n",
    "raw_train, raw_valid, raw_test = split_vals(df_raw, n_trn, n_final)\n",
    "X_train, X_valid, X_test = split_vals(df, n_trn, n_final)\n",
    "y_train, y_valid, y_test = split_vals(y, n_trn, n_final)\n",
    "\n",
    "X_train.shape, y_train.shape, X_valid.shape, X_test.shape"
   ]
  },
  {
   "cell_type": "markdown",
   "metadata": {},
   "source": [
    "I am going to use the root mean square error (RMSE) of our log_price as indicator next to our r2 just like in the Kaggle competition Blue Book for Bulldozers (https://www.kaggle.com/c/bluebook-for-bulldozers/overview/evaluation) and many other Kaggle competitions as this is a good indicator to asses the fit of our model since it calculates how spread out the residuals in our model are.  "
   ]
  },
  {
   "cell_type": "code",
   "execution_count": 97,
   "metadata": {},
   "outputs": [],
   "source": [
    "def rmse(x,y): return math.sqrt(((x-y)**2).mean())\n",
    "\n",
    "def print_score(m):\n",
    "    res = [rmse(m.predict(X_train), y_train), rmse(m.predict(X_valid), y_valid),\n",
    "                m.score(X_train, y_train), m.score(X_valid, y_valid)]\n",
    "    if hasattr(m, 'oob_score_'): res.append(m.oob_score_)\n",
    "    print(res)"
   ]
  },
  {
   "cell_type": "code",
   "execution_count": 98,
   "metadata": {},
   "outputs": [
    {
     "name": "stdout",
     "output_type": "stream",
     "text": [
      "Wall time: 1min 38s\n",
      "[0.14602476041718107, 0.3887240558438266, 0.9584981433101157, 0.703995588980072, 0.698491605037372]\n"
     ]
    }
   ],
   "source": [
    "m = RandomForestRegressor(n_jobs=-1, oob_score = True)\n",
    "%time m.fit(X_train, y_train)\n",
    "print_score(m)"
   ]
  },
  {
   "cell_type": "markdown",
   "metadata": {},
   "source": [
    "A first check of our training set against our validation set shows that our model indeed overfits quite badly. The r2 (~0.7) and the RMSE (~0.39) of our validation set are a lot worse. However, we can recognize positively that our oob_score is very similar to the score of our validation set. This means that it is rather unlikely that our model doesn't take an imporant temporal development into consideration. This is as expected since our data is not ordered after 1 of our 3 date variables 'host_since','last_review','first_review'. This is fine as they can be seen as quality indicators. However, we can assume that there is a temporal development in host_since since those who have been hosts for a longer time just had more time to accumulate reviews and improve the conditions, processes etc. for their guests.\n",
    "\n",
    "The model takes more than one minute to load so lets create a subset and use a smaller amount of trees/estimators and see how we can improve the quality of our model through the use of parameters in our RandomForestRegressor."
   ]
  },
  {
   "cell_type": "code",
   "execution_count": 99,
   "metadata": {},
   "outputs": [],
   "source": [
    "df_trn, y_trn, nas = proc_df(df_raw, 'log_price', subset=30000, na_dict=nas)\n",
    "X_train, _, _ = split_vals(df_trn, 20000, 0)\n",
    "y_train, _, _ = split_vals(y_trn, 20000, 0)"
   ]
  },
  {
   "cell_type": "markdown",
   "metadata": {
    "heading_collapsed": true
   },
   "source": [
    "## Reducing over-fitting"
   ]
  },
  {
   "cell_type": "code",
   "execution_count": 100,
   "metadata": {
    "hidden": true
   },
   "outputs": [
    {
     "name": "stdout",
     "output_type": "stream",
     "text": [
      "Wall time: 16.3 s\n",
      "[0.15179943817665742, 0.40534921698924936, 0.954329346162405, 0.6781347988209656, 0.6685115239241542]\n"
     ]
    }
   ],
   "source": [
    "m = RandomForestRegressor(n_estimators = 50, n_jobs=-1, oob_score=True)\n",
    "%time m.fit(X_train, y_train)\n",
    "print_score(m)\n",
    "#runs a lot faster now"
   ]
  },
  {
   "cell_type": "markdown",
   "metadata": {
    "heading_collapsed": true,
    "hidden": true
   },
   "source": [
    "### min_samples_leaf"
   ]
  },
  {
   "cell_type": "markdown",
   "metadata": {
    "hidden": true
   },
   "source": [
    "The first parameter we take a closer look at is min_samples_leaf. This parameter regulates the depth of the tree. Thus by setting a number we can define how many splits each tree makes. The default setting is that each tree splits until the leaf nodes have a sample size of 1. By setting min_samples_leaf e.g. to 2 we stop 1 split earlier and so on. "
   ]
  },
  {
   "cell_type": "code",
   "execution_count": 101,
   "metadata": {
    "hidden": true
   },
   "outputs": [
    {
     "name": "stdout",
     "output_type": "stream",
     "text": [
      "Wall time: 12.9 s\n",
      "[0.20510508900951407, 0.40499845627269226, 0.9166223264647991, 0.6786915968460645, 0.67157328274559]\n"
     ]
    }
   ],
   "source": [
    "m = RandomForestRegressor(n_estimators = 50, min_samples_leaf = 3, n_jobs=-1, oob_score=True)\n",
    "%time m.fit(X_train, y_train)\n",
    "print_score(m)"
   ]
  },
  {
   "cell_type": "code",
   "execution_count": 104,
   "metadata": {
    "hidden": true
   },
   "outputs": [
    {
     "name": "stdout",
     "output_type": "stream",
     "text": [
      "Wall time: 11.7 s\n",
      "[0.24990738037413432, 0.4034303311477607, 0.8762186927498152, 0.6811749462661845, 0.6753950696559752]\n"
     ]
    }
   ],
   "source": [
    "m = RandomForestRegressor(n_estimators = 50, min_samples_leaf = 5, n_jobs=-1, oob_score=True)\n",
    "%time m.fit(X_train, y_train)\n",
    "print_score(m)"
   ]
  },
  {
   "cell_type": "code",
   "execution_count": 105,
   "metadata": {
    "hidden": true
   },
   "outputs": [
    {
     "name": "stdout",
     "output_type": "stream",
     "text": [
      "Wall time: 12 s\n",
      "[0.30944339784221164, 0.40634389781720137, 0.810216110418673, 0.6765532195749913, 0.6727381737305886]\n"
     ]
    }
   ],
   "source": [
    "m = RandomForestRegressor(n_estimators = 50, min_samples_leaf = 10, n_jobs=-1, oob_score=True)\n",
    "%time m.fit(X_train, y_train)\n",
    "print_score(m)"
   ]
  },
  {
   "cell_type": "markdown",
   "metadata": {
    "hidden": true
   },
   "source": [
    "We can observe that we keep improving the model by reducing the number of splits until min_samples_leaf = 5 which is a little better than min_samples_leaf = 3. Thus we set this parameter to min_samples_leaf = 5. We can also observe that this greatly reduces the quality of our model for our training set. Thus, this step helps us to improve the generalization quality of our model. "
   ]
  },
  {
   "cell_type": "markdown",
   "metadata": {
    "heading_collapsed": true,
    "hidden": true
   },
   "source": [
    "### max_features"
   ]
  },
  {
   "cell_type": "markdown",
   "metadata": {
    "hidden": true
   },
   "source": [
    "The next step is to set our max_features parameter. This parameter defines the number variables which are considered at each split in each tree in our model. The default sets this to 1 to always include all variables. However, this can reduce the quality of our model whenever we have strong variables which get chosen all the time since they help to improve the prediction since this leads to a great similarity among the trees. We want to decrease the similarity of the trees to get a model which takes all the different information parts from the data into consideration and does a better job in predicting."
   ]
  },
  {
   "cell_type": "code",
   "execution_count": 106,
   "metadata": {
    "hidden": true
   },
   "outputs": [
    {
     "name": "stdout",
     "output_type": "stream",
     "text": [
      "Wall time: 1.66 s\n",
      "[0.35645917298550905, 0.4471585152534937, 0.74816476635238, 0.6083137202780786, 0.5976199393878043]\n"
     ]
    }
   ],
   "source": [
    "m = RandomForestRegressor(n_estimators=50, min_samples_leaf=5, max_features='log2', n_jobs=-1, oob_score=True)\n",
    "%time m.fit(X_train, y_train)\n",
    "print_score(m)"
   ]
  },
  {
   "cell_type": "code",
   "execution_count": 107,
   "metadata": {
    "hidden": true
   },
   "outputs": [
    {
     "name": "stdout",
     "output_type": "stream",
     "text": [
      "Wall time: 1.85 s\n",
      "[0.323173456504927, 0.4280566449776645, 0.7930009905162727, 0.6410633256576213, 0.6329458780857287]\n"
     ]
    }
   ],
   "source": [
    "m = RandomForestRegressor(n_estimators=50, min_samples_leaf=5, max_features='sqrt', n_jobs=-1, oob_score=True)\n",
    "%time m.fit(X_train, y_train)\n",
    "print_score(m)"
   ]
  },
  {
   "cell_type": "code",
   "execution_count": 108,
   "metadata": {
    "hidden": true
   },
   "outputs": [
    {
     "name": "stdout",
     "output_type": "stream",
     "text": [
      "Wall time: 6.48 s\n",
      "[0.25932830377021826, 0.4019424507294918, 0.8667102542467383, 0.6835223096429695, 0.6782537323484372]\n"
     ]
    }
   ],
   "source": [
    "m = RandomForestRegressor(n_estimators=50, min_samples_leaf=5, max_features=0.5, n_jobs=-1, oob_score=True)\n",
    "%time m.fit(X_train, y_train)\n",
    "print_score(m)"
   ]
  },
  {
   "cell_type": "markdown",
   "metadata": {
    "hidden": true
   },
   "source": [
    "Although the 'sqrt' and the 'log2' are known to do a good job to define a desirable number of features the decrease the quality of the model. Though, since the 'sqrt' is known to improve it's prediction quality when the number of trees used in the model increases, we check one more time with a large number of estimators."
   ]
  },
  {
   "cell_type": "code",
   "execution_count": 109,
   "metadata": {
    "hidden": true
   },
   "outputs": [
    {
     "name": "stdout",
     "output_type": "stream",
     "text": [
      "Wall time: 16.4 s\n",
      "[0.31944080193278135, 0.423847714005112, 0.7977550549055485, 0.6480872203525209, 0.6473638238314199]\n"
     ]
    }
   ],
   "source": [
    "m = RandomForestRegressor(n_estimators=500, min_samples_leaf=5, max_features='sqrt', n_jobs=-1, oob_score=True)\n",
    "%time m.fit(X_train, y_train)\n",
    "print_score(m)"
   ]
  },
  {
   "cell_type": "markdown",
   "metadata": {
    "hidden": true
   },
   "source": [
    "This does not seem to be the case here as, altough the quality of our model does increase this is probably mainly due to the increase in the number of estimators. The model is still worse in comparison to max_features = 0.5. Thus, we will proceed with max_features = 0.5.\n",
    "\n",
    "Now, after we've set the parameters lets get back to using the whole model before we take a closer look at the different features."
   ]
  },
  {
   "cell_type": "markdown",
   "metadata": {
    "heading_collapsed": true,
    "hidden": true
   },
   "source": [
    "### n_estimators"
   ]
  },
  {
   "cell_type": "code",
   "execution_count": 110,
   "metadata": {
    "hidden": true,
    "scrolled": true
   },
   "outputs": [
    {
     "data": {
      "text/plain": [
       "(array([4.90893, 4.6171 , 4.63759, 5.68046, 5.10105, 5.29169, 5.21017, 4.72469, 4.72753, 5.27864, 5.17532,\n",
       "        5.70551, 4.66534, 4.99167, 5.12141, 5.08138, 5.23617, 5.62459, 5.46678, 5.40356, 5.21669, 4.9747 ,\n",
       "        5.12204, 5.24769, 4.86293, 5.04355, 4.81689, 5.06671, 4.62206, 4.93881, 6.0705 , 4.72266, 5.05332,\n",
       "        4.89396, 5.14466, 5.5783 , 5.34651, 5.18956, 5.09307, 4.73927, 5.78203, 5.00522, 5.87571, 4.69684,\n",
       "        5.49241, 5.35292, 5.31739, 4.89036, 5.36543, 5.31476, 4.85416, 4.83309, 5.40794, 5.86184, 5.2406 ,\n",
       "        6.02887, 5.72407, 4.75625, 4.6972 , 5.31919, 4.98585, 4.51773, 5.63396, 4.8798 , 5.25182, 5.52887,\n",
       "        5.01694, 4.88099, 5.33465, 5.84033, 4.98989, 5.18615, 5.39052, 5.35664, 4.90976, 5.2282 , 5.19855,\n",
       "        5.34768, 4.93756, 5.33419, 4.96712, 5.27963, 5.30321, 5.33187, 5.51818, 5.47345, 4.44107, 4.87188,\n",
       "        5.36297, 5.06165, 5.06781, 5.03507, 5.3342 , 5.37261, 5.36619, 5.10498, 5.3204 , 5.53134, 4.46466,\n",
       "        5.50019, 5.47336, 5.47769, 4.77826, 5.34637, 5.21466, 5.07513, 5.53077, 5.22961, 5.78177, 5.20046,\n",
       "        5.15278, 5.67822, 5.31012, 5.60698, 5.42434, 4.76651, 5.38035, 5.0011 , 4.71377, 4.67687, 4.71445,\n",
       "        5.15838, 5.16724, 4.6522 , 5.13019, 4.60732, 4.89261, 5.43134, 5.19463, 5.39806, 5.43883, 5.10644,\n",
       "        5.24775, 5.56815, 5.63324, 5.35498, 5.27041, 5.23449, 4.63275, 5.84606, 4.69034, 5.05822, 5.1963 ,\n",
       "        5.377  , 5.06493, 4.83045, 4.82426, 4.95498, 4.90863, 5.00239, 5.59915, 5.42037, 5.69614, 4.87006,\n",
       "        4.53663, 4.63137, 5.00768, 5.03115, 4.92385, 4.42029, 5.66733, 5.09743, 5.10141, 4.07675, 5.23744,\n",
       "        5.28248, 4.9422 , 5.46073, 5.60481, 4.70016, 5.31226, 5.15725, 4.8489 , 5.21773, 4.82852, 4.99524,\n",
       "        5.49917, 4.99414, 4.59039, 5.50588, 4.61584, 5.5931 , 5.57794, 4.8593 , 4.83212, 4.90272, 4.81229,\n",
       "        4.8263 , 5.26163, 5.18854, 4.62897, 4.51274, 4.75355, 6.00949, 4.89439, 4.90248, 4.92024, 5.50049,\n",
       "        5.23604, 4.94832, 4.98655, 5.17902, 5.16841, 5.33157, 4.69232, 4.76543, 4.80888, 4.70893, 4.86042,\n",
       "        4.4067 , 4.86434, 5.3817 , 4.7245 , 5.29665, 4.65339, 5.22454, 4.87493, 6.15726, 4.49034, 4.88259,\n",
       "        5.25215, 5.27372, 4.62744, 4.36988, 5.45321, 6.26959, 5.29975, 5.1402 , 4.81635, 5.12695, 4.69473,\n",
       "        4.83855, 4.66614, 5.01269, 4.6863 , 5.36702, 5.07931, 4.45051, 4.95592, 4.41517, 5.40046, 5.53712,\n",
       "        5.14684, 4.59072, 5.48161, 5.00805, 5.18872, 5.16901, 5.07435, 4.89789, 5.39756, 5.53646, 5.06291,\n",
       "        5.45776, 4.33535, 5.68384, 5.34111, 5.15752, 4.74798, 5.00251, 4.58653, 4.60572, 5.03876, 5.11857,\n",
       "        4.95118, 4.84907, 5.32896, 5.03384, 5.34869, 5.60759, 6.05281, 4.91099, 5.45718, 5.22352, 5.56918,\n",
       "        5.33126, 5.09954, 5.32498, 4.79114, 4.99122, 5.2037 , 5.36517, 5.17432, 5.39771, 5.00552, 5.0286 ,\n",
       "        5.16341, 4.61936, 5.67132, 4.9849 , 5.09397, 4.93239, 4.97255, 4.40702, 4.64789, 5.39403, 4.67273,\n",
       "        5.00379, 5.24521, 4.47061, 4.77054, 5.83509, 4.80722, 4.96619, 4.95312, 5.05581, 5.09115, 5.09079,\n",
       "        5.48767, 4.95761, 4.79195, 5.1919 , 5.52318, 4.96247, 5.44727, 5.08853, 5.30434, 4.69912, 4.93844,\n",
       "        5.25768, 5.24594, 5.18191, 4.92019, 5.45767, 5.58737, 5.34091, 5.5668 , 5.15337, 5.52785, 5.24549,\n",
       "        4.99052, 4.98839, 4.96901, 4.53433, 5.18109, 5.22239, 4.80633, 5.24655, 5.38782, 4.93614, 5.1816 ,\n",
       "        5.41849, 5.1956 , 4.82805, 5.18946, 5.53014, 5.03396, 4.80387, 4.93043, 5.11366, 4.82294, 5.01333,\n",
       "        4.35756, 4.64937, 5.19627, 5.35263, 5.34622, 4.61922, 4.76803, 5.10633, 4.80267, 5.33514, 4.72373,\n",
       "        4.73179, 5.66105, 4.96753, 5.08199, 5.65492, 5.54676, 5.05807, 5.10893, 5.58931, 5.25846, 5.03851,\n",
       "        5.47711, 4.8521 , 5.18702, 4.82284, 5.41619, 5.36151, 4.79488, 4.75167, 5.16836, 5.17504, 5.2653 ,\n",
       "        4.67118, 5.05398, 5.21567, 5.33923, 5.3981 , 5.12543, 5.39717, 5.01111, 5.28748, 4.32949, 5.16316,\n",
       "        5.42963, 4.933  , 4.95437, 5.38466, 5.17622, 4.94391, 5.14738, 5.24641, 5.15924, 5.54246, 5.26431,\n",
       "        5.33039, 5.14038, 4.45972, 5.8199 , 4.24048, 5.27327, 4.77029, 5.43917, 5.61298, 6.14658, 5.59113,\n",
       "        4.66964, 4.77047, 5.55354, 4.61608, 5.18233, 5.58586, 4.64982, 5.59823, 4.6302 , 4.57547, 5.69568,\n",
       "        5.43546, 4.68131, 5.61581, 4.68852, 5.17334, 5.0397 , 4.82614, 5.40999, 5.2037 , 5.23041, 5.39149,\n",
       "        5.42438, 4.92254, 5.54932, 5.46996, 5.1754 , 5.03086, 4.93362, 5.16534, 5.31238, 5.09065, 4.42777,\n",
       "        4.5387 , 4.85845, 4.86102, 5.25442, 5.59251, 4.87611, 5.18792, 4.93472, 5.22237, 5.14863, 5.13522,\n",
       "        5.17695, 5.56202, 4.95996, 5.3072 , 5.50243, 4.95192, 4.98008, 5.08752, 4.83527, 4.93538, 4.9323 ,\n",
       "        5.81612, 5.62569, 4.98086, 5.19984, 5.14599, 5.28496, 5.17402, 4.73695, 5.18849, 5.48684, 5.29008,\n",
       "        4.95129, 5.4257 , 4.96535, 4.80657, 4.66253, 4.81055, 5.62633, 4.87502, 5.00554, 4.85681, 5.48519,\n",
       "        5.62864, 4.75375, 5.42543, 5.16739, 5.18887]),\n",
       " 5.1227638838505785,\n",
       " 4.787491742782046)"
      ]
     },
     "execution_count": 110,
     "metadata": {},
     "output_type": "execute_result"
    }
   ],
   "source": [
    "preds = np.stack([t.predict(X_valid) for t in m.estimators_])\n",
    "preds[:,0], np.mean(preds[:,0]), y_valid[0]"
   ]
  },
  {
   "cell_type": "code",
   "execution_count": 111,
   "metadata": {
    "hidden": true
   },
   "outputs": [
    {
     "data": {
      "text/plain": [
       "(500, 10000)"
      ]
     },
     "execution_count": 111,
     "metadata": {},
     "output_type": "execute_result"
    }
   ],
   "source": [
    "preds.shape"
   ]
  },
  {
   "cell_type": "code",
   "execution_count": 112,
   "metadata": {
    "hidden": true,
    "scrolled": false
   },
   "outputs": [
    {
     "data": {
      "image/png": "[encoded data removed]",
      "text/plain": [
       "<Figure size 432x288 with 1 Axes>"
      ]
     },
     "metadata": {
      "needs_background": "light"
     },
     "output_type": "display_data"
    }
   ],
   "source": [
    "plt.plot([metrics.r2_score(y_valid, np.mean(preds[:i+1], axis=0)) for i in range(100)]);"
   ]
  },
  {
   "cell_type": "markdown",
   "metadata": {
    "hidden": true
   },
   "source": [
    "The graphic suggest that it doesnt help significantly to add more than 50 trees. Thus, setting our n_estimators = 50 is sufficient to get a good model."
   ]
  },
  {
   "cell_type": "code",
   "execution_count": 113,
   "metadata": {
    "hidden": true
   },
   "outputs": [
    {
     "data": {
      "text/plain": [
       "((54111, 129), (54111,), (10000, 129), (10000, 129))"
      ]
     },
     "execution_count": 113,
     "metadata": {},
     "output_type": "execute_result"
    }
   ],
   "source": [
    "X_train, X_valid, X_test = split_vals(df, n_trn, n_final)\n",
    "y_train, y_valid, y_test = split_vals(y, n_trn, n_final)\n",
    "\n",
    "X_train.shape, y_train.shape, X_valid.shape, X_test.shape"
   ]
  },
  {
   "cell_type": "code",
   "execution_count": 114,
   "metadata": {
    "hidden": true,
    "scrolled": false
   },
   "outputs": [
    {
     "name": "stdout",
     "output_type": "stream",
     "text": [
      "Wall time: 23.2 s\n",
      "[0.20902599743488345, 0.3878714509807403, 0.9149615901479865, 0.7052926428896253, 0.6971925190014961]\n"
     ]
    }
   ],
   "source": [
    "m = RandomForestRegressor(n_estimators=50, min_samples_leaf=3, max_features=0.5, n_jobs=-1, oob_score=True)\n",
    "%time m.fit(X_train, y_train)\n",
    "print_score(m)"
   ]
  },
  {
   "cell_type": "markdown",
   "metadata": {
    "hidden": true
   },
   "source": [
    "After we've run our model on a good set of parameters we can see that we arrive at an r2 for our validation set which is only slightly better. Nonetheless, not the impact I was hoping for. The overfitting has been reduced as the gap between the r2 of our training and validation set has been reduced but we can still see a difference of about 0.2 between the r2 of our validation and our training set. Let's take a closer look at our data to see what else we can do."
   ]
  },
  {
   "cell_type": "markdown",
   "metadata": {
    "heading_collapsed": true
   },
   "source": [
    "## Feature importance"
   ]
  },
  {
   "cell_type": "code",
   "execution_count": 116,
   "metadata": {
    "hidden": true,
    "scrolled": false
   },
   "outputs": [
    {
     "data": {
      "text/html": [
       "<div>\n",
       "<style scoped>\n",
       "    .dataframe tbody tr th:only-of-type {\n",
       "        vertical-align: middle;\n",
       "    }\n",
       "\n",
       "    .dataframe tbody tr th {\n",
       "        vertical-align: top;\n",
       "    }\n",
       "\n",
       "    .dataframe thead th {\n",
       "        text-align: right;\n",
       "    }\n",
       "</style>\n",
       "<table border=\"1\" class=\"dataframe\">\n",
       "  <thead>\n",
       "    <tr style=\"text-align: right;\">\n",
       "      <th></th>\n",
       "      <th>cols</th>\n",
       "      <th>imp</th>\n",
       "    </tr>\n",
       "  </thead>\n",
       "  <tbody>\n",
       "    <tr>\n",
       "      <th>2</th>\n",
       "      <td>room_type</td>\n",
       "      <td>0.296457</td>\n",
       "    </tr>\n",
       "    <tr>\n",
       "      <th>22</th>\n",
       "      <td>bedrooms</td>\n",
       "      <td>0.123089</td>\n",
       "    </tr>\n",
       "    <tr>\n",
       "      <th>4</th>\n",
       "      <td>bathrooms</td>\n",
       "      <td>0.069107</td>\n",
       "    </tr>\n",
       "    <tr>\n",
       "      <th>3</th>\n",
       "      <td>accommodates</td>\n",
       "      <td>0.066410</td>\n",
       "    </tr>\n",
       "    <tr>\n",
       "      <th>15</th>\n",
       "      <td>longitude</td>\n",
       "      <td>0.058660</td>\n",
       "    </tr>\n",
       "    <tr>\n",
       "      <th>21</th>\n",
       "      <td>zipcode</td>\n",
       "      <td>0.051893</td>\n",
       "    </tr>\n",
       "    <tr>\n",
       "      <th>14</th>\n",
       "      <td>latitude</td>\n",
       "      <td>0.040466</td>\n",
       "    </tr>\n",
       "    <tr>\n",
       "      <th>23</th>\n",
       "      <td>beds</td>\n",
       "      <td>0.014270</td>\n",
       "    </tr>\n",
       "    <tr>\n",
       "      <th>16</th>\n",
       "      <td>name</td>\n",
       "      <td>0.013938</td>\n",
       "    </tr>\n",
       "    <tr>\n",
       "      <th>17</th>\n",
       "      <td>neighbourhood</td>\n",
       "      <td>0.013792</td>\n",
       "    </tr>\n",
       "    <tr>\n",
       "      <th>20</th>\n",
       "      <td>thumbnail_url</td>\n",
       "      <td>0.013574</td>\n",
       "    </tr>\n",
       "    <tr>\n",
       "      <th>9</th>\n",
       "      <td>description</td>\n",
       "      <td>0.013067</td>\n",
       "    </tr>\n",
       "    <tr>\n",
       "      <th>0</th>\n",
       "      <td>id</td>\n",
       "      <td>0.012234</td>\n",
       "    </tr>\n",
       "    <tr>\n",
       "      <th>8</th>\n",
       "      <td>city</td>\n",
       "      <td>0.011303</td>\n",
       "    </tr>\n",
       "    <tr>\n",
       "      <th>98</th>\n",
       "      <td>host_sinceDay</td>\n",
       "      <td>0.010233</td>\n",
       "    </tr>\n",
       "  </tbody>\n",
       "</table>\n",
       "</div>"
      ],
      "text/plain": [
       "             cols       imp\n",
       "2       room_type  0.296457\n",
       "22       bedrooms  0.123089\n",
       "4       bathrooms  0.069107\n",
       "3    accommodates  0.066410\n",
       "15      longitude  0.058660\n",
       "21        zipcode  0.051893\n",
       "14       latitude  0.040466\n",
       "23           beds  0.014270\n",
       "16           name  0.013938\n",
       "17  neighbourhood  0.013792\n",
       "20  thumbnail_url  0.013574\n",
       "9     description  0.013067\n",
       "0              id  0.012234\n",
       "8            city  0.011303\n",
       "98  host_sinceDay  0.010233"
      ]
     },
     "execution_count": 116,
     "metadata": {},
     "output_type": "execute_result"
    }
   ],
   "source": [
    "fi = rf_feat_importance(m, df); fi[:15]"
   ]
  },
  {
   "cell_type": "code",
   "execution_count": 117,
   "metadata": {
    "hidden": true
   },
   "outputs": [],
   "source": [
    "def plot_fi(fi): return fi.plot('cols', 'imp', 'barh', figsize=(12,7), legend=False)"
   ]
  },
  {
   "cell_type": "code",
   "execution_count": 118,
   "metadata": {
    "hidden": true
   },
   "outputs": [
    {
     "data": {
      "image/png": "[encoded data removed]",
      "text/plain": [
       "<Figure size 720x432 with 1 Axes>"
      ]
     },
     "metadata": {
      "needs_background": "light"
     },
     "output_type": "display_data"
    }
   ],
   "source": [
    "fi.plot('cols', 'imp', figsize=(10,6), legend=False);"
   ]
  },
  {
   "cell_type": "code",
   "execution_count": 119,
   "metadata": {
    "hidden": true,
    "scrolled": true
   },
   "outputs": [
    {
     "data": {
      "text/plain": [
       "<matplotlib.axes._subplots.AxesSubplot at 0x1f9099b3208>"
      ]
     },
     "execution_count": 119,
     "metadata": {},
     "output_type": "execute_result"
    },
    {
     "data": {
      "image/png": "[encoded data removed]",
      "text/plain": [
       "<Figure size 864x504 with 1 Axes>"
      ]
     },
     "metadata": {
      "needs_background": "light"
     },
     "output_type": "display_data"
    }
   ],
   "source": [
    "plot_fi(fi[:50])"
   ]
  },
  {
   "cell_type": "markdown",
   "metadata": {
    "hidden": true
   },
   "source": [
    "The most important feature is by far the roomtype. That is followed by the number of bedrooms and persons the accomodation accomodates. The different amenities only play a minor role. One could think about clustering some of them as e.g. all which are expected to belong to premium accomodations as e.g. 'has_Indoor_fireplace', 'has_Pool', 'has_Gym' since they don't appear that often and not necessarily together. That way one could help the Regressor to use the premium amenities more often in its trees. \n",
    "\n",
    "Now we are going to check how the model quality changes once we drop some features with a little impact on the price."
   ]
  },
  {
   "cell_type": "code",
   "execution_count": 120,
   "metadata": {
    "hidden": true
   },
   "outputs": [
    {
     "data": {
      "text/plain": [
       "((54111, 15), (54111,), (10000, 15), (10000, 15))"
      ]
     },
     "execution_count": 120,
     "metadata": {},
     "output_type": "execute_result"
    }
   ],
   "source": [
    "to_keep = fi[fi.imp>0.01].cols; len(to_keep)\n",
    "\n",
    "df_keep = df[to_keep].copy()\n",
    "X_train, X_valid, X_test = split_vals(df_keep, n_trn, n_final)\n",
    "\n",
    "X_train.shape, y_train.shape, X_valid.shape, X_test.shape"
   ]
  },
  {
   "cell_type": "code",
   "execution_count": 121,
   "metadata": {
    "hidden": true
   },
   "outputs": [
    {
     "name": "stdout",
     "output_type": "stream",
     "text": [
      "Wall time: 6.06 s\n",
      "[0.24736539039468813, 0.4102668256146367, 0.880905311187064, 0.6702778292814412, 0.6597010371490772]\n"
     ]
    }
   ],
   "source": [
    "m = RandomForestRegressor(n_estimators=50, min_samples_leaf=3, max_features=0.5, n_jobs=-1, oob_score=True)\n",
    "%time m.fit(X_train, y_train)\n",
    "print_score(m)"
   ]
  },
  {
   "cell_type": "code",
   "execution_count": 122,
   "metadata": {
    "hidden": true
   },
   "outputs": [
    {
     "data": {
      "text/plain": [
       "((54111, 28), (54111,), (10000, 28), (10000, 28))"
      ]
     },
     "execution_count": 122,
     "metadata": {},
     "output_type": "execute_result"
    }
   ],
   "source": [
    "to_keep = fi[fi.imp>0.005].cols; len(to_keep)\n",
    "\n",
    "df_keep = df[to_keep].copy()\n",
    "X_train, X_valid, X_test = split_vals(df_keep, n_trn, n_final)\n",
    "\n",
    "X_train.shape, y_train.shape, X_valid.shape, X_test.shape"
   ]
  },
  {
   "cell_type": "code",
   "execution_count": 123,
   "metadata": {
    "hidden": true
   },
   "outputs": [
    {
     "name": "stdout",
     "output_type": "stream",
     "text": [
      "Wall time: 10.1 s\n",
      "[0.2178045845442701, 0.39010406839890405, 0.9076687839387166, 0.7018901628354046, 0.6902833453984432]\n"
     ]
    }
   ],
   "source": [
    "m = RandomForestRegressor(n_estimators=50, min_samples_leaf=3, max_features=0.5, n_jobs=-1, oob_score=True)\n",
    "%time m.fit(X_train, y_train)\n",
    "print_score(m)"
   ]
  },
  {
   "cell_type": "code",
   "execution_count": 124,
   "metadata": {
    "hidden": true
   },
   "outputs": [
    {
     "data": {
      "text/plain": [
       "((54111, 40), (54111,), (10000, 40), (10000, 40))"
      ]
     },
     "execution_count": 124,
     "metadata": {},
     "output_type": "execute_result"
    }
   ],
   "source": [
    "to_keep = fi[fi.imp>0.002].cols; len(to_keep)\n",
    "\n",
    "df_keep = df[to_keep].copy()\n",
    "X_train, X_valid, X_test = split_vals(df_keep, n_trn, n_final)\n",
    "\n",
    "X_train.shape, y_train.shape, X_valid.shape, X_test.shape"
   ]
  },
  {
   "cell_type": "code",
   "execution_count": 125,
   "metadata": {
    "hidden": true
   },
   "outputs": [
    {
     "name": "stdout",
     "output_type": "stream",
     "text": [
      "Wall time: 13 s\n",
      "[0.21384252419615815, 0.3901520890148931, 0.9109974056696085, 0.7018167655024116, 0.6942253227945783]\n"
     ]
    }
   ],
   "source": [
    "m = RandomForestRegressor(n_estimators=50, min_samples_leaf=3, max_features=0.5, n_jobs=-1, oob_score=True)\n",
    "%time m.fit(X_train, y_train)\n",
    "print_score(m)"
   ]
  },
  {
   "cell_type": "code",
   "execution_count": 126,
   "metadata": {
    "hidden": true
   },
   "outputs": [
    {
     "data": {
      "text/plain": [
       "((54111, 73), (54111,), (10000, 73), (10000, 73))"
      ]
     },
     "execution_count": 126,
     "metadata": {},
     "output_type": "execute_result"
    }
   ],
   "source": [
    "to_keep = fi[fi.imp>0.001].cols; len(to_keep)\n",
    "\n",
    "df_keep = df[to_keep].copy()\n",
    "X_train, X_valid, X_test = split_vals(df_keep, n_trn, n_final)\n",
    "\n",
    "X_train.shape, y_train.shape, X_valid.shape, X_test.shape"
   ]
  },
  {
   "cell_type": "code",
   "execution_count": 127,
   "metadata": {
    "hidden": true
   },
   "outputs": [
    {
     "name": "stdout",
     "output_type": "stream",
     "text": [
      "Wall time: 16.8 s\n",
      "[0.21039489627838728, 0.38815581794140425, 0.9138441199760047, 0.7048603565950897, 0.6956694064307349]\n"
     ]
    }
   ],
   "source": [
    "m = RandomForestRegressor(n_estimators=50, min_samples_leaf=3, max_features=0.5, n_jobs=-1, oob_score=True)\n",
    "%time m.fit(X_train, y_train)\n",
    "print_score(m)"
   ]
  },
  {
   "cell_type": "code",
   "execution_count": 128,
   "metadata": {
    "hidden": true
   },
   "outputs": [
    {
     "data": {
      "text/plain": [
       "((54111, 87), (54111,), (10000, 87), (10000, 87))"
      ]
     },
     "execution_count": 128,
     "metadata": {},
     "output_type": "execute_result"
    }
   ],
   "source": [
    "to_keep = fi[fi.imp>0.0005].cols; len(to_keep)\n",
    "\n",
    "df_keep = df[to_keep].copy()\n",
    "X_train, X_valid, X_test = split_vals(df_keep, n_trn, n_final)\n",
    "\n",
    "X_train.shape, y_train.shape, X_valid.shape, X_test.shape"
   ]
  },
  {
   "cell_type": "code",
   "execution_count": 129,
   "metadata": {
    "hidden": true
   },
   "outputs": [
    {
     "name": "stdout",
     "output_type": "stream",
     "text": [
      "Wall time: 19.8 s\n",
      "[0.20989997609722827, 0.3883031704063225, 0.9142489789559071, 0.7046362310932438, 0.6968421747447927]\n"
     ]
    }
   ],
   "source": [
    "m = RandomForestRegressor(n_estimators=50, min_samples_leaf=3, max_features=0.5, n_jobs=-1, oob_score=True)\n",
    "%time m.fit(X_train, y_train)\n",
    "print_score(m)"
   ]
  },
  {
   "cell_type": "markdown",
   "metadata": {
    "hidden": true
   },
   "source": [
    "Surprisingly, we can see that the model behaves the best when we include 73 features although we do have a few number of very dominant features. This probably means that although all the booleans checking for the amenities are of little importance, they're combined effect helps to improve the model quality. Thus we should not exclude them. Especially, since it is likely that the different amenities have little correlation to each other. "
   ]
  },
  {
   "cell_type": "code",
   "execution_count": 130,
   "metadata": {
    "hidden": true
   },
   "outputs": [
    {
     "data": {
      "text/plain": [
       "((54111, 73), (54111,), (10000, 73), (10000, 73))"
      ]
     },
     "execution_count": 130,
     "metadata": {},
     "output_type": "execute_result"
    }
   ],
   "source": [
    "to_keep = fi[fi.imp>0.001].cols; len(to_keep)\n",
    "\n",
    "df_keep = df[to_keep].copy()\n",
    "X_train, X_valid, X_test = split_vals(df_keep, n_trn, n_final)\n",
    "\n",
    "X_train.shape, y_train.shape, X_valid.shape, X_test.shape"
   ]
  },
  {
   "cell_type": "code",
   "execution_count": 131,
   "metadata": {
    "hidden": true
   },
   "outputs": [
    {
     "name": "stdout",
     "output_type": "stream",
     "text": [
      "Wall time: 16.7 s\n",
      "[0.21073759202325867, 0.3894972680087451, 0.9135632262881122, 0.7028168513372108, 0.6955827820108624]\n"
     ]
    }
   ],
   "source": [
    "m = RandomForestRegressor(n_estimators=50, min_samples_leaf=3, max_features=0.5, n_jobs=-1, oob_score=True)\n",
    "%time m.fit(X_train, y_train)\n",
    "print_score(m)"
   ]
  },
  {
   "cell_type": "markdown",
   "metadata": {
    "hidden": true
   },
   "source": [
    "Lets take a brief look at the new feature importance."
   ]
  },
  {
   "cell_type": "code",
   "execution_count": 134,
   "metadata": {
    "hidden": true,
    "scrolled": true
   },
   "outputs": [
    {
     "data": {
      "text/html": [
       "<div>\n",
       "<style scoped>\n",
       "    .dataframe tbody tr th:only-of-type {\n",
       "        vertical-align: middle;\n",
       "    }\n",
       "\n",
       "    .dataframe tbody tr th {\n",
       "        vertical-align: top;\n",
       "    }\n",
       "\n",
       "    .dataframe thead th {\n",
       "        text-align: right;\n",
       "    }\n",
       "</style>\n",
       "<table border=\"1\" class=\"dataframe\">\n",
       "  <thead>\n",
       "    <tr style=\"text-align: right;\">\n",
       "      <th></th>\n",
       "      <th>cols</th>\n",
       "      <th>imp</th>\n",
       "    </tr>\n",
       "  </thead>\n",
       "  <tbody>\n",
       "    <tr>\n",
       "      <th>0</th>\n",
       "      <td>room_type</td>\n",
       "      <td>0.287494</td>\n",
       "    </tr>\n",
       "    <tr>\n",
       "      <th>1</th>\n",
       "      <td>bedrooms</td>\n",
       "      <td>0.106744</td>\n",
       "    </tr>\n",
       "    <tr>\n",
       "      <th>3</th>\n",
       "      <td>accommodates</td>\n",
       "      <td>0.075957</td>\n",
       "    </tr>\n",
       "    <tr>\n",
       "      <th>2</th>\n",
       "      <td>bathrooms</td>\n",
       "      <td>0.070900</td>\n",
       "    </tr>\n",
       "    <tr>\n",
       "      <th>4</th>\n",
       "      <td>longitude</td>\n",
       "      <td>0.058070</td>\n",
       "    </tr>\n",
       "    <tr>\n",
       "      <th>5</th>\n",
       "      <td>zipcode</td>\n",
       "      <td>0.052748</td>\n",
       "    </tr>\n",
       "    <tr>\n",
       "      <th>6</th>\n",
       "      <td>latitude</td>\n",
       "      <td>0.039631</td>\n",
       "    </tr>\n",
       "    <tr>\n",
       "      <th>7</th>\n",
       "      <td>beds</td>\n",
       "      <td>0.028856</td>\n",
       "    </tr>\n",
       "    <tr>\n",
       "      <th>8</th>\n",
       "      <td>name</td>\n",
       "      <td>0.014723</td>\n",
       "    </tr>\n",
       "    <tr>\n",
       "      <th>9</th>\n",
       "      <td>neighbourhood</td>\n",
       "      <td>0.014219</td>\n",
       "    </tr>\n",
       "    <tr>\n",
       "      <th>10</th>\n",
       "      <td>thumbnail_url</td>\n",
       "      <td>0.013841</td>\n",
       "    </tr>\n",
       "    <tr>\n",
       "      <th>11</th>\n",
       "      <td>description</td>\n",
       "      <td>0.013387</td>\n",
       "    </tr>\n",
       "    <tr>\n",
       "      <th>12</th>\n",
       "      <td>id</td>\n",
       "      <td>0.012571</td>\n",
       "    </tr>\n",
       "    <tr>\n",
       "      <th>13</th>\n",
       "      <td>city</td>\n",
       "      <td>0.012364</td>\n",
       "    </tr>\n",
       "    <tr>\n",
       "      <th>14</th>\n",
       "      <td>host_sinceDay</td>\n",
       "      <td>0.010836</td>\n",
       "    </tr>\n",
       "    <tr>\n",
       "      <th>15</th>\n",
       "      <td>host_sinceDayofyear</td>\n",
       "      <td>0.009958</td>\n",
       "    </tr>\n",
       "    <tr>\n",
       "      <th>18</th>\n",
       "      <td>number_of_reviews</td>\n",
       "      <td>0.009416</td>\n",
       "    </tr>\n",
       "    <tr>\n",
       "      <th>17</th>\n",
       "      <td>review_scores_rating</td>\n",
       "      <td>0.008774</td>\n",
       "    </tr>\n",
       "    <tr>\n",
       "      <th>16</th>\n",
       "      <td>last_reviewDayofyear</td>\n",
       "      <td>0.008672</td>\n",
       "    </tr>\n",
       "    <tr>\n",
       "      <th>19</th>\n",
       "      <td>host_response_rate</td>\n",
       "      <td>0.008371</td>\n",
       "    </tr>\n",
       "  </tbody>\n",
       "</table>\n",
       "</div>"
      ],
      "text/plain": [
       "                    cols       imp\n",
       "0              room_type  0.287494\n",
       "1               bedrooms  0.106744\n",
       "3           accommodates  0.075957\n",
       "2              bathrooms  0.070900\n",
       "4              longitude  0.058070\n",
       "5                zipcode  0.052748\n",
       "6               latitude  0.039631\n",
       "7                   beds  0.028856\n",
       "8                   name  0.014723\n",
       "9          neighbourhood  0.014219\n",
       "10         thumbnail_url  0.013841\n",
       "11           description  0.013387\n",
       "12                    id  0.012571\n",
       "13                  city  0.012364\n",
       "14         host_sinceDay  0.010836\n",
       "15   host_sinceDayofyear  0.009958\n",
       "18     number_of_reviews  0.009416\n",
       "17  review_scores_rating  0.008774\n",
       "16  last_reviewDayofyear  0.008672\n",
       "19    host_response_rate  0.008371"
      ]
     },
     "execution_count": 134,
     "metadata": {},
     "output_type": "execute_result"
    }
   ],
   "source": [
    "fi = rf_feat_importance(m, df_keep); fi[:20]"
   ]
  },
  {
   "cell_type": "markdown",
   "metadata": {
    "hidden": true
   },
   "source": [
    "The new feature importance identifies some minor shifts as e.g. the slight reduction of importance of 'room_type' and 'bedrooms' and the slight increase in importance of 'accommodates' and 'bathrooms' but no major movements. 'room_type' really seems to be by far the most important feature.\n",
    "\n",
    "Let's take a closer look at these most important features"
   ]
  },
  {
   "cell_type": "markdown",
   "metadata": {
    "heading_collapsed": true
   },
   "source": [
    "## Confidence based on tree variance"
   ]
  },
  {
   "cell_type": "code",
   "execution_count": 135,
   "metadata": {
    "hidden": true
   },
   "outputs": [
    {
     "name": "stdout",
     "output_type": "stream",
     "text": [
      "Wall time: 2.56 s\n"
     ]
    },
    {
     "data": {
      "text/plain": [
       "(5.074898959465389, 0.43000203830650535)"
      ]
     },
     "execution_count": 135,
     "metadata": {},
     "output_type": "execute_result"
    }
   ],
   "source": [
    "%time preds = np.stack([t.predict(X_valid) for t in m.estimators_])\n",
    "np.mean(preds[:,0]), np.std(preds[:,0])"
   ]
  },
  {
   "cell_type": "code",
   "execution_count": 136,
   "metadata": {
    "hidden": true
   },
   "outputs": [
    {
     "name": "stderr",
     "output_type": "stream",
     "text": [
      "Exception in thread Thread-688:\n",
      "Traceback (most recent call last):\n",
      "  File \"C:\\Users\\bolli\\Anaconda3\\envs\\fastai-cpu-v0.7\\lib\\threading.py\", line 916, in _bootstrap_inner\n",
      "    self.run()\n",
      "  File \"C:\\Users\\bolli\\Anaconda3\\envs\\fastai-cpu-v0.7\\lib\\threading.py\", line 864, in run\n",
      "    self._target(*self._args, **self._kwargs)\n",
      "  File \"C:\\Users\\bolli\\Anaconda3\\envs\\fastai-cpu-v0.7\\lib\\concurrent\\futures\\process.py\", line 295, in _queue_management_worker\n",
      "    shutdown_worker()\n",
      "  File \"C:\\Users\\bolli\\Anaconda3\\envs\\fastai-cpu-v0.7\\lib\\concurrent\\futures\\process.py\", line 253, in shutdown_worker\n",
      "    call_queue.put_nowait(None)\n",
      "  File \"C:\\Users\\bolli\\Anaconda3\\envs\\fastai-cpu-v0.7\\lib\\multiprocessing\\queues.py\", line 129, in put_nowait\n",
      "    return self.put(obj, False)\n",
      "  File \"C:\\Users\\bolli\\Anaconda3\\envs\\fastai-cpu-v0.7\\lib\\multiprocessing\\queues.py\", line 83, in put\n",
      "    raise Full\n",
      "queue.Full\n",
      "\n"
     ]
    },
    {
     "ename": "BrokenProcessPool",
     "evalue": "A process in the process pool was terminated abruptly while the future was running or pending.",
     "output_type": "error",
     "traceback": [
      "\u001b[1;31m---------------------------------------------------------------------------\u001b[0m",
      "\u001b[1;31mBrokenProcessPool\u001b[0m                         Traceback (most recent call last)",
      "\u001b[1;32m<timed exec>\u001b[0m in \u001b[0;36m<module>\u001b[1;34m\u001b[0m\n",
      "\u001b[1;32m/Users/bolli/fastai/old\\fastai\\structured.py\u001b[0m in \u001b[0;36mparallel_trees\u001b[1;34m(m, fn, n_jobs)\u001b[0m\n\u001b[0;32m     18\u001b[0m \u001b[1;33m\u001b[0m\u001b[0m\n\u001b[0;32m     19\u001b[0m \u001b[1;32mdef\u001b[0m \u001b[0mparallel_trees\u001b[0m\u001b[1;33m(\u001b[0m\u001b[0mm\u001b[0m\u001b[1;33m,\u001b[0m \u001b[0mfn\u001b[0m\u001b[1;33m,\u001b[0m \u001b[0mn_jobs\u001b[0m\u001b[1;33m=\u001b[0m\u001b[1;36m8\u001b[0m\u001b[1;33m)\u001b[0m\u001b[1;33m:\u001b[0m\u001b[1;33m\u001b[0m\u001b[1;33m\u001b[0m\u001b[0m\n\u001b[1;32m---> 20\u001b[1;33m         \u001b[1;32mreturn\u001b[0m \u001b[0mlist\u001b[0m\u001b[1;33m(\u001b[0m\u001b[0mProcessPoolExecutor\u001b[0m\u001b[1;33m(\u001b[0m\u001b[0mn_jobs\u001b[0m\u001b[1;33m)\u001b[0m\u001b[1;33m.\u001b[0m\u001b[0mmap\u001b[0m\u001b[1;33m(\u001b[0m\u001b[0mfn\u001b[0m\u001b[1;33m,\u001b[0m \u001b[0mm\u001b[0m\u001b[1;33m.\u001b[0m\u001b[0mestimators_\u001b[0m\u001b[1;33m)\u001b[0m\u001b[1;33m)\u001b[0m\u001b[1;33m\u001b[0m\u001b[1;33m\u001b[0m\u001b[0m\n\u001b[0m\u001b[0;32m     21\u001b[0m \u001b[1;33m\u001b[0m\u001b[0m\n\u001b[0;32m     22\u001b[0m \u001b[1;32mdef\u001b[0m \u001b[0mdraw_tree\u001b[0m\u001b[1;33m(\u001b[0m\u001b[0mt\u001b[0m\u001b[1;33m,\u001b[0m \u001b[0mdf\u001b[0m\u001b[1;33m,\u001b[0m \u001b[0msize\u001b[0m\u001b[1;33m=\u001b[0m\u001b[1;36m10\u001b[0m\u001b[1;33m,\u001b[0m \u001b[0mratio\u001b[0m\u001b[1;33m=\u001b[0m\u001b[1;36m0.6\u001b[0m\u001b[1;33m,\u001b[0m \u001b[0mprecision\u001b[0m\u001b[1;33m=\u001b[0m\u001b[1;36m0\u001b[0m\u001b[1;33m)\u001b[0m\u001b[1;33m:\u001b[0m\u001b[1;33m\u001b[0m\u001b[1;33m\u001b[0m\u001b[0m\n",
      "\u001b[1;32m~\\Anaconda3\\envs\\fastai-cpu-v0.7\\lib\\concurrent\\futures\\process.py\u001b[0m in \u001b[0;36m_chain_from_iterable_of_lists\u001b[1;34m(iterable)\u001b[0m\n\u001b[0;32m    364\u001b[0m     \u001b[0mcareful\u001b[0m \u001b[1;32mnot\u001b[0m \u001b[0mto\u001b[0m \u001b[0mkeep\u001b[0m \u001b[0mreferences\u001b[0m \u001b[0mto\u001b[0m \u001b[0myielded\u001b[0m \u001b[0mobjects\u001b[0m\u001b[1;33m.\u001b[0m\u001b[1;33m\u001b[0m\u001b[1;33m\u001b[0m\u001b[0m\n\u001b[0;32m    365\u001b[0m     \"\"\"\n\u001b[1;32m--> 366\u001b[1;33m     \u001b[1;32mfor\u001b[0m \u001b[0melement\u001b[0m \u001b[1;32min\u001b[0m \u001b[0miterable\u001b[0m\u001b[1;33m:\u001b[0m\u001b[1;33m\u001b[0m\u001b[1;33m\u001b[0m\u001b[0m\n\u001b[0m\u001b[0;32m    367\u001b[0m         \u001b[0melement\u001b[0m\u001b[1;33m.\u001b[0m\u001b[0mreverse\u001b[0m\u001b[1;33m(\u001b[0m\u001b[1;33m)\u001b[0m\u001b[1;33m\u001b[0m\u001b[1;33m\u001b[0m\u001b[0m\n\u001b[0;32m    368\u001b[0m         \u001b[1;32mwhile\u001b[0m \u001b[0melement\u001b[0m\u001b[1;33m:\u001b[0m\u001b[1;33m\u001b[0m\u001b[1;33m\u001b[0m\u001b[0m\n",
      "\u001b[1;32m~\\Anaconda3\\envs\\fastai-cpu-v0.7\\lib\\concurrent\\futures\\_base.py\u001b[0m in \u001b[0;36mresult_iterator\u001b[1;34m()\u001b[0m\n\u001b[0;32m    584\u001b[0m                     \u001b[1;31m# Careful not to keep a reference to the popped future\u001b[0m\u001b[1;33m\u001b[0m\u001b[1;33m\u001b[0m\u001b[1;33m\u001b[0m\u001b[0m\n\u001b[0;32m    585\u001b[0m                     \u001b[1;32mif\u001b[0m \u001b[0mtimeout\u001b[0m \u001b[1;32mis\u001b[0m \u001b[1;32mNone\u001b[0m\u001b[1;33m:\u001b[0m\u001b[1;33m\u001b[0m\u001b[1;33m\u001b[0m\u001b[0m\n\u001b[1;32m--> 586\u001b[1;33m                         \u001b[1;32myield\u001b[0m \u001b[0mfs\u001b[0m\u001b[1;33m.\u001b[0m\u001b[0mpop\u001b[0m\u001b[1;33m(\u001b[0m\u001b[1;33m)\u001b[0m\u001b[1;33m.\u001b[0m\u001b[0mresult\u001b[0m\u001b[1;33m(\u001b[0m\u001b[1;33m)\u001b[0m\u001b[1;33m\u001b[0m\u001b[1;33m\u001b[0m\u001b[0m\n\u001b[0m\u001b[0;32m    587\u001b[0m                     \u001b[1;32melse\u001b[0m\u001b[1;33m:\u001b[0m\u001b[1;33m\u001b[0m\u001b[1;33m\u001b[0m\u001b[0m\n\u001b[0;32m    588\u001b[0m                         \u001b[1;32myield\u001b[0m \u001b[0mfs\u001b[0m\u001b[1;33m.\u001b[0m\u001b[0mpop\u001b[0m\u001b[1;33m(\u001b[0m\u001b[1;33m)\u001b[0m\u001b[1;33m.\u001b[0m\u001b[0mresult\u001b[0m\u001b[1;33m(\u001b[0m\u001b[0mend_time\u001b[0m \u001b[1;33m-\u001b[0m \u001b[0mtime\u001b[0m\u001b[1;33m.\u001b[0m\u001b[0mmonotonic\u001b[0m\u001b[1;33m(\u001b[0m\u001b[1;33m)\u001b[0m\u001b[1;33m)\u001b[0m\u001b[1;33m\u001b[0m\u001b[1;33m\u001b[0m\u001b[0m\n",
      "\u001b[1;32m~\\Anaconda3\\envs\\fastai-cpu-v0.7\\lib\\concurrent\\futures\\_base.py\u001b[0m in \u001b[0;36mresult\u001b[1;34m(self, timeout)\u001b[0m\n\u001b[0;32m    430\u001b[0m                 \u001b[1;32mraise\u001b[0m \u001b[0mCancelledError\u001b[0m\u001b[1;33m(\u001b[0m\u001b[1;33m)\u001b[0m\u001b[1;33m\u001b[0m\u001b[1;33m\u001b[0m\u001b[0m\n\u001b[0;32m    431\u001b[0m             \u001b[1;32melif\u001b[0m \u001b[0mself\u001b[0m\u001b[1;33m.\u001b[0m\u001b[0m_state\u001b[0m \u001b[1;33m==\u001b[0m \u001b[0mFINISHED\u001b[0m\u001b[1;33m:\u001b[0m\u001b[1;33m\u001b[0m\u001b[1;33m\u001b[0m\u001b[0m\n\u001b[1;32m--> 432\u001b[1;33m                 \u001b[1;32mreturn\u001b[0m \u001b[0mself\u001b[0m\u001b[1;33m.\u001b[0m\u001b[0m__get_result\u001b[0m\u001b[1;33m(\u001b[0m\u001b[1;33m)\u001b[0m\u001b[1;33m\u001b[0m\u001b[1;33m\u001b[0m\u001b[0m\n\u001b[0m\u001b[0;32m    433\u001b[0m             \u001b[1;32melse\u001b[0m\u001b[1;33m:\u001b[0m\u001b[1;33m\u001b[0m\u001b[1;33m\u001b[0m\u001b[0m\n\u001b[0;32m    434\u001b[0m                 \u001b[1;32mraise\u001b[0m \u001b[0mTimeoutError\u001b[0m\u001b[1;33m(\u001b[0m\u001b[1;33m)\u001b[0m\u001b[1;33m\u001b[0m\u001b[1;33m\u001b[0m\u001b[0m\n",
      "\u001b[1;32m~\\Anaconda3\\envs\\fastai-cpu-v0.7\\lib\\concurrent\\futures\\_base.py\u001b[0m in \u001b[0;36m__get_result\u001b[1;34m(self)\u001b[0m\n\u001b[0;32m    382\u001b[0m     \u001b[1;32mdef\u001b[0m \u001b[0m__get_result\u001b[0m\u001b[1;33m(\u001b[0m\u001b[0mself\u001b[0m\u001b[1;33m)\u001b[0m\u001b[1;33m:\u001b[0m\u001b[1;33m\u001b[0m\u001b[1;33m\u001b[0m\u001b[0m\n\u001b[0;32m    383\u001b[0m         \u001b[1;32mif\u001b[0m \u001b[0mself\u001b[0m\u001b[1;33m.\u001b[0m\u001b[0m_exception\u001b[0m\u001b[1;33m:\u001b[0m\u001b[1;33m\u001b[0m\u001b[1;33m\u001b[0m\u001b[0m\n\u001b[1;32m--> 384\u001b[1;33m             \u001b[1;32mraise\u001b[0m \u001b[0mself\u001b[0m\u001b[1;33m.\u001b[0m\u001b[0m_exception\u001b[0m\u001b[1;33m\u001b[0m\u001b[1;33m\u001b[0m\u001b[0m\n\u001b[0m\u001b[0;32m    385\u001b[0m         \u001b[1;32melse\u001b[0m\u001b[1;33m:\u001b[0m\u001b[1;33m\u001b[0m\u001b[1;33m\u001b[0m\u001b[0m\n\u001b[0;32m    386\u001b[0m             \u001b[1;32mreturn\u001b[0m \u001b[0mself\u001b[0m\u001b[1;33m.\u001b[0m\u001b[0m_result\u001b[0m\u001b[1;33m\u001b[0m\u001b[1;33m\u001b[0m\u001b[0m\n",
      "\u001b[1;31mBrokenProcessPool\u001b[0m: A process in the process pool was terminated abruptly while the future was running or pending."
     ]
    },
    {
     "data": {
      "text/plain": [
       "(5.074898959465389, 0.43000203830650535)"
      ]
     },
     "execution_count": 136,
     "metadata": {},
     "output_type": "execute_result"
    }
   ],
   "source": [
    "def get_preds(t): return t.predict(X_valid)\n",
    "%time preds = np.stack(parallel_trees(m, get_preds))\n",
    "np.mean(preds[:,0]), np.std(preds[:,0])\n",
    "#Produces BrokenProcessPool but functions anyways"
   ]
  },
  {
   "cell_type": "markdown",
   "metadata": {
    "hidden": true
   },
   "source": [
    "### Analysis room_type"
   ]
  },
  {
   "cell_type": "code",
   "execution_count": 137,
   "metadata": {
    "hidden": true,
    "scrolled": false
   },
   "outputs": [
    {
     "data": {
      "image/png": "[encoded data removed]",
      "text/plain": [
       "<Figure size 432x288 with 1 Axes>"
      ]
     },
     "metadata": {
      "needs_background": "light"
     },
     "output_type": "display_data"
    }
   ],
   "source": [
    "x = raw_valid.copy()\n",
    "x['pred_std'] = np.std(preds, axis=0)\n",
    "x['pred'] = np.mean(preds, axis=0)\n",
    "x.room_type.value_counts().plot.barh();"
   ]
  },
  {
   "cell_type": "code",
   "execution_count": 138,
   "metadata": {
    "hidden": true
   },
   "outputs": [
    {
     "data": {
      "text/html": [
       "<div>\n",
       "<style scoped>\n",
       "    .dataframe tbody tr th:only-of-type {\n",
       "        vertical-align: middle;\n",
       "    }\n",
       "\n",
       "    .dataframe tbody tr th {\n",
       "        vertical-align: top;\n",
       "    }\n",
       "\n",
       "    .dataframe thead th {\n",
       "        text-align: right;\n",
       "    }\n",
       "</style>\n",
       "<table border=\"1\" class=\"dataframe\">\n",
       "  <thead>\n",
       "    <tr style=\"text-align: right;\">\n",
       "      <th></th>\n",
       "      <th>room_type</th>\n",
       "      <th>log_price</th>\n",
       "      <th>pred</th>\n",
       "      <th>pred_std</th>\n",
       "    </tr>\n",
       "  </thead>\n",
       "  <tbody>\n",
       "    <tr>\n",
       "      <th>0</th>\n",
       "      <td>Entire home/apt</td>\n",
       "      <td>5.172175</td>\n",
       "      <td>5.174580</td>\n",
       "      <td>0.355463</td>\n",
       "    </tr>\n",
       "    <tr>\n",
       "      <th>1</th>\n",
       "      <td>Private room</td>\n",
       "      <td>4.340669</td>\n",
       "      <td>4.330135</td>\n",
       "      <td>0.350413</td>\n",
       "    </tr>\n",
       "    <tr>\n",
       "      <th>2</th>\n",
       "      <td>Shared room</td>\n",
       "      <td>3.880654</td>\n",
       "      <td>3.886273</td>\n",
       "      <td>0.454613</td>\n",
       "    </tr>\n",
       "  </tbody>\n",
       "</table>\n",
       "</div>"
      ],
      "text/plain": [
       "         room_type  log_price      pred  pred_std\n",
       "0  Entire home/apt   5.172175  5.174580  0.355463\n",
       "1     Private room   4.340669  4.330135  0.350413\n",
       "2      Shared room   3.880654  3.886273  0.454613"
      ]
     },
     "execution_count": 138,
     "metadata": {},
     "output_type": "execute_result"
    }
   ],
   "source": [
    "flds = ['room_type', 'log_price', 'pred', 'pred_std']\n",
    "room_type_summ = x[flds].groupby('room_type', as_index=False).mean()\n",
    "room_type_summ"
   ]
  },
  {
   "cell_type": "markdown",
   "metadata": {
    "hidden": true
   },
   "source": [
    "The impact on the price of the three different types makes sense. However, we have a high standard deviation for shared rooms since there is much less data available for this room type. A senseful analysis if Airbnb would be a client could be why that is so. Maybe it is less represented because their is much less demand for such a roomtype. Another reason could be that the hosts offer this type less frequently because it is less profitable since they have to offer it for a much lower price since they would not reach any bookings otherwise."
   ]
  },
  {
   "cell_type": "markdown",
   "metadata": {
    "hidden": true
   },
   "source": [
    "### Analysis bedrooms"
   ]
  },
  {
   "cell_type": "code",
   "execution_count": 139,
   "metadata": {
    "hidden": true
   },
   "outputs": [
    {
     "data": {
      "image/png": "[encoded data removed]",
      "text/plain": [
       "<Figure size 432x288 with 1 Axes>"
      ]
     },
     "metadata": {
      "needs_background": "light"
     },
     "output_type": "display_data"
    }
   ],
   "source": [
    "x.bedrooms.value_counts().plot.barh();"
   ]
  },
  {
   "cell_type": "code",
   "execution_count": 140,
   "metadata": {
    "hidden": true
   },
   "outputs": [
    {
     "data": {
      "text/html": [
       "<div>\n",
       "<style scoped>\n",
       "    .dataframe tbody tr th:only-of-type {\n",
       "        vertical-align: middle;\n",
       "    }\n",
       "\n",
       "    .dataframe tbody tr th {\n",
       "        vertical-align: top;\n",
       "    }\n",
       "\n",
       "    .dataframe thead th {\n",
       "        text-align: right;\n",
       "    }\n",
       "</style>\n",
       "<table border=\"1\" class=\"dataframe\">\n",
       "  <thead>\n",
       "    <tr style=\"text-align: right;\">\n",
       "      <th></th>\n",
       "      <th>bedrooms</th>\n",
       "      <th>log_price</th>\n",
       "      <th>pred</th>\n",
       "      <th>pred_std</th>\n",
       "    </tr>\n",
       "  </thead>\n",
       "  <tbody>\n",
       "    <tr>\n",
       "      <th>0</th>\n",
       "      <td>0.0</td>\n",
       "      <td>4.826775</td>\n",
       "      <td>4.863535</td>\n",
       "      <td>0.332009</td>\n",
       "    </tr>\n",
       "    <tr>\n",
       "      <th>1</th>\n",
       "      <td>1.0</td>\n",
       "      <td>4.546864</td>\n",
       "      <td>4.541763</td>\n",
       "      <td>0.345035</td>\n",
       "    </tr>\n",
       "    <tr>\n",
       "      <th>2</th>\n",
       "      <td>2.0</td>\n",
       "      <td>5.286792</td>\n",
       "      <td>5.275654</td>\n",
       "      <td>0.375937</td>\n",
       "    </tr>\n",
       "    <tr>\n",
       "      <th>3</th>\n",
       "      <td>3.0</td>\n",
       "      <td>5.655218</td>\n",
       "      <td>5.651943</td>\n",
       "      <td>0.427977</td>\n",
       "    </tr>\n",
       "    <tr>\n",
       "      <th>4</th>\n",
       "      <td>4.0</td>\n",
       "      <td>5.977602</td>\n",
       "      <td>5.969902</td>\n",
       "      <td>0.467482</td>\n",
       "    </tr>\n",
       "    <tr>\n",
       "      <th>5</th>\n",
       "      <td>5.0</td>\n",
       "      <td>6.393548</td>\n",
       "      <td>6.299834</td>\n",
       "      <td>0.459050</td>\n",
       "    </tr>\n",
       "    <tr>\n",
       "      <th>6</th>\n",
       "      <td>6.0</td>\n",
       "      <td>6.493621</td>\n",
       "      <td>6.451655</td>\n",
       "      <td>0.412766</td>\n",
       "    </tr>\n",
       "    <tr>\n",
       "      <th>7</th>\n",
       "      <td>7.0</td>\n",
       "      <td>7.094187</td>\n",
       "      <td>6.674952</td>\n",
       "      <td>0.456915</td>\n",
       "    </tr>\n",
       "    <tr>\n",
       "      <th>8</th>\n",
       "      <td>9.0</td>\n",
       "      <td>6.224509</td>\n",
       "      <td>6.069745</td>\n",
       "      <td>0.438466</td>\n",
       "    </tr>\n",
       "    <tr>\n",
       "      <th>9</th>\n",
       "      <td>10.0</td>\n",
       "      <td>6.876605</td>\n",
       "      <td>6.350541</td>\n",
       "      <td>0.500689</td>\n",
       "    </tr>\n",
       "  </tbody>\n",
       "</table>\n",
       "</div>"
      ],
      "text/plain": [
       "   bedrooms  log_price      pred  pred_std\n",
       "0       0.0   4.826775  4.863535  0.332009\n",
       "1       1.0   4.546864  4.541763  0.345035\n",
       "2       2.0   5.286792  5.275654  0.375937\n",
       "3       3.0   5.655218  5.651943  0.427977\n",
       "4       4.0   5.977602  5.969902  0.467482\n",
       "5       5.0   6.393548  6.299834  0.459050\n",
       "6       6.0   6.493621  6.451655  0.412766\n",
       "7       7.0   7.094187  6.674952  0.456915\n",
       "8       9.0   6.224509  6.069745  0.438466\n",
       "9      10.0   6.876605  6.350541  0.500689"
      ]
     },
     "execution_count": 140,
     "metadata": {},
     "output_type": "execute_result"
    }
   ],
   "source": [
    "flds = ['bedrooms', 'log_price', 'pred', 'pred_std']\n",
    "bedrooms_summ = x[flds].groupby('bedrooms', as_index=False).mean()\n",
    "bedrooms_summ"
   ]
  },
  {
   "cell_type": "markdown",
   "metadata": {
    "hidden": true
   },
   "source": [
    "### Analysis accomodates"
   ]
  },
  {
   "cell_type": "code",
   "execution_count": 141,
   "metadata": {
    "hidden": true
   },
   "outputs": [
    {
     "data": {
      "image/png": "[encoded data removed]",
      "text/plain": [
       "<Figure size 432x288 with 1 Axes>"
      ]
     },
     "metadata": {
      "needs_background": "light"
     },
     "output_type": "display_data"
    }
   ],
   "source": [
    "x.accommodates.value_counts().plot.barh();"
   ]
  },
  {
   "cell_type": "code",
   "execution_count": 142,
   "metadata": {
    "hidden": true,
    "scrolled": true
   },
   "outputs": [
    {
     "data": {
      "text/html": [
       "<div>\n",
       "<style scoped>\n",
       "    .dataframe tbody tr th:only-of-type {\n",
       "        vertical-align: middle;\n",
       "    }\n",
       "\n",
       "    .dataframe tbody tr th {\n",
       "        vertical-align: top;\n",
       "    }\n",
       "\n",
       "    .dataframe thead th {\n",
       "        text-align: right;\n",
       "    }\n",
       "</style>\n",
       "<table border=\"1\" class=\"dataframe\">\n",
       "  <thead>\n",
       "    <tr style=\"text-align: right;\">\n",
       "      <th></th>\n",
       "      <th>accommodates</th>\n",
       "      <th>log_price</th>\n",
       "      <th>pred</th>\n",
       "      <th>pred_std</th>\n",
       "    </tr>\n",
       "  </thead>\n",
       "  <tbody>\n",
       "    <tr>\n",
       "      <th>0</th>\n",
       "      <td>1</td>\n",
       "      <td>4.199433</td>\n",
       "      <td>4.212765</td>\n",
       "      <td>0.387859</td>\n",
       "    </tr>\n",
       "    <tr>\n",
       "      <th>1</th>\n",
       "      <td>2</td>\n",
       "      <td>4.553888</td>\n",
       "      <td>4.560158</td>\n",
       "      <td>0.331126</td>\n",
       "    </tr>\n",
       "    <tr>\n",
       "      <th>2</th>\n",
       "      <td>3</td>\n",
       "      <td>4.825439</td>\n",
       "      <td>4.831483</td>\n",
       "      <td>0.338543</td>\n",
       "    </tr>\n",
       "    <tr>\n",
       "      <th>3</th>\n",
       "      <td>4</td>\n",
       "      <td>5.079010</td>\n",
       "      <td>5.060354</td>\n",
       "      <td>0.358800</td>\n",
       "    </tr>\n",
       "    <tr>\n",
       "      <th>4</th>\n",
       "      <td>5</td>\n",
       "      <td>5.246052</td>\n",
       "      <td>5.242129</td>\n",
       "      <td>0.375897</td>\n",
       "    </tr>\n",
       "    <tr>\n",
       "      <th>5</th>\n",
       "      <td>6</td>\n",
       "      <td>5.467813</td>\n",
       "      <td>5.447790</td>\n",
       "      <td>0.400805</td>\n",
       "    </tr>\n",
       "    <tr>\n",
       "      <th>6</th>\n",
       "      <td>7</td>\n",
       "      <td>5.492089</td>\n",
       "      <td>5.495462</td>\n",
       "      <td>0.410253</td>\n",
       "    </tr>\n",
       "    <tr>\n",
       "      <th>7</th>\n",
       "      <td>8</td>\n",
       "      <td>5.722287</td>\n",
       "      <td>5.671337</td>\n",
       "      <td>0.415530</td>\n",
       "    </tr>\n",
       "    <tr>\n",
       "      <th>8</th>\n",
       "      <td>9</td>\n",
       "      <td>5.799678</td>\n",
       "      <td>5.691314</td>\n",
       "      <td>0.424315</td>\n",
       "    </tr>\n",
       "    <tr>\n",
       "      <th>9</th>\n",
       "      <td>10</td>\n",
       "      <td>5.941850</td>\n",
       "      <td>5.846744</td>\n",
       "      <td>0.434631</td>\n",
       "    </tr>\n",
       "    <tr>\n",
       "      <th>10</th>\n",
       "      <td>11</td>\n",
       "      <td>5.730481</td>\n",
       "      <td>5.590125</td>\n",
       "      <td>0.450852</td>\n",
       "    </tr>\n",
       "    <tr>\n",
       "      <th>11</th>\n",
       "      <td>12</td>\n",
       "      <td>6.096317</td>\n",
       "      <td>5.998041</td>\n",
       "      <td>0.445833</td>\n",
       "    </tr>\n",
       "    <tr>\n",
       "      <th>12</th>\n",
       "      <td>13</td>\n",
       "      <td>5.841273</td>\n",
       "      <td>5.572636</td>\n",
       "      <td>0.398601</td>\n",
       "    </tr>\n",
       "    <tr>\n",
       "      <th>13</th>\n",
       "      <td>14</td>\n",
       "      <td>6.204607</td>\n",
       "      <td>6.299607</td>\n",
       "      <td>0.505711</td>\n",
       "    </tr>\n",
       "    <tr>\n",
       "      <th>14</th>\n",
       "      <td>15</td>\n",
       "      <td>5.609025</td>\n",
       "      <td>5.581602</td>\n",
       "      <td>0.499402</td>\n",
       "    </tr>\n",
       "    <tr>\n",
       "      <th>15</th>\n",
       "      <td>16</td>\n",
       "      <td>6.067563</td>\n",
       "      <td>5.918946</td>\n",
       "      <td>0.499067</td>\n",
       "    </tr>\n",
       "  </tbody>\n",
       "</table>\n",
       "</div>"
      ],
      "text/plain": [
       "    accommodates  log_price      pred  pred_std\n",
       "0              1   4.199433  4.212765  0.387859\n",
       "1              2   4.553888  4.560158  0.331126\n",
       "2              3   4.825439  4.831483  0.338543\n",
       "3              4   5.079010  5.060354  0.358800\n",
       "4              5   5.246052  5.242129  0.375897\n",
       "5              6   5.467813  5.447790  0.400805\n",
       "6              7   5.492089  5.495462  0.410253\n",
       "7              8   5.722287  5.671337  0.415530\n",
       "8              9   5.799678  5.691314  0.424315\n",
       "9             10   5.941850  5.846744  0.434631\n",
       "10            11   5.730481  5.590125  0.450852\n",
       "11            12   6.096317  5.998041  0.445833\n",
       "12            13   5.841273  5.572636  0.398601\n",
       "13            14   6.204607  6.299607  0.505711\n",
       "14            15   5.609025  5.581602  0.499402\n",
       "15            16   6.067563  5.918946  0.499067"
      ]
     },
     "execution_count": 142,
     "metadata": {},
     "output_type": "execute_result"
    }
   ],
   "source": [
    "flds = ['accommodates', 'log_price', 'pred', 'pred_std']\n",
    "accommodates_summ = x[flds].groupby('accommodates', as_index=False).mean()\n",
    "accommodates_summ"
   ]
  },
  {
   "cell_type": "markdown",
   "metadata": {
    "hidden": true
   },
   "source": [
    "'bedrooms' and 'accomodates' show a similar analysis. The amount of data decreases while the number of 'bedrooms'/'accomodates' increases. This makes sense as demand and offer will be smaller for larger accommodations. The price also increases with the number of 'bedrooms'/'accomodations' until you reach 7 bedrooms/ 9 guests. After that the price is relatively stable as these large accomodations probably can only be booked as full accomodations with one single price for the accomodation independently of the number of bedrooms/guests. So that groups of e.g. 10 guests book the same accomodations as e.g. groups of 14 guests. Thus they pay on average similar prices. "
   ]
  },
  {
   "cell_type": "markdown",
   "metadata": {
    "hidden": true
   },
   "source": [
    "### Analysis bathrooms"
   ]
  },
  {
   "cell_type": "code",
   "execution_count": 143,
   "metadata": {
    "hidden": true
   },
   "outputs": [
    {
     "data": {
      "image/png": "[encoded data removed]",
      "text/plain": [
       "<Figure size 432x288 with 1 Axes>"
      ]
     },
     "metadata": {
      "needs_background": "light"
     },
     "output_type": "display_data"
    }
   ],
   "source": [
    "x.bathrooms.value_counts().plot.barh();"
   ]
  },
  {
   "cell_type": "code",
   "execution_count": 144,
   "metadata": {
    "hidden": true,
    "scrolled": true
   },
   "outputs": [
    {
     "data": {
      "text/html": [
       "<div>\n",
       "<style scoped>\n",
       "    .dataframe tbody tr th:only-of-type {\n",
       "        vertical-align: middle;\n",
       "    }\n",
       "\n",
       "    .dataframe tbody tr th {\n",
       "        vertical-align: top;\n",
       "    }\n",
       "\n",
       "    .dataframe thead th {\n",
       "        text-align: right;\n",
       "    }\n",
       "</style>\n",
       "<table border=\"1\" class=\"dataframe\">\n",
       "  <thead>\n",
       "    <tr style=\"text-align: right;\">\n",
       "      <th></th>\n",
       "      <th>bathrooms</th>\n",
       "      <th>log_price</th>\n",
       "      <th>pred</th>\n",
       "      <th>pred_std</th>\n",
       "    </tr>\n",
       "  </thead>\n",
       "  <tbody>\n",
       "    <tr>\n",
       "      <th>0</th>\n",
       "      <td>0.0</td>\n",
       "      <td>4.442103</td>\n",
       "      <td>4.315036</td>\n",
       "      <td>0.407660</td>\n",
       "    </tr>\n",
       "    <tr>\n",
       "      <th>1</th>\n",
       "      <td>0.5</td>\n",
       "      <td>4.193697</td>\n",
       "      <td>4.324110</td>\n",
       "      <td>0.384660</td>\n",
       "    </tr>\n",
       "    <tr>\n",
       "      <th>2</th>\n",
       "      <td>1.0</td>\n",
       "      <td>4.675152</td>\n",
       "      <td>4.675894</td>\n",
       "      <td>0.342601</td>\n",
       "    </tr>\n",
       "    <tr>\n",
       "      <th>3</th>\n",
       "      <td>1.5</td>\n",
       "      <td>4.801764</td>\n",
       "      <td>4.788037</td>\n",
       "      <td>0.384931</td>\n",
       "    </tr>\n",
       "    <tr>\n",
       "      <th>4</th>\n",
       "      <td>2.0</td>\n",
       "      <td>5.200242</td>\n",
       "      <td>5.194246</td>\n",
       "      <td>0.396630</td>\n",
       "    </tr>\n",
       "    <tr>\n",
       "      <th>5</th>\n",
       "      <td>2.5</td>\n",
       "      <td>5.489235</td>\n",
       "      <td>5.447070</td>\n",
       "      <td>0.448153</td>\n",
       "    </tr>\n",
       "    <tr>\n",
       "      <th>6</th>\n",
       "      <td>3.0</td>\n",
       "      <td>5.600368</td>\n",
       "      <td>5.602684</td>\n",
       "      <td>0.447811</td>\n",
       "    </tr>\n",
       "    <tr>\n",
       "      <th>7</th>\n",
       "      <td>3.5</td>\n",
       "      <td>6.160016</td>\n",
       "      <td>5.968241</td>\n",
       "      <td>0.486899</td>\n",
       "    </tr>\n",
       "    <tr>\n",
       "      <th>8</th>\n",
       "      <td>4.0</td>\n",
       "      <td>5.706388</td>\n",
       "      <td>5.767853</td>\n",
       "      <td>0.438721</td>\n",
       "    </tr>\n",
       "    <tr>\n",
       "      <th>9</th>\n",
       "      <td>4.5</td>\n",
       "      <td>6.449204</td>\n",
       "      <td>6.555766</td>\n",
       "      <td>0.489210</td>\n",
       "    </tr>\n",
       "    <tr>\n",
       "      <th>10</th>\n",
       "      <td>5.0</td>\n",
       "      <td>5.354456</td>\n",
       "      <td>5.468156</td>\n",
       "      <td>0.403314</td>\n",
       "    </tr>\n",
       "    <tr>\n",
       "      <th>11</th>\n",
       "      <td>5.5</td>\n",
       "      <td>6.934942</td>\n",
       "      <td>6.869670</td>\n",
       "      <td>0.408488</td>\n",
       "    </tr>\n",
       "    <tr>\n",
       "      <th>12</th>\n",
       "      <td>6.0</td>\n",
       "      <td>5.936278</td>\n",
       "      <td>5.609093</td>\n",
       "      <td>0.460787</td>\n",
       "    </tr>\n",
       "    <tr>\n",
       "      <th>13</th>\n",
       "      <td>6.5</td>\n",
       "      <td>7.334356</td>\n",
       "      <td>6.883995</td>\n",
       "      <td>0.480442</td>\n",
       "    </tr>\n",
       "    <tr>\n",
       "      <th>14</th>\n",
       "      <td>7.0</td>\n",
       "      <td>7.377759</td>\n",
       "      <td>7.021475</td>\n",
       "      <td>0.434519</td>\n",
       "    </tr>\n",
       "    <tr>\n",
       "      <th>15</th>\n",
       "      <td>7.5</td>\n",
       "      <td>7.598399</td>\n",
       "      <td>7.107906</td>\n",
       "      <td>0.378938</td>\n",
       "    </tr>\n",
       "    <tr>\n",
       "      <th>16</th>\n",
       "      <td>8.0</td>\n",
       "      <td>5.855185</td>\n",
       "      <td>5.458278</td>\n",
       "      <td>0.364036</td>\n",
       "    </tr>\n",
       "  </tbody>\n",
       "</table>\n",
       "</div>"
      ],
      "text/plain": [
       "    bathrooms  log_price      pred  pred_std\n",
       "0         0.0   4.442103  4.315036  0.407660\n",
       "1         0.5   4.193697  4.324110  0.384660\n",
       "2         1.0   4.675152  4.675894  0.342601\n",
       "3         1.5   4.801764  4.788037  0.384931\n",
       "4         2.0   5.200242  5.194246  0.396630\n",
       "5         2.5   5.489235  5.447070  0.448153\n",
       "6         3.0   5.600368  5.602684  0.447811\n",
       "7         3.5   6.160016  5.968241  0.486899\n",
       "8         4.0   5.706388  5.767853  0.438721\n",
       "9         4.5   6.449204  6.555766  0.489210\n",
       "10        5.0   5.354456  5.468156  0.403314\n",
       "11        5.5   6.934942  6.869670  0.408488\n",
       "12        6.0   5.936278  5.609093  0.460787\n",
       "13        6.5   7.334356  6.883995  0.480442\n",
       "14        7.0   7.377759  7.021475  0.434519\n",
       "15        7.5   7.598399  7.107906  0.378938\n",
       "16        8.0   5.855185  5.458278  0.364036"
      ]
     },
     "execution_count": 144,
     "metadata": {},
     "output_type": "execute_result"
    }
   ],
   "source": [
    "flds = ['bathrooms', 'log_price', 'pred', 'pred_std']\n",
    "bathrooms_summ = x[flds].groupby('bathrooms', as_index=False).mean()\n",
    "bathrooms_summ"
   ]
  },
  {
   "cell_type": "markdown",
   "metadata": {
    "hidden": true
   },
   "source": [
    "'Bathrooms' again shows a similar development as the above features. The count shows that accomodations very rarely include more than 3 bathrooms. Surprisingly this is not reflected as strongly as expected in the standard deviation which is the overall smallest for the highest number of bathrooms '16'. This could be due to the fact that there are only very few observations in a similar price range."
   ]
  },
  {
   "cell_type": "markdown",
   "metadata": {
    "heading_collapsed": true
   },
   "source": [
    "## One-hot encoding"
   ]
  },
  {
   "cell_type": "markdown",
   "metadata": {
    "hidden": true
   },
   "source": [
    "It is useful to do one-hot encoding as a closer look at the by far most important feature 'room_type' suggests that entire homes/appartments and private rooms are of much higher relevance than shared rooms. We want to see how this is reflected in the one-hot encoded feature importance."
   ]
  },
  {
   "cell_type": "code",
   "execution_count": 145,
   "metadata": {
    "hidden": true
   },
   "outputs": [
    {
     "name": "stdout",
     "output_type": "stream",
     "text": [
      "[0.21077695346030048, 0.38878346652113427, 0.913530934058412, 0.703905102342336]\n"
     ]
    }
   ],
   "source": [
    "df_trn2, y_trn, nas = proc_df(df_raw, 'log_price', max_n_cat=4)\n",
    "X_train, X_valid, X_test = split_vals(df_trn2, n_trn, n_final)\n",
    "m = RandomForestRegressor(n_estimators=40, min_samples_leaf=3, max_features=0.5, n_jobs=-1)\n",
    "m.fit(X_train, y_train);\n",
    "print_score(m)"
   ]
  },
  {
   "cell_type": "code",
   "execution_count": 146,
   "metadata": {
    "hidden": true
   },
   "outputs": [
    {
     "data": {
      "image/png": "[encoded data removed]",
      "text/plain": [
       "<Figure size 864x504 with 1 Axes>"
      ]
     },
     "metadata": {
      "needs_background": "light"
     },
     "output_type": "display_data"
    }
   ],
   "source": [
    "plot_fi(rf_feat_importance(m, df_trn2)[:20]);"
   ]
  },
  {
   "cell_type": "markdown",
   "metadata": {
    "hidden": true
   },
   "source": [
    "This assumption about the 'room_type' feature is confirmed as expected. The privacy of the accomodation or at least the bedroom has the most important impact on the accommodation price."
   ]
  },
  {
   "cell_type": "markdown",
   "metadata": {
    "heading_collapsed": true
   },
   "source": [
    "## Removing redundant features"
   ]
  },
  {
   "cell_type": "code",
   "execution_count": 147,
   "metadata": {
    "hidden": true
   },
   "outputs": [],
   "source": [
    "from scipy.cluster import hierarchy as hc"
   ]
  },
  {
   "cell_type": "code",
   "execution_count": 148,
   "metadata": {
    "hidden": true,
    "scrolled": true
   },
   "outputs": [
    {
     "data": {
      "image/png": "[encoded data removed]",
      "text/plain": [
       "<Figure size 1872x1440 with 1 Axes>"
      ]
     },
     "metadata": {
      "needs_background": "light"
     },
     "output_type": "display_data"
    }
   ],
   "source": [
    "corr = np.round(scipy.stats.spearmanr(df_keep).correlation, 4)\n",
    "corr_condensed = hc.distance.squareform(1-corr)\n",
    "z = hc.linkage(corr_condensed, method='average')\n",
    "fig = plt.figure(figsize=(26,20))\n",
    "dendrogram = hc.dendrogram(z, labels=df_keep.columns, orientation='left', leaf_font_size=16)\n",
    "plt.show()"
   ]
  },
  {
   "cell_type": "markdown",
   "metadata": {
    "hidden": true
   },
   "source": [
    "The dendogram identifies less correlations than ecpected. 'host_sinceWeek' and 'host_sinceDayofyear' of course don't need to be both in the data. Maybe we can even exclude both since we also have 'host_sinceDayofweek' in the data. The same is true for 'last_reviewWeek' and 'last_reviewDayofyear'. The correlation between latitude and longitude also makes sense since they together define the location. However, we've 2 more features defining the location with 'zipcode' and 'neighbourhood' that do not show any correlation with each other or 'longitude'/'latitude'. I want to check anyways if the quality of our model increases once we exclude one of them. The correlation between 'beds' and 'accomodates' also makes sense as they both refer to the number of guests. We should try to exclude one of them."
   ]
  },
  {
   "cell_type": "code",
   "execution_count": 149,
   "metadata": {
    "hidden": true
   },
   "outputs": [],
   "source": [
    "def get_oob(df):\n",
    "    m = RandomForestRegressor(n_estimators=30, min_samples_leaf=3, max_features=0.5, n_jobs=-1, oob_score=True)\n",
    "    x, _, _ = split_vals(df, n_trn, n_final)\n",
    "    m.fit(x, y_train)\n",
    "    return m.oob_score_"
   ]
  },
  {
   "cell_type": "code",
   "execution_count": 150,
   "metadata": {
    "hidden": true
   },
   "outputs": [
    {
     "data": {
      "text/plain": [
       "0.6846773732401861"
      ]
     },
     "execution_count": 150,
     "metadata": {},
     "output_type": "execute_result"
    }
   ],
   "source": [
    "get_oob(df_keep)"
   ]
  },
  {
   "cell_type": "code",
   "execution_count": 151,
   "metadata": {
    "hidden": true,
    "scrolled": true
   },
   "outputs": [
    {
     "name": "stdout",
     "output_type": "stream",
     "text": [
      "host_sinceDayofyear 0.6863326422172207\n",
      "host_sinceMonth 0.6846615185933598\n",
      "host_sinceWeek 0.6852158168180026\n",
      "host_sinceDayofweek 0.6855829163443314\n",
      "['host_sinceMonth', 'host_sinceDayofyear', 'host_sinceDayofweek'] 0.6855544877609012\n",
      "last_reviewMonth 0.6847599058111955\n",
      "last_reviewWeek 0.684927781917221\n",
      "last_reviewDayofyear 0.685016422248936\n"
     ]
    },
    {
     "name": "stderr",
     "output_type": "stream",
     "text": [
      "C:\\Users\\bolli\\Anaconda3\\envs\\fastai-cpu-v0.7\\lib\\site-packages\\sklearn\\ensemble\\_forest.py:815: UserWarning: Some inputs do not have OOB scores. This probably means too few trees were used to compute any reliable oob estimates.\n",
      "  warn(\"Some inputs do not have OOB scores. \"\n"
     ]
    },
    {
     "name": "stdout",
     "output_type": "stream",
     "text": [
      "['last_reviewMonth', 'last_reviewDayofyear'] 0.6844719587717915\n",
      "last_reviewWeek_na 0.6846352393382084\n",
      "review_scores_rating_na 0.6854134494496034\n",
      "['last_reviewWeek_na', 'last_reviewMonth_na', 'last_reviewDay_na', 'last_reviewDayofyear_na', 'last_reviewDayofweek_na'] 0.6832449433471169\n",
      "first_reviewMonth 0.6838300304290009\n",
      "first_reviewDayofyear 0.6834588235195327\n"
     ]
    },
    {
     "name": "stderr",
     "output_type": "stream",
     "text": [
      "C:\\Users\\bolli\\Anaconda3\\envs\\fastai-cpu-v0.7\\lib\\site-packages\\sklearn\\ensemble\\_forest.py:815: UserWarning: Some inputs do not have OOB scores. This probably means too few trees were used to compute any reliable oob estimates.\n",
      "  warn(\"Some inputs do not have OOB scores. \"\n"
     ]
    },
    {
     "name": "stdout",
     "output_type": "stream",
     "text": [
      "first_reviewWeek 0.68386226491786\n",
      "['first_reviewMonth', 'first_reviewDayofyear'] 0.6843753930624271\n"
     ]
    }
   ],
   "source": [
    "for c in ('host_sinceDayofyear','host_sinceMonth', 'host_sinceWeek', 'host_sinceDayofweek',['host_sinceMonth','host_sinceDayofyear', 'host_sinceDayofweek'],\n",
    "          'last_reviewMonth','last_reviewWeek', 'last_reviewDayofyear',['last_reviewMonth','last_reviewDayofyear'],\n",
    "          'last_reviewWeek_na','review_scores_rating_na',['last_reviewWeek_na','last_reviewMonth_na','last_reviewDay_na','last_reviewDayofyear_na','last_reviewDayofweek_na'],\n",
    "          'first_reviewMonth','first_reviewDayofyear','first_reviewWeek',['first_reviewMonth','first_reviewDayofyear']):\n",
    "    print(c, get_oob(df_keep.drop(c, axis=1)))"
   ]
  },
  {
   "cell_type": "code",
   "execution_count": 152,
   "metadata": {
    "hidden": true
   },
   "outputs": [
    {
     "name": "stdout",
     "output_type": "stream",
     "text": [
      "beds 0.6863199408151592\n",
      "accommodates 0.6760296665225665\n",
      "bedrooms 0.6786087891052996\n"
     ]
    }
   ],
   "source": [
    "for c in ('beds','accommodates','bedrooms'):\n",
    "    print(c, get_oob(df_keep.drop(c, axis=1)))"
   ]
  },
  {
   "cell_type": "code",
   "execution_count": 153,
   "metadata": {
    "hidden": true,
    "scrolled": true
   },
   "outputs": [
    {
     "name": "stdout",
     "output_type": "stream",
     "text": [
      "latitude 0.6755264225708609\n",
      "longitude 0.6703941965440856\n",
      "['latitude', 'longitude'] 0.661563747728311\n",
      "zipcode 0.6814228170936276\n",
      "neighbourhood 0.6856568363637667\n"
     ]
    }
   ],
   "source": [
    "for c in ('latitude','longitude',['latitude','longitude'],'zipcode','neighbourhood'):\n",
    "    print(c, get_oob(df_keep.drop(c, axis=1)))"
   ]
  },
  {
   "cell_type": "code",
   "execution_count": 154,
   "metadata": {
    "hidden": true,
    "scrolled": true
   },
   "outputs": [
    {
     "data": {
      "text/plain": [
       "0.6869301223601083"
      ]
     },
     "execution_count": 154,
     "metadata": {},
     "output_type": "execute_result"
    }
   ],
   "source": [
    "to_drop = ['host_sinceDayofyear','host_sinceMonth', 'host_sinceDayofweek',\n",
    "           'last_reviewWeek','last_reviewDayofyear',\n",
    "           'review_scores_rating_na','last_reviewMonth_na','last_reviewDay_na','last_reviewDayofyear_na','last_reviewDayofweek_na',\n",
    "           'first_reviewWeek','first_reviewDayofyear',\n",
    "           'beds','neighbourhood']\n",
    "get_oob(df_keep.drop(to_drop, axis=1))"
   ]
  },
  {
   "cell_type": "code",
   "execution_count": 155,
   "metadata": {
    "hidden": true
   },
   "outputs": [],
   "source": [
    "df_keep.drop(to_drop, axis=1, inplace=True)\n",
    "X_train, X_valid, X_train = split_vals(df_keep, n_trn, n_final)"
   ]
  },
  {
   "cell_type": "code",
   "execution_count": 156,
   "metadata": {
    "hidden": true
   },
   "outputs": [
    {
     "data": {
      "image/png": "[encoded data removed]",
      "text/plain": [
       "<Figure size 1872x1440 with 1 Axes>"
      ]
     },
     "metadata": {
      "needs_background": "light"
     },
     "output_type": "display_data"
    }
   ],
   "source": [
    "corr = np.round(scipy.stats.spearmanr(df_keep).correlation, 4)\n",
    "corr_condensed = hc.distance.squareform(1-corr)\n",
    "z = hc.linkage(corr_condensed, method='average')\n",
    "fig = plt.figure(figsize=(26,20))\n",
    "dendrogram = hc.dendrogram(z, labels=df_keep.columns, orientation='left', leaf_font_size=16)\n",
    "plt.show()"
   ]
  },
  {
   "cell_type": "markdown",
   "metadata": {
    "hidden": true
   },
   "source": [
    "We now have much fewer points of correlation and a better quality in the model. The only amenities with a high correlation are the washer and dryer which makes perfect sense as they are used together and thus usually come together. Let's see if we can drop one of them."
   ]
  },
  {
   "cell_type": "code",
   "execution_count": 157,
   "metadata": {
    "hidden": true
   },
   "outputs": [
    {
     "name": "stdout",
     "output_type": "stream",
     "text": [
      "has_Dryer 0.6879246728601722\n",
      "has_Washer 0.6866569282789794\n"
     ]
    }
   ],
   "source": [
    "for c in ('has_Dryer','has_Washer'):\n",
    "    print(c, get_oob(df_keep.drop(c, axis=1)))"
   ]
  },
  {
   "cell_type": "code",
   "execution_count": 158,
   "metadata": {
    "hidden": true
   },
   "outputs": [],
   "source": [
    "to_drop = ['has_Dryer']\n",
    "df_keep.drop(to_drop, axis=1, inplace=True)\n",
    "X_train, X_valid, X_train = split_vals(df_keep, n_trn, n_final)"
   ]
  },
  {
   "cell_type": "code",
   "execution_count": 159,
   "metadata": {
    "hidden": true,
    "scrolled": false
   },
   "outputs": [
    {
     "data": {
      "text/plain": [
       "Index(['room_type', 'bedrooms', 'bathrooms', 'accommodates', 'longitude',\n",
       "       'zipcode', 'latitude', 'name', 'thumbnail_url', 'description', 'id',\n",
       "       'city', 'host_sinceDay', 'review_scores_rating', 'number_of_reviews',\n",
       "       'host_response_rate', 'host_sinceWeek', 'has_TV', 'property_type',\n",
       "       'host_sinceYear', 'first_reviewDay', 'last_reviewDay', 'has_Gym',\n",
       "       'cancellation_policy', 'first_reviewDayofweek', 'last_reviewDayofweek',\n",
       "       'last_reviewMonth', 'has_Elevator', 'has_Indoor_fireplace',\n",
       "       'first_reviewYear', 'is_family_friendly', 'first_reviewMonth',\n",
       "       'instant_bookable', 'translation_missing', 'has_Doorman', 'has_Shampoo',\n",
       "       'has_Fire_extinguisher', 'host_identity_verified', 'has_aircon',\n",
       "       'Free_parking', 'has_Washer', 'Laptop_friendly_workspace',\n",
       "       'has_Hangers', 'has_hairdryer', 'has_Lock_on_bedroom_door',\n",
       "       'last_reviewYear', 'has_First_aid_kit', 'has_Essentials', 'has_Iron',\n",
       "       'has_Pool', 'is_Suitable_for_events', 'last_reviewWeek_na',\n",
       "       'has_Smoke/CO_detector', 'has_kitchen', 'Pets_allowed',\n",
       "       'has_electric_doorbell', 'TwentyFourHour_checkIn',\n",
       "       'Breakfast_included'],\n",
       "      dtype='object')"
      ]
     },
     "execution_count": 159,
     "metadata": {},
     "output_type": "execute_result"
    }
   ],
   "source": [
    "df_keep.columns"
   ]
  },
  {
   "cell_type": "code",
   "execution_count": 160,
   "metadata": {
    "hidden": true
   },
   "outputs": [],
   "source": [
    "np.save('tmp/keep_cols_airbnb.npy', np.array(df_keep.columns))"
   ]
  },
  {
   "cell_type": "code",
   "execution_count": 161,
   "metadata": {
    "hidden": true
   },
   "outputs": [],
   "source": [
    "keep_cols = np.load('tmp/keep_cols_airbnb.npy', allow_pickle=True)\n",
    "df_keep = df[keep_cols]"
   ]
  },
  {
   "cell_type": "code",
   "execution_count": 162,
   "metadata": {
    "hidden": true
   },
   "outputs": [
    {
     "data": {
      "text/plain": [
       "((54111, 58), (54111,), (10000, 58), (10000, 58))"
      ]
     },
     "execution_count": 162,
     "metadata": {},
     "output_type": "execute_result"
    }
   ],
   "source": [
    "X_train, X_valid, X_test = split_vals(df_keep, n_trn, n_final)\n",
    "y_train, y_valid, y_test = split_vals(y, n_trn, n_final)\n",
    "\n",
    "X_train.shape, y_train.shape, X_valid.shape, X_test.shape"
   ]
  },
  {
   "cell_type": "code",
   "execution_count": 163,
   "metadata": {
    "hidden": true,
    "scrolled": false
   },
   "outputs": [
    {
     "name": "stdout",
     "output_type": "stream",
     "text": [
      "[0.2134570757445286, 0.3873235570556216, 0.911317968610189, 0.7061246418825695, 0.6970225777997643]\n"
     ]
    }
   ],
   "source": [
    "m = RandomForestRegressor(n_estimators=50, min_samples_leaf=3, max_features=0.5, n_jobs=-1, oob_score=True)\n",
    "m.fit(X_train, y_train)\n",
    "print_score(m)"
   ]
  },
  {
   "cell_type": "markdown",
   "metadata": {
    "hidden": true
   },
   "source": [
    "Our overall model quality has improved slightly dropping these columns."
   ]
  },
  {
   "cell_type": "markdown",
   "metadata": {
    "heading_collapsed": true
   },
   "source": [
    "## Partial dependence"
   ]
  },
  {
   "cell_type": "code",
   "execution_count": 164,
   "metadata": {
    "hidden": true
   },
   "outputs": [],
   "source": [
    "from pdpbox import pdp\n",
    "from plotnine import *"
   ]
  },
  {
   "cell_type": "code",
   "execution_count": 165,
   "metadata": {
    "hidden": true,
    "scrolled": true
   },
   "outputs": [
    {
     "data": {
      "image/png": "[encoded data removed]",
      "text/plain": [
       "<Figure size 864x504 with 1 Axes>"
      ]
     },
     "metadata": {
      "needs_background": "light"
     },
     "output_type": "display_data"
    }
   ],
   "source": [
    "plot_fi(rf_feat_importance(m, df_keep)[:20]);"
   ]
  },
  {
   "cell_type": "markdown",
   "metadata": {
    "hidden": true
   },
   "source": [
    "At first, I recognize that although no correlation is shown between the 3 different features concerning 'host_since' they all seem to have some importance and describe the same effect. Thus, I'am checking if I can drop two of them."
   ]
  },
  {
   "cell_type": "code",
   "execution_count": 166,
   "metadata": {
    "hidden": true
   },
   "outputs": [
    {
     "data": {
      "text/plain": [
       "0.6874798672518321"
      ]
     },
     "execution_count": 166,
     "metadata": {},
     "output_type": "execute_result"
    }
   ],
   "source": [
    "get_oob(df_keep)"
   ]
  },
  {
   "cell_type": "code",
   "execution_count": 168,
   "metadata": {
    "hidden": true
   },
   "outputs": [
    {
     "name": "stdout",
     "output_type": "stream",
     "text": [
      "host_sinceYear 0.6863161608999365\n",
      "host_sinceDay 0.6880787795237644\n",
      "host_sinceWeek 0.6870557887588563\n",
      "['host_sinceDay', 'host_sinceWeek'] 0.6876133781531395\n"
     ]
    }
   ],
   "source": [
    "for c in ('host_sinceYear','host_sinceDay','host_sinceWeek',['host_sinceDay','host_sinceWeek']):\n",
    "    print(c, get_oob(df_keep.drop(c, axis=1)))"
   ]
  },
  {
   "cell_type": "code",
   "execution_count": 169,
   "metadata": {
    "hidden": true
   },
   "outputs": [],
   "source": [
    "to_drop = ['host_sinceDay','host_sinceWeek']\n",
    "df_keep.drop(to_drop, axis=1, inplace=True)\n",
    "X_train, X_valid, X_train = split_vals(df_keep, n_trn, n_final)"
   ]
  },
  {
   "cell_type": "code",
   "execution_count": 170,
   "metadata": {
    "hidden": true
   },
   "outputs": [
    {
     "data": {
      "text/plain": [
       "((54111, 56), (54111,), (10000, 56), (10000, 56))"
      ]
     },
     "execution_count": 170,
     "metadata": {},
     "output_type": "execute_result"
    }
   ],
   "source": [
    "X_train, X_valid, X_test = split_vals(df_keep, n_trn, n_final)\n",
    "y_train, y_valid, y_test = split_vals(y, n_trn, n_final)\n",
    "\n",
    "X_train.shape, y_train.shape, X_valid.shape, X_test.shape"
   ]
  },
  {
   "cell_type": "code",
   "execution_count": 171,
   "metadata": {
    "hidden": true
   },
   "outputs": [
    {
     "name": "stdout",
     "output_type": "stream",
     "text": [
      "[0.21552299416724693, 0.38676849900760885, 0.9095930651007448, 0.7069663206329484, 0.6976002863898046]\n"
     ]
    }
   ],
   "source": [
    "m = RandomForestRegressor(n_estimators=50, min_samples_leaf=3, max_features=0.5, n_jobs=-1, oob_score=True)\n",
    "m.fit(X_train, y_train)\n",
    "print_score(m)"
   ]
  },
  {
   "cell_type": "code",
   "execution_count": 172,
   "metadata": {
    "hidden": true
   },
   "outputs": [
    {
     "data": {
      "image/png": "[encoded data removed]",
      "text/plain": [
       "<Figure size 864x504 with 1 Axes>"
      ]
     },
     "metadata": {
      "needs_background": "light"
     },
     "output_type": "display_data"
    }
   ],
   "source": [
    "plot_fi(rf_feat_importance(m, df_keep)[:20]);"
   ]
  },
  {
   "cell_type": "code",
   "execution_count": 173,
   "metadata": {
    "hidden": true
   },
   "outputs": [
    {
     "data": {
      "image/png": "[encoded data removed]",
      "text/plain": [
       "<Figure size 720x576 with 1 Axes>"
      ]
     },
     "metadata": {
      "needs_background": "light"
     },
     "output_type": "display_data"
    }
   ],
   "source": [
    "df_raw.plot('bedrooms', 'accommodates', 'scatter', alpha=0.01, figsize=(10,8));"
   ]
  },
  {
   "cell_type": "markdown",
   "metadata": {
    "hidden": true
   },
   "source": [
    "The plot illustrates why we've not found a correlation as high as one might expect between the number of bedrooms and the number of persons the accommodation accommodates. This is probably due to hostels etc. also being available on airbnb since we are observing a greater dispersion concerning the number of bedrooms with an increasing number of guests.  "
   ]
  },
  {
   "cell_type": "code",
   "execution_count": 174,
   "metadata": {
    "hidden": true,
    "scrolled": true
   },
   "outputs": [
    {
     "data": {
      "image/png": "[encoded data removed]",
      "text/plain": [
       "<Figure size 720x576 with 1 Axes>"
      ]
     },
     "metadata": {
      "needs_background": "light"
     },
     "output_type": "display_data"
    }
   ],
   "source": [
    "df_raw.plot('bedrooms', 'bathrooms', 'scatter', alpha=0.01, figsize=(10,8));"
   ]
  },
  {
   "cell_type": "markdown",
   "metadata": {
    "hidden": true
   },
   "source": [
    "The correlation is much clearer between bedrooms and bathrooms as they tend to increase together. This makes sense as accomodations with one bedroom for a larger number of guests also tend to only have one or two bathrooms (men/women) for the same number of guests.  "
   ]
  },
  {
   "cell_type": "code",
   "execution_count": 175,
   "metadata": {
    "hidden": true,
    "scrolled": false
   },
   "outputs": [
    {
     "data": {
      "text/plain": [
       "0.6878456137850953"
      ]
     },
     "execution_count": 175,
     "metadata": {},
     "output_type": "execute_result"
    }
   ],
   "source": [
    "get_oob(df_keep)"
   ]
  },
  {
   "cell_type": "code",
   "execution_count": 176,
   "metadata": {
    "hidden": true
   },
   "outputs": [
    {
     "data": {
      "text/plain": [
       "0.6811699400598017"
      ]
     },
     "execution_count": 176,
     "metadata": {},
     "output_type": "execute_result"
    }
   ],
   "source": [
    "get_oob(df_keep.drop('bathrooms', axis=1))"
   ]
  },
  {
   "cell_type": "markdown",
   "metadata": {
    "hidden": true
   },
   "source": [
    "However the quality of the model does not improve if we exclude the feature bathrooms. The correlation does not seem to be high enough and the feature itself to be to important."
   ]
  },
  {
   "cell_type": "code",
   "execution_count": 228,
   "metadata": {
    "hidden": true,
    "scrolled": true
   },
   "outputs": [
    {
     "ename": "TypeError",
     "evalue": "split_vals() takes 2 positional arguments but 3 were given",
     "output_type": "error",
     "traceback": [
      "\u001b[1;31m---------------------------------------------------------------------------\u001b[0m",
      "\u001b[1;31mTypeError\u001b[0m                                 Traceback (most recent call last)",
      "\u001b[1;32m<ipython-input-228-943ff042f579>\u001b[0m in \u001b[0;36m<module>\u001b[1;34m\u001b[0m\n\u001b[1;32m----> 1\u001b[1;33m \u001b[0mdf_train\u001b[0m\u001b[1;33m,\u001b[0m \u001b[0mdf_valid\u001b[0m\u001b[1;33m,\u001b[0m \u001b[0m_\u001b[0m \u001b[1;33m=\u001b[0m \u001b[0msplit_vals\u001b[0m\u001b[1;33m(\u001b[0m\u001b[0mdf_keep\u001b[0m\u001b[1;33m,\u001b[0m \u001b[0mn_trn\u001b[0m\u001b[1;33m,\u001b[0m \u001b[0mn_final\u001b[0m\u001b[1;33m)\u001b[0m\u001b[1;33m\u001b[0m\u001b[1;33m\u001b[0m\u001b[0m\n\u001b[0m",
      "\u001b[1;31mTypeError\u001b[0m: split_vals() takes 2 positional arguments but 3 were given"
     ]
    }
   ],
   "source": [
    "df_train, df_valid, _ = split_vals(df_keep, n_trn, n_final)"
   ]
  },
  {
   "cell_type": "code",
   "execution_count": 197,
   "metadata": {
    "hidden": true
   },
   "outputs": [
    {
     "data": {
      "text/plain": [
       "array([[1, 2.0, 1.0, 5, -73.95591409274564, 92, 40.82330385298332, 39535, 12374, 40655, 5297152, 5, 90.0, 8,\n",
       "        0, True, 1, 2012.0, 4.0, 4.0, True, 1, 5.0, 0.0, 4.0, True, False, 2014.0, True, 1.0, False, False,\n",
       "        False, True, False, True, True, True, True, False, False, False, False, 2016.0, False, True, False,\n",
       "        False, False, False, True, True, False, False, False, False]], dtype=object)"
      ]
     },
     "execution_count": 197,
     "metadata": {},
     "output_type": "execute_result"
    }
   ],
   "source": [
    "row = X_valid.values[None,0]; row"
   ]
  },
  {
   "cell_type": "code",
   "execution_count": 198,
   "metadata": {
    "hidden": true,
    "scrolled": false
   },
   "outputs": [],
   "source": [
    "prediction, bias, contributions = ti.predict(m,row)"
   ]
  },
  {
   "cell_type": "code",
   "execution_count": 199,
   "metadata": {
    "hidden": true
   },
   "outputs": [
    {
     "data": {
      "text/plain": [
       "(array([5.06674]), 4.781004719247603)"
      ]
     },
     "execution_count": 199,
     "metadata": {},
     "output_type": "execute_result"
    }
   ],
   "source": [
    "prediction[0], bias[0]"
   ]
  },
  {
   "cell_type": "code",
   "execution_count": 200,
   "metadata": {
    "hidden": true
   },
   "outputs": [],
   "source": [
    "idxs = np.argsort(contributions[0])"
   ]
  },
  {
   "cell_type": "code",
   "execution_count": 201,
   "metadata": {
    "hidden": true,
    "scrolled": true
   },
   "outputs": [
    {
     "data": {
      "text/plain": [
       "[('bathrooms', 1.0, -0.16684024760338956),\n",
       " ('latitude', 40.82330385298332, -0.09292555178027741),\n",
       " ('last_reviewMonth', 4.0, -0.06161710104254226),\n",
       " ('longitude', -73.95591409274564, -0.05761824494142269),\n",
       " ('cancellation_policy', 1, -0.023481694297400272),\n",
       " ('review_scores_rating', 90.0, -0.013453807428542212),\n",
       " ('name', 39535, -0.013257538571050028),\n",
       " ('last_reviewWeek_na', False, -0.00795884103052181),\n",
       " ('has_Doorman', False, -0.00696842575441595),\n",
       " ('has_Hangers', False, -0.006775773890377792),\n",
       " ('Breakfast_included', False, -0.006227420193501701),\n",
       " ('Laptop_friendly_workspace', False, -0.006193953769839151),\n",
       " ('has_Indoor_fireplace', False, -0.00535382822382287),\n",
       " ('property_type', 1, -0.0038749583783545915),\n",
       " ('has_electric_doorbell', False, -0.0034743676577429026),\n",
       " ('last_reviewDay', 4.0, -0.003362012382089041),\n",
       " ('has_Shampoo', True, -0.001997468148677708),\n",
       " ('translation_missing', False, -0.0019833249293824905),\n",
       " ('has_Fire_extinguisher', False, -0.0013828881758598754),\n",
       " ('thumbnail_url', 12374, -0.001145074980134737),\n",
       " ('last_reviewYear', 2016.0, -0.0006190570840495546),\n",
       " ('is_Suitable_for_events', False, -0.0005943897160347333),\n",
       " ('first_reviewYear', 2014.0, -0.00047688318699883324),\n",
       " ('has_Pool', False, -0.00046842089876983903),\n",
       " ('has_First_aid_kit', False, -6.846482573221734e-05),\n",
       " ('Pets_allowed', False, 0.0),\n",
       " ('has_Elevator', True, 0.0),\n",
       " ('instant_bookable', False, 0.0),\n",
       " ('has_Essentials', True, 0.0),\n",
       " ('TwentyFourHour_checkIn', False, 0.00018145672419940694),\n",
       " ('has_kitchen', True, 0.00045335294293787244),\n",
       " ('host_identity_verified', True, 0.001163303352669196),\n",
       " ('host_response_rate', 0, 0.002194996555523261),\n",
       " ('has_Lock_on_bedroom_door', False, 0.0024079558266689462),\n",
       " ('has_TV', True, 0.0026892184826142794),\n",
       " ('has_Smoke/CO_detector', True, 0.0028925847986846875),\n",
       " ('number_of_reviews', 8, 0.003011738139882603),\n",
       " ('first_reviewDay', 4.0, 0.0035653051310722893),\n",
       " ('has_aircon', True, 0.0037384568365010475),\n",
       " ('description', 40655, 0.004520322693468994),\n",
       " ('has_Iron', False, 0.004764693961388744),\n",
       " ('Free_parking', True, 0.004877187999746581),\n",
       " ('id', 5297152, 0.005526630949392146),\n",
       " ('has_hairdryer', False, 0.006180118695339232),\n",
       " ('last_reviewDayofweek', 0.0, 0.006491829701922977),\n",
       " ('first_reviewMonth', 1.0, 0.006752426188392189),\n",
       " ('first_reviewDayofweek', 5.0, 0.007524114521804801),\n",
       " ('city', 5, 0.008760663361308456),\n",
       " ('is_family_friendly', True, 0.00945227028219664),\n",
       " ('has_Washer', True, 0.010516410232217784),\n",
       " ('host_sinceYear', 2012.0, 0.01535830197317118),\n",
       " ('has_Gym', True, 0.031234465856181153),\n",
       " ('zipcode', 92, 0.0427664789474403),\n",
       " ('accommodates', 5, 0.14338813312929694),\n",
       " ('bedrooms', 2.0, 0.17961387860655584),\n",
       " ('room_type', 1, 0.2638278951803451)]"
      ]
     },
     "execution_count": 201,
     "metadata": {},
     "output_type": "execute_result"
    }
   ],
   "source": [
    "[o for o in zip(df_keep.columns[idxs], df_valid.iloc[0][idxs], contributions[0][idxs])]"
   ]
  },
  {
   "cell_type": "code",
   "execution_count": 202,
   "metadata": {
    "hidden": true
   },
   "outputs": [
    {
     "data": {
      "text/plain": [
       "0.28573445217999244"
      ]
     },
     "execution_count": 202,
     "metadata": {},
     "output_type": "execute_result"
    }
   ],
   "source": [
    "contributions[0].sum()"
   ]
  },
  {
   "cell_type": "markdown",
   "metadata": {
    "heading_collapsed": true
   },
   "source": [
    "## Extrapolation"
   ]
  },
  {
   "cell_type": "code",
   "execution_count": 203,
   "metadata": {
    "hidden": true
   },
   "outputs": [],
   "source": [
    "df_ext = df_keep.copy()\n",
    "df_ext['is_valid'] = 1\n",
    "df_ext.is_valid[:n_trn] = 0\n",
    "x, y, nas = proc_df(df_ext, 'is_valid')"
   ]
  },
  {
   "cell_type": "code",
   "execution_count": 204,
   "metadata": {
    "hidden": true
   },
   "outputs": [
    {
     "data": {
      "text/plain": [
       "0.716870639985967"
      ]
     },
     "execution_count": 204,
     "metadata": {},
     "output_type": "execute_result"
    }
   ],
   "source": [
    "m = RandomForestClassifier(n_estimators=40, min_samples_leaf=3, max_features=0.5, n_jobs=-1, oob_score=True)\n",
    "m.fit(x, y);\n",
    "m.oob_score_"
   ]
  },
  {
   "cell_type": "code",
   "execution_count": 205,
   "metadata": {
    "hidden": true,
    "scrolled": true
   },
   "outputs": [
    {
     "data": {
      "text/html": [
       "<div>\n",
       "<style scoped>\n",
       "    .dataframe tbody tr th:only-of-type {\n",
       "        vertical-align: middle;\n",
       "    }\n",
       "\n",
       "    .dataframe tbody tr th {\n",
       "        vertical-align: top;\n",
       "    }\n",
       "\n",
       "    .dataframe thead th {\n",
       "        text-align: right;\n",
       "    }\n",
       "</style>\n",
       "<table border=\"1\" class=\"dataframe\">\n",
       "  <thead>\n",
       "    <tr style=\"text-align: right;\">\n",
       "      <th></th>\n",
       "      <th>cols</th>\n",
       "      <th>imp</th>\n",
       "    </tr>\n",
       "  </thead>\n",
       "  <tbody>\n",
       "    <tr>\n",
       "      <th>10</th>\n",
       "      <td>id</td>\n",
       "      <td>0.078519</td>\n",
       "    </tr>\n",
       "    <tr>\n",
       "      <th>9</th>\n",
       "      <td>description</td>\n",
       "      <td>0.077925</td>\n",
       "    </tr>\n",
       "    <tr>\n",
       "      <th>7</th>\n",
       "      <td>name</td>\n",
       "      <td>0.076111</td>\n",
       "    </tr>\n",
       "    <tr>\n",
       "      <th>8</th>\n",
       "      <td>thumbnail_url</td>\n",
       "      <td>0.071188</td>\n",
       "    </tr>\n",
       "    <tr>\n",
       "      <th>6</th>\n",
       "      <td>latitude</td>\n",
       "      <td>0.065835</td>\n",
       "    </tr>\n",
       "    <tr>\n",
       "      <th>4</th>\n",
       "      <td>longitude</td>\n",
       "      <td>0.064843</td>\n",
       "    </tr>\n",
       "    <tr>\n",
       "      <th>5</th>\n",
       "      <td>zipcode</td>\n",
       "      <td>0.047684</td>\n",
       "    </tr>\n",
       "    <tr>\n",
       "      <th>13</th>\n",
       "      <td>number_of_reviews</td>\n",
       "      <td>0.039489</td>\n",
       "    </tr>\n",
       "    <tr>\n",
       "      <th>18</th>\n",
       "      <td>first_reviewDay</td>\n",
       "      <td>0.038252</td>\n",
       "    </tr>\n",
       "    <tr>\n",
       "      <th>19</th>\n",
       "      <td>last_reviewDay</td>\n",
       "      <td>0.036485</td>\n",
       "    </tr>\n",
       "  </tbody>\n",
       "</table>\n",
       "</div>"
      ],
      "text/plain": [
       "                 cols       imp\n",
       "10                 id  0.078519\n",
       "9         description  0.077925\n",
       "7                name  0.076111\n",
       "8       thumbnail_url  0.071188\n",
       "6            latitude  0.065835\n",
       "4           longitude  0.064843\n",
       "5             zipcode  0.047684\n",
       "13  number_of_reviews  0.039489\n",
       "18    first_reviewDay  0.038252\n",
       "19     last_reviewDay  0.036485"
      ]
     },
     "execution_count": 205,
     "metadata": {},
     "output_type": "execute_result"
    }
   ],
   "source": [
    "fi = rf_feat_importance(m, x); fi[:10]"
   ]
  },
  {
   "cell_type": "code",
   "execution_count": 208,
   "metadata": {
    "hidden": true
   },
   "outputs": [],
   "source": [
    "feats=['id', 'description', 'name','thumbnail_url']"
   ]
  },
  {
   "cell_type": "code",
   "execution_count": 209,
   "metadata": {
    "hidden": true
   },
   "outputs": [
    {
     "data": {
      "text/html": [
       "<div>\n",
       "<style scoped>\n",
       "    .dataframe tbody tr th:only-of-type {\n",
       "        vertical-align: middle;\n",
       "    }\n",
       "\n",
       "    .dataframe tbody tr th {\n",
       "        vertical-align: top;\n",
       "    }\n",
       "\n",
       "    .dataframe thead th {\n",
       "        text-align: right;\n",
       "    }\n",
       "</style>\n",
       "<table border=\"1\" class=\"dataframe\">\n",
       "  <thead>\n",
       "    <tr style=\"text-align: right;\">\n",
       "      <th></th>\n",
       "      <th>id</th>\n",
       "      <th>description</th>\n",
       "      <th>name</th>\n",
       "      <th>thumbnail_url</th>\n",
       "    </tr>\n",
       "  </thead>\n",
       "  <tbody>\n",
       "    <tr>\n",
       "      <th>count</th>\n",
       "      <td>54111.000000</td>\n",
       "      <td>54111.000000</td>\n",
       "      <td>54111.000000</td>\n",
       "      <td>54111.000000</td>\n",
       "    </tr>\n",
       "    <tr>\n",
       "      <th>mean</th>\n",
       "      <td>11266.959224</td>\n",
       "      <td>36.740638</td>\n",
       "      <td>36.739862</td>\n",
       "      <td>29.260951</td>\n",
       "    </tr>\n",
       "    <tr>\n",
       "      <th>std</th>\n",
       "      <td>6088.964094</td>\n",
       "      <td>21.194915</td>\n",
       "      <td>21.166557</td>\n",
       "      <td>20.721707</td>\n",
       "    </tr>\n",
       "    <tr>\n",
       "      <th>min</th>\n",
       "      <td>0.344000</td>\n",
       "      <td>0.001000</td>\n",
       "      <td>0.001000</td>\n",
       "      <td>0.000000</td>\n",
       "    </tr>\n",
       "    <tr>\n",
       "      <th>25%</th>\n",
       "      <td>6250.152500</td>\n",
       "      <td>18.383500</td>\n",
       "      <td>18.392000</td>\n",
       "      <td>10.251500</td>\n",
       "    </tr>\n",
       "    <tr>\n",
       "      <th>50%</th>\n",
       "      <td>12256.804000</td>\n",
       "      <td>36.688000</td>\n",
       "      <td>36.809000</td>\n",
       "      <td>28.764000</td>\n",
       "    </tr>\n",
       "    <tr>\n",
       "      <th>75%</th>\n",
       "      <td>16415.839500</td>\n",
       "      <td>55.083500</td>\n",
       "      <td>55.042500</td>\n",
       "      <td>47.334500</td>\n",
       "    </tr>\n",
       "    <tr>\n",
       "      <th>max</th>\n",
       "      <td>21228.356000</td>\n",
       "      <td>73.478000</td>\n",
       "      <td>73.359000</td>\n",
       "      <td>65.883000</td>\n",
       "    </tr>\n",
       "  </tbody>\n",
       "</table>\n",
       "</div>"
      ],
      "text/plain": [
       "                 id   description          name  thumbnail_url\n",
       "count  54111.000000  54111.000000  54111.000000   54111.000000\n",
       "mean   11266.959224     36.740638     36.739862      29.260951\n",
       "std     6088.964094     21.194915     21.166557      20.721707\n",
       "min        0.344000      0.001000      0.001000       0.000000\n",
       "25%     6250.152500     18.383500     18.392000      10.251500\n",
       "50%    12256.804000     36.688000     36.809000      28.764000\n",
       "75%    16415.839500     55.083500     55.042500      47.334500\n",
       "max    21228.356000     73.478000     73.359000      65.883000"
      ]
     },
     "execution_count": 209,
     "metadata": {},
     "output_type": "execute_result"
    }
   ],
   "source": [
    "(X_train[feats]/1000).describe()"
   ]
  },
  {
   "cell_type": "code",
   "execution_count": 210,
   "metadata": {
    "hidden": true
   },
   "outputs": [
    {
     "data": {
      "text/html": [
       "<div>\n",
       "<style scoped>\n",
       "    .dataframe tbody tr th:only-of-type {\n",
       "        vertical-align: middle;\n",
       "    }\n",
       "\n",
       "    .dataframe tbody tr th {\n",
       "        vertical-align: top;\n",
       "    }\n",
       "\n",
       "    .dataframe thead th {\n",
       "        text-align: right;\n",
       "    }\n",
       "</style>\n",
       "<table border=\"1\" class=\"dataframe\">\n",
       "  <thead>\n",
       "    <tr style=\"text-align: right;\">\n",
       "      <th></th>\n",
       "      <th>id</th>\n",
       "      <th>description</th>\n",
       "      <th>name</th>\n",
       "      <th>thumbnail_url</th>\n",
       "    </tr>\n",
       "  </thead>\n",
       "  <tbody>\n",
       "    <tr>\n",
       "      <th>count</th>\n",
       "      <td>10000.000000</td>\n",
       "      <td>10000.000000</td>\n",
       "      <td>10000.000000</td>\n",
       "      <td>10000.000000</td>\n",
       "    </tr>\n",
       "    <tr>\n",
       "      <th>mean</th>\n",
       "      <td>11265.598831</td>\n",
       "      <td>36.662108</td>\n",
       "      <td>36.682567</td>\n",
       "      <td>29.305076</td>\n",
       "    </tr>\n",
       "    <tr>\n",
       "      <th>std</th>\n",
       "      <td>6047.347009</td>\n",
       "      <td>21.210548</td>\n",
       "      <td>21.144892</td>\n",
       "      <td>20.735444</td>\n",
       "    </tr>\n",
       "    <tr>\n",
       "      <th>min</th>\n",
       "      <td>5.843000</td>\n",
       "      <td>0.011000</td>\n",
       "      <td>0.009000</td>\n",
       "      <td>0.000000</td>\n",
       "    </tr>\n",
       "    <tr>\n",
       "      <th>25%</th>\n",
       "      <td>6308.792250</td>\n",
       "      <td>18.444250</td>\n",
       "      <td>18.296500</td>\n",
       "      <td>10.129750</td>\n",
       "    </tr>\n",
       "    <tr>\n",
       "      <th>50%</th>\n",
       "      <td>12208.909000</td>\n",
       "      <td>36.827500</td>\n",
       "      <td>36.503500</td>\n",
       "      <td>28.781000</td>\n",
       "    </tr>\n",
       "    <tr>\n",
       "      <th>75%</th>\n",
       "      <td>16323.097250</td>\n",
       "      <td>54.924500</td>\n",
       "      <td>55.175000</td>\n",
       "      <td>47.338000</td>\n",
       "    </tr>\n",
       "    <tr>\n",
       "      <th>max</th>\n",
       "      <td>21230.903000</td>\n",
       "      <td>73.479000</td>\n",
       "      <td>73.349000</td>\n",
       "      <td>65.845000</td>\n",
       "    </tr>\n",
       "  </tbody>\n",
       "</table>\n",
       "</div>"
      ],
      "text/plain": [
       "                 id   description          name  thumbnail_url\n",
       "count  10000.000000  10000.000000  10000.000000   10000.000000\n",
       "mean   11265.598831     36.662108     36.682567      29.305076\n",
       "std     6047.347009     21.210548     21.144892      20.735444\n",
       "min        5.843000      0.011000      0.009000       0.000000\n",
       "25%     6308.792250     18.444250     18.296500      10.129750\n",
       "50%    12208.909000     36.827500     36.503500      28.781000\n",
       "75%    16323.097250     54.924500     55.175000      47.338000\n",
       "max    21230.903000     73.479000     73.349000      65.845000"
      ]
     },
     "execution_count": 210,
     "metadata": {},
     "output_type": "execute_result"
    }
   ],
   "source": [
    "(X_valid[feats]/1000).describe()"
   ]
  },
  {
   "cell_type": "code",
   "execution_count": 211,
   "metadata": {
    "hidden": true
   },
   "outputs": [
    {
     "data": {
      "text/plain": [
       "0.688206525677446"
      ]
     },
     "execution_count": 211,
     "metadata": {},
     "output_type": "execute_result"
    }
   ],
   "source": [
    "get_oob(df_keep)"
   ]
  },
  {
   "cell_type": "code",
   "execution_count": 214,
   "metadata": {
    "hidden": true
   },
   "outputs": [
    {
     "name": "stdout",
     "output_type": "stream",
     "text": [
      "['id', 'thumbnail_url'] 0.6893160529227904\n",
      "['description', 'name'] 0.689013881614482\n",
      "['id', 'description', 'name', 'thumbnail_url'] 0.6929377063915508\n"
     ]
    }
   ],
   "source": [
    "for c in (['id','thumbnail_url'], ['description', 'name'],['id', 'description', 'name','thumbnail_url']):\n",
    "    print(c, get_oob(df_keep.drop(c, axis=1)))"
   ]
  },
  {
   "cell_type": "markdown",
   "metadata": {
    "hidden": true
   },
   "source": [
    "Although the results attached to these features do not vary due to temporal effects from training to validation set, these features clearly lead to misleading splits in our decision trees reducing the quality of our model. This makes perfect sense, since it is not possible to gain valuable information out of these features in the format in which they are presented. Thus I exclude them all from the model. "
   ]
  },
  {
   "cell_type": "code",
   "execution_count": 215,
   "metadata": {
    "hidden": true
   },
   "outputs": [],
   "source": [
    "to_drop = ['id', 'description', 'name','thumbnail_url']"
   ]
  },
  {
   "cell_type": "code",
   "execution_count": 216,
   "metadata": {
    "hidden": true
   },
   "outputs": [],
   "source": [
    "df_keep.drop(to_drop, axis=1, inplace=True)\n",
    "X_train, X_valid, X_train = split_vals(df_keep, n_trn, n_final)"
   ]
  },
  {
   "cell_type": "code",
   "execution_count": 217,
   "metadata": {
    "hidden": true
   },
   "outputs": [],
   "source": [
    "np.save('tmp/keep_cols_airbnb.npy', np.array(df_keep.columns))"
   ]
  },
  {
   "cell_type": "code",
   "execution_count": 218,
   "metadata": {
    "hidden": true
   },
   "outputs": [],
   "source": [
    "keep_cols = np.load('tmp/keep_cols_airbnb.npy', allow_pickle=True)\n",
    "df_keep = df[keep_cols]"
   ]
  },
  {
   "cell_type": "code",
   "execution_count": 219,
   "metadata": {
    "hidden": true
   },
   "outputs": [
    {
     "data": {
      "text/plain": [
       "((54111, 52), (54111,), (10000, 52), (10000, 52))"
      ]
     },
     "execution_count": 219,
     "metadata": {},
     "output_type": "execute_result"
    }
   ],
   "source": [
    "X_train, X_valid, X_test = split_vals(df_keep, n_trn, n_final)\n",
    "y_train, y_valid, y_test = split_vals(y, n_trn, n_final)\n",
    "\n",
    "X_train.shape, y_train.shape, X_valid.shape, X_test.shape"
   ]
  },
  {
   "cell_type": "markdown",
   "metadata": {
    "heading_collapsed": true
   },
   "source": [
    "## Final check"
   ]
  },
  {
   "cell_type": "markdown",
   "metadata": {
    "hidden": true
   },
   "source": [
    "Check of our model on the test set"
   ]
  },
  {
   "cell_type": "code",
   "execution_count": 223,
   "metadata": {
    "hidden": true
   },
   "outputs": [],
   "source": [
    "x, y, nas = proc_df(df_raw, 'log_price')"
   ]
  },
  {
   "cell_type": "code",
   "execution_count": 224,
   "metadata": {
    "hidden": true,
    "scrolled": true
   },
   "outputs": [
    {
     "data": {
      "text/plain": [
       "((64111, 52), (64111,), (10000, 52))"
      ]
     },
     "execution_count": 224,
     "metadata": {},
     "output_type": "execute_result"
    }
   ],
   "source": [
    "def split_vals(a,n): return a[:n].copy(), a[n:].copy()\n",
    "\n",
    "n_test = 10000\n",
    "n_final = len(df)-n_test\n",
    "X_train, X_test = split_vals(df_keep, n_final)\n",
    "y_train, y_test = split_vals(y, n_final)\n",
    "\n",
    "X_train.shape, y_train.shape, X_test.shape"
   ]
  },
  {
   "cell_type": "code",
   "execution_count": 225,
   "metadata": {
    "hidden": true
   },
   "outputs": [],
   "source": [
    "def print_score(m):\n",
    "    res = [rmse(m.predict(X_train), y_train), rmse(m.predict(X_test), y_test),\n",
    "                m.score(X_train, y_train), m.score(X_test, y_test)]\n",
    "    if hasattr(m, 'oob_score_'): res.append(m.oob_score_)\n",
    "    print(res)"
   ]
  },
  {
   "cell_type": "code",
   "execution_count": 226,
   "metadata": {
    "hidden": true,
    "scrolled": true
   },
   "outputs": [
    {
     "name": "stdout",
     "output_type": "stream",
     "text": [
      "Wall time: 2min 7s\n",
      "[0.26652372340738356, 0.3899736948069543, 0.8616053887201788, 0.7094513952827382, 0.7164706785993156]\n"
     ]
    }
   ],
   "source": [
    "m = RandomForestRegressor(n_estimators=500, min_samples_leaf=5, max_features=0.5, n_jobs=-1, oob_score=True)\n",
    "%time m.fit(X_train, y_train)\n",
    "print_score(m)"
   ]
  },
  {
   "cell_type": "markdown",
   "metadata": {
    "hidden": true
   },
   "source": [
    "In the end we are able to reach a slightly improved final result on our test set. Thus, although we were not able to significantly improve our model with our feature engineering, we can be sure that our model works properly (no overfitting on validation set etc.). It is still in the end a good model that explains multiple parts of the variation. However, the model could be improved if we e.g. could properly include the impact of the description and name of the accomodation. Also, the impact of the location is not broadly generalizable as we only look at the data of a few large American cities."
   ]
  }
 ],
 "metadata": {
  "kernelspec": {
   "display_name": "Python 3",
   "language": "python",
   "name": "python3"
  },
  "language_info": {
   "codemirror_mode": {
    "name": "ipython",
    "version": 3
   },
   "file_extension": ".py",
   "mimetype": "text/x-python",
   "name": "python",
   "nbconvert_exporter": "python",
   "pygments_lexer": "ipython3",
   "version": "3.6.10"
  }
 },
 "nbformat": 4,
 "nbformat_minor": 4
}
